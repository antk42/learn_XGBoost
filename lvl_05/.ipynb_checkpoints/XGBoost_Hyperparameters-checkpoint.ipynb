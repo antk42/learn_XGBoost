{
 "cells": [
  {
   "cell_type": "markdown",
   "id": "da34b728-d2ff-42a7-a980-cd4b51a0a457",
   "metadata": {},
   "source": [
    "# Libs:"
   ]
  },
  {
   "cell_type": "code",
   "execution_count": 32,
   "id": "3ab38e31-c554-4ba8-bf34-fd7e28c98859",
   "metadata": {},
   "outputs": [],
   "source": [
    "import pandas as pd\n",
    "import numpy as np\n",
    "\n",
    "from sklearn.metrics import accuracy_score\n",
    "# Import cross_val_score\n",
    "from sklearn.model_selection import cross_val_score\n",
    "\n",
    "\n",
    "# Import train_test_split\n",
    "from sklearn.model_selection import train_test_split\n",
    "\n",
    "\n",
    "\n",
    "# Import StratifiedKFold\n",
    "from sklearn.model_selection import StratifiedKFold\n",
    "# Import GridSearchCV\n",
    "from sklearn.model_selection import GridSearchCV, RandomizedSearchCV, StratifiedKFold\n",
    "\n",
    "\n",
    "from xgboost import XGBClassifier"
   ]
  },
  {
   "cell_type": "code",
   "execution_count": 7,
   "id": "e3e14b95-21c7-41b3-ae8c-d7aa8926207c",
   "metadata": {},
   "outputs": [
    {
     "data": {
      "text/html": [
       "<div>\n",
       "<style scoped>\n",
       "    .dataframe tbody tr th:only-of-type {\n",
       "        vertical-align: middle;\n",
       "    }\n",
       "\n",
       "    .dataframe tbody tr th {\n",
       "        vertical-align: top;\n",
       "    }\n",
       "\n",
       "    .dataframe thead th {\n",
       "        text-align: right;\n",
       "    }\n",
       "</style>\n",
       "<table border=\"1\" class=\"dataframe\">\n",
       "  <thead>\n",
       "    <tr style=\"text-align: right;\">\n",
       "      <th></th>\n",
       "      <th>age</th>\n",
       "      <th>sex</th>\n",
       "      <th>cp</th>\n",
       "      <th>trestbps</th>\n",
       "      <th>chol</th>\n",
       "      <th>fbs</th>\n",
       "      <th>restecg</th>\n",
       "      <th>thalach</th>\n",
       "      <th>exang</th>\n",
       "      <th>oldpeak</th>\n",
       "      <th>slope</th>\n",
       "      <th>ca</th>\n",
       "      <th>thal</th>\n",
       "      <th>target</th>\n",
       "    </tr>\n",
       "  </thead>\n",
       "  <tbody>\n",
       "    <tr>\n",
       "      <th>0</th>\n",
       "      <td>63</td>\n",
       "      <td>1</td>\n",
       "      <td>3</td>\n",
       "      <td>145</td>\n",
       "      <td>233</td>\n",
       "      <td>1</td>\n",
       "      <td>0</td>\n",
       "      <td>150</td>\n",
       "      <td>0</td>\n",
       "      <td>2.3</td>\n",
       "      <td>0</td>\n",
       "      <td>0</td>\n",
       "      <td>1</td>\n",
       "      <td>1</td>\n",
       "    </tr>\n",
       "    <tr>\n",
       "      <th>1</th>\n",
       "      <td>37</td>\n",
       "      <td>1</td>\n",
       "      <td>2</td>\n",
       "      <td>130</td>\n",
       "      <td>250</td>\n",
       "      <td>0</td>\n",
       "      <td>1</td>\n",
       "      <td>187</td>\n",
       "      <td>0</td>\n",
       "      <td>3.5</td>\n",
       "      <td>0</td>\n",
       "      <td>0</td>\n",
       "      <td>2</td>\n",
       "      <td>1</td>\n",
       "    </tr>\n",
       "    <tr>\n",
       "      <th>2</th>\n",
       "      <td>41</td>\n",
       "      <td>0</td>\n",
       "      <td>1</td>\n",
       "      <td>130</td>\n",
       "      <td>204</td>\n",
       "      <td>0</td>\n",
       "      <td>0</td>\n",
       "      <td>172</td>\n",
       "      <td>0</td>\n",
       "      <td>1.4</td>\n",
       "      <td>2</td>\n",
       "      <td>0</td>\n",
       "      <td>2</td>\n",
       "      <td>1</td>\n",
       "    </tr>\n",
       "    <tr>\n",
       "      <th>3</th>\n",
       "      <td>56</td>\n",
       "      <td>1</td>\n",
       "      <td>1</td>\n",
       "      <td>120</td>\n",
       "      <td>236</td>\n",
       "      <td>0</td>\n",
       "      <td>1</td>\n",
       "      <td>178</td>\n",
       "      <td>0</td>\n",
       "      <td>0.8</td>\n",
       "      <td>2</td>\n",
       "      <td>0</td>\n",
       "      <td>2</td>\n",
       "      <td>1</td>\n",
       "    </tr>\n",
       "    <tr>\n",
       "      <th>4</th>\n",
       "      <td>57</td>\n",
       "      <td>0</td>\n",
       "      <td>0</td>\n",
       "      <td>120</td>\n",
       "      <td>354</td>\n",
       "      <td>0</td>\n",
       "      <td>1</td>\n",
       "      <td>163</td>\n",
       "      <td>1</td>\n",
       "      <td>0.6</td>\n",
       "      <td>2</td>\n",
       "      <td>0</td>\n",
       "      <td>2</td>\n",
       "      <td>1</td>\n",
       "    </tr>\n",
       "  </tbody>\n",
       "</table>\n",
       "</div>"
      ],
      "text/plain": [
       "   age  sex  cp  trestbps  chol  fbs  restecg  thalach  exang  oldpeak  slope  \\\n",
       "0   63    1   3       145   233    1        0      150      0      2.3      0   \n",
       "1   37    1   2       130   250    0        1      187      0      3.5      0   \n",
       "2   41    0   1       130   204    0        0      172      0      1.4      2   \n",
       "3   56    1   1       120   236    0        1      178      0      0.8      2   \n",
       "4   57    0   0       120   354    0        1      163      1      0.6      2   \n",
       "\n",
       "   ca  thal  target  \n",
       "0   0     1       1  \n",
       "1   0     2       1  \n",
       "2   0     2       1  \n",
       "3   0     2       1  \n",
       "4   0     2       1  "
      ]
     },
     "execution_count": 7,
     "metadata": {},
     "output_type": "execute_result"
    }
   ],
   "source": [
    "df= pd.read_csv('/home/antonius/Projects/DS_Projects/learn_XGBoost/data/heart_disease.csv')\n",
    "df.head()"
   ]
  },
  {
   "cell_type": "code",
   "execution_count": 8,
   "id": "69176b90-cd03-41ae-9152-af82ad0fbe51",
   "metadata": {},
   "outputs": [
    {
     "data": {
      "text/plain": [
       "303"
      ]
     },
     "execution_count": 8,
     "metadata": {},
     "output_type": "execute_result"
    }
   ],
   "source": [
    "len(df)"
   ]
  },
  {
   "cell_type": "code",
   "execution_count": 9,
   "id": "09847a5a-e021-4e55-af28-70e3b2533ac3",
   "metadata": {},
   "outputs": [
    {
     "name": "stdout",
     "output_type": "stream",
     "text": [
      "<class 'pandas.core.frame.DataFrame'>\n",
      "RangeIndex: 303 entries, 0 to 302\n",
      "Data columns (total 14 columns):\n",
      " #   Column    Non-Null Count  Dtype  \n",
      "---  ------    --------------  -----  \n",
      " 0   age       303 non-null    int64  \n",
      " 1   sex       303 non-null    int64  \n",
      " 2   cp        303 non-null    int64  \n",
      " 3   trestbps  303 non-null    int64  \n",
      " 4   chol      303 non-null    int64  \n",
      " 5   fbs       303 non-null    int64  \n",
      " 6   restecg   303 non-null    int64  \n",
      " 7   thalach   303 non-null    int64  \n",
      " 8   exang     303 non-null    int64  \n",
      " 9   oldpeak   303 non-null    float64\n",
      " 10  slope     303 non-null    int64  \n",
      " 11  ca        303 non-null    int64  \n",
      " 12  thal      303 non-null    int64  \n",
      " 13  target    303 non-null    int64  \n",
      "dtypes: float64(1), int64(13)\n",
      "memory usage: 33.3 KB\n"
     ]
    }
   ],
   "source": [
    "df.info()"
   ]
  },
  {
   "cell_type": "markdown",
   "id": "a37ceec1-69a6-4242-90a5-3cc36457db3b",
   "metadata": {},
   "source": [
    "# XGBClassifier"
   ]
  },
  {
   "cell_type": "code",
   "execution_count": 11,
   "id": "3ebaa2e8-0789-40a5-beb4-1ec0430100c3",
   "metadata": {},
   "outputs": [],
   "source": [
    "# Split data into X and y\n",
    "X = df.iloc[:, :-1]\n",
    "y = df.iloc[:, -1]"
   ]
  },
  {
   "cell_type": "code",
   "execution_count": 12,
   "id": "e816f7c1-430c-4205-968b-e17f864fd324",
   "metadata": {},
   "outputs": [],
   "source": [
    "model = XGBClassifier(\n",
    "    booster='gbtree',\n",
    "    objective='binary:logistic',\n",
    "    random_state=42\n",
    ")"
   ]
  },
  {
   "cell_type": "code",
   "execution_count": 14,
   "id": "556740b1-a913-4b42-91fe-3d60f9253433",
   "metadata": {},
   "outputs": [
    {
     "name": "stdout",
     "output_type": "stream",
     "text": [
      "Accuracy: [0.84 0.85 0.82 0.8  0.77]\n",
      "Accuracy mean: 0.81\n"
     ]
    }
   ],
   "source": [
    "# Obtain scores of cross-validation\n",
    "scores = cross_val_score(\n",
    "    model,\n",
    "    X,\n",
    "    y,\n",
    "    cv=5\n",
    ")\n",
    "\n",
    "# Display accuracy\n",
    "print('Accuracy:', np.round(scores, 2))\n",
    "\n",
    "# Display mean accuracy\n",
    "print('Accuracy mean: %0.2f' % (scores.mean()))"
   ]
  },
  {
   "cell_type": "markdown",
   "id": "5035302b-6e20-4d77-85a8-8cac92818e6a",
   "metadata": {},
   "source": [
    "# GridSearchCV"
   ]
  },
  {
   "cell_type": "code",
   "execution_count": 19,
   "id": "51d0a5bb-d6c8-4684-a7d1-22f30dc0bcf0",
   "metadata": {},
   "outputs": [],
   "source": [
    "kfold = StratifiedKFold(\n",
    "    n_splits=5,\n",
    "    shuffle=True,\n",
    "    random_state=42\n",
    ")"
   ]
  },
  {
   "cell_type": "code",
   "execution_count": 20,
   "id": "7ac0f557-fad6-48c8-bd12-bdd3ccaf2974",
   "metadata": {},
   "outputs": [
    {
     "name": "stdout",
     "output_type": "stream",
     "text": [
      "Accuracy: [0.85 0.72 0.74 0.82 0.78]\n",
      "Accuracy mean: 0.78\n"
     ]
    }
   ],
   "source": [
    "# Obtain scores of cross-validation\n",
    "scores = cross_val_score(\n",
    "    model,\n",
    "    X,\n",
    "    y,\n",
    "    cv=kfold\n",
    ")\n",
    "\n",
    "# Display accuracy\n",
    "print('Accuracy:', np.round(scores, 2))\n",
    "\n",
    "# Display mean accuracy\n",
    "print('Accuracy mean: %0.2f' % (scores.mean()))"
   ]
  },
  {
   "cell_type": "code",
   "execution_count": 21,
   "id": "36307e6f-c653-4b74-a86c-28035822b43c",
   "metadata": {},
   "outputs": [],
   "source": [
    "kfold = StratifiedKFold(\n",
    "    n_splits=5,\n",
    "    shuffle=True,\n",
    "    random_state=42\n",
    ")"
   ]
  },
  {
   "cell_type": "code",
   "execution_count": 24,
   "id": "a7860c5d-b190-4697-b490-137fc07532f8",
   "metadata": {},
   "outputs": [],
   "source": [
    "def grid_search(params, random=False): \n",
    "    \n",
    "    xgb = XGBClassifier(booster='gbtree',\n",
    "                        objective='binary:logistic',\n",
    "                        random_state=42\n",
    "                       )\n",
    "    \n",
    "    kfold = StratifiedKFold(\n",
    "        n_splits=5,\n",
    "        shuffle=True,\n",
    "        random_state=2\n",
    "    )\n",
    "    \n",
    "    if random:\n",
    "        grid = RandomizedSearchCV(xgb,\n",
    "                                  params,\n",
    "                                  cv=kfold,\n",
    "                                  n_iter=20,\n",
    "                                  n_jobs=-1,\n",
    "                                  random_state=42\n",
    "                                 )\n",
    "    else:\n",
    "        # Instantiate GridSearchCV as grid_reg\n",
    "        grid = GridSearchCV(xgb,\n",
    "                            params,\n",
    "                            cv=kfold,\n",
    "                            n_jobs=-1\n",
    "                           )\n",
    "    \n",
    "    # Fit grid_reg on X_train and y_train\n",
    "    grid.fit(X, y)\n",
    "\n",
    "    # Extract best params\n",
    "    best_params = grid.best_params_\n",
    "\n",
    "    # Print best params\n",
    "    print(\"Best params:\", best_params)\n",
    "    \n",
    "    # Compute best score\n",
    "    best_score = grid.best_score_\n",
    "\n",
    "    # Print best score\n",
    "    print(\"Best score: {:.5f}\".format(best_score))"
   ]
  },
  {
   "cell_type": "code",
   "execution_count": 25,
   "id": "ae11013f-0d67-49b0-bd54-dd5c6e59bb17",
   "metadata": {},
   "outputs": [
    {
     "name": "stdout",
     "output_type": "stream",
     "text": [
      "Best params: {'n_estimators': 100}\n",
      "Best score: 0.78235\n"
     ]
    }
   ],
   "source": [
    "grid_search(params={\n",
    "    'n_estimators':[100, 200, 400, 800]\n",
    "})"
   ]
  },
  {
   "cell_type": "code",
   "execution_count": 26,
   "id": "b063522a-2acc-456f-a4e5-85d98d8028ef",
   "metadata": {},
   "outputs": [
    {
     "name": "stdout",
     "output_type": "stream",
     "text": [
      "Best params: {'learning_rate': 0.05}\n",
      "Best score: 0.79585\n"
     ]
    }
   ],
   "source": [
    "grid_search(params={\n",
    "    'learning_rate':[0.01, 0.05, 0.1, 0.2, 0.3, 0.4, 0.5]\n",
    "})"
   ]
  },
  {
   "cell_type": "code",
   "execution_count": 27,
   "id": "2b769d05-f93b-4083-929d-5c8748839368",
   "metadata": {},
   "outputs": [
    {
     "name": "stdout",
     "output_type": "stream",
     "text": [
      "Best params: {'max_depth': 2}\n",
      "Best score: 0.79902\n"
     ]
    }
   ],
   "source": [
    "grid_search(params={\n",
    "    'max_depth':[2, 3, 5, 6, 8]\n",
    "})"
   ]
  },
  {
   "cell_type": "code",
   "execution_count": 28,
   "id": "e1904fd3-a8ac-4c97-9f7b-885998d7e949",
   "metadata": {},
   "outputs": [
    {
     "name": "stdout",
     "output_type": "stream",
     "text": [
      "Best params: {'gamma': 0.5}\n",
      "Best score: 0.79574\n"
     ]
    }
   ],
   "source": [
    "grid_search(params={\n",
    "    'gamma':[0, 0.01, 0.1, 0.5, 1, 2]\n",
    "})"
   ]
  },
  {
   "cell_type": "code",
   "execution_count": 29,
   "id": "9800a8ed-e2de-47e6-b6c6-f8573a1c9bae",
   "metadata": {},
   "outputs": [
    {
     "name": "stdout",
     "output_type": "stream",
     "text": [
      "Best params: {'min_child_weight': 5}\n",
      "Best score: 0.81219\n"
     ]
    }
   ],
   "source": [
    "grid_search(params={\n",
    "    'min_child_weight':[1, 2, 3, 4, 5]\n",
    "})"
   ]
  },
  {
   "cell_type": "code",
   "execution_count": 30,
   "id": "873e24f4-c619-4118-a151-ef3fc0e9e862",
   "metadata": {},
   "outputs": [
    {
     "name": "stdout",
     "output_type": "stream",
     "text": [
      "Best params: {'subsample': 0.7}\n",
      "Best score: 0.80546\n"
     ]
    }
   ],
   "source": [
    "grid_search(params={\n",
    "    'subsample':[0.5, 0.7, 0.8, 0.9, 1]\n",
    "})"
   ]
  },
  {
   "cell_type": "code",
   "execution_count": 31,
   "id": "2a82936e-bf64-4ae3-bfe8-59f1f665fe13",
   "metadata": {},
   "outputs": [
    {
     "name": "stdout",
     "output_type": "stream",
     "text": [
      "Best params: {'colsample_bytree': 0.9}\n",
      "Best score: 0.79896\n"
     ]
    }
   ],
   "source": [
    "grid_search(params={\n",
    "    'colsample_bytree':[0.5, 0.7, 0.8, 0.9, 1]\n",
    "})"
   ]
  },
  {
   "cell_type": "markdown",
   "id": "d9f69455-bf73-472c-a1f6-7b8f21a2ba25",
   "metadata": {},
   "source": [
    "# Split data"
   ]
  },
  {
   "cell_type": "code",
   "execution_count": 33,
   "id": "8f3f82df-1253-4f2e-bae8-74ea6c9711d2",
   "metadata": {},
   "outputs": [],
   "source": [
    "X_train, X_test, y_train, y_test = train_test_split(\n",
    "    X,\n",
    "    y,\n",
    "    random_state=42\n",
    ")"
   ]
  },
  {
   "cell_type": "code",
   "execution_count": 34,
   "id": "91e841c2-da92-4449-a29e-7c6e01f156b2",
   "metadata": {},
   "outputs": [
    {
     "name": "stdout",
     "output_type": "stream",
     "text": [
      "[0]\tvalidation_0-error:0.23684\n",
      "[1]\tvalidation_0-error:0.22368\n",
      "[2]\tvalidation_0-error:0.22368\n",
      "[3]\tvalidation_0-error:0.21053\n"
     ]
    },
    {
     "name": "stderr",
     "output_type": "stream",
     "text": [
      "/home/antonius/.local/lib/python3.10/site-packages/xgboost/sklearn.py:835: UserWarning: `eval_metric` in `fit` method is deprecated for better compatibility with scikit-learn, use `eval_metric` in constructor or`set_params` instead.\n",
      "  warnings.warn(\n"
     ]
    },
    {
     "name": "stdout",
     "output_type": "stream",
     "text": [
      "[4]\tvalidation_0-error:0.22368\n",
      "[5]\tvalidation_0-error:0.18421\n",
      "[6]\tvalidation_0-error:0.21053\n",
      "[7]\tvalidation_0-error:0.22368\n",
      "[8]\tvalidation_0-error:0.19737\n",
      "[9]\tvalidation_0-error:0.19737\n",
      "[10]\tvalidation_0-error:0.18421\n",
      "[11]\tvalidation_0-error:0.18421\n",
      "[12]\tvalidation_0-error:0.19737\n",
      "[13]\tvalidation_0-error:0.17105\n",
      "[14]\tvalidation_0-error:0.18421\n",
      "[15]\tvalidation_0-error:0.18421\n",
      "[16]\tvalidation_0-error:0.18421\n",
      "[17]\tvalidation_0-error:0.18421\n",
      "[18]\tvalidation_0-error:0.18421\n",
      "[19]\tvalidation_0-error:0.19737\n",
      "[20]\tvalidation_0-error:0.18421\n",
      "[21]\tvalidation_0-error:0.18421\n",
      "[22]\tvalidation_0-error:0.18421\n",
      "[23]\tvalidation_0-error:0.18421\n",
      "[24]\tvalidation_0-error:0.18421\n",
      "[25]\tvalidation_0-error:0.18421\n",
      "[26]\tvalidation_0-error:0.18421\n",
      "[27]\tvalidation_0-error:0.18421\n",
      "[28]\tvalidation_0-error:0.18421\n",
      "[29]\tvalidation_0-error:0.18421\n",
      "[30]\tvalidation_0-error:0.18421\n",
      "[31]\tvalidation_0-error:0.17105\n",
      "[32]\tvalidation_0-error:0.18421\n",
      "[33]\tvalidation_0-error:0.18421\n",
      "[34]\tvalidation_0-error:0.18421\n",
      "[35]\tvalidation_0-error:0.17105\n",
      "[36]\tvalidation_0-error:0.17105\n",
      "[37]\tvalidation_0-error:0.17105\n",
      "[38]\tvalidation_0-error:0.18421\n",
      "[39]\tvalidation_0-error:0.17105\n",
      "[40]\tvalidation_0-error:0.18421\n",
      "[41]\tvalidation_0-error:0.18421\n",
      "[42]\tvalidation_0-error:0.18421\n",
      "[43]\tvalidation_0-error:0.18421\n",
      "[44]\tvalidation_0-error:0.18421\n",
      "[45]\tvalidation_0-error:0.18421\n",
      "[46]\tvalidation_0-error:0.18421\n",
      "[47]\tvalidation_0-error:0.18421\n",
      "[48]\tvalidation_0-error:0.18421\n",
      "[49]\tvalidation_0-error:0.18421\n",
      "[50]\tvalidation_0-error:0.18421\n",
      "[51]\tvalidation_0-error:0.18421\n",
      "[52]\tvalidation_0-error:0.18421\n",
      "[53]\tvalidation_0-error:0.18421\n",
      "[54]\tvalidation_0-error:0.18421\n",
      "[55]\tvalidation_0-error:0.18421\n",
      "[56]\tvalidation_0-error:0.18421\n",
      "[57]\tvalidation_0-error:0.18421\n",
      "[58]\tvalidation_0-error:0.18421\n",
      "[59]\tvalidation_0-error:0.18421\n",
      "[60]\tvalidation_0-error:0.18421\n",
      "[61]\tvalidation_0-error:0.18421\n",
      "[62]\tvalidation_0-error:0.18421\n",
      "[63]\tvalidation_0-error:0.18421\n",
      "[64]\tvalidation_0-error:0.18421\n",
      "[65]\tvalidation_0-error:0.18421\n",
      "[66]\tvalidation_0-error:0.18421\n",
      "[67]\tvalidation_0-error:0.18421\n",
      "[68]\tvalidation_0-error:0.18421\n",
      "[69]\tvalidation_0-error:0.18421\n",
      "[70]\tvalidation_0-error:0.18421\n",
      "[71]\tvalidation_0-error:0.18421\n",
      "[72]\tvalidation_0-error:0.18421\n",
      "[73]\tvalidation_0-error:0.18421\n",
      "[74]\tvalidation_0-error:0.18421\n",
      "[75]\tvalidation_0-error:0.18421\n",
      "[76]\tvalidation_0-error:0.18421\n",
      "[77]\tvalidation_0-error:0.18421\n",
      "[78]\tvalidation_0-error:0.18421\n",
      "[79]\tvalidation_0-error:0.18421\n",
      "[80]\tvalidation_0-error:0.18421\n",
      "[81]\tvalidation_0-error:0.18421\n",
      "[82]\tvalidation_0-error:0.18421\n",
      "[83]\tvalidation_0-error:0.18421\n",
      "[84]\tvalidation_0-error:0.18421\n",
      "[85]\tvalidation_0-error:0.18421\n",
      "[86]\tvalidation_0-error:0.18421\n",
      "[87]\tvalidation_0-error:0.18421\n",
      "[88]\tvalidation_0-error:0.18421\n",
      "[89]\tvalidation_0-error:0.18421\n",
      "[90]\tvalidation_0-error:0.18421\n",
      "[91]\tvalidation_0-error:0.18421\n",
      "[92]\tvalidation_0-error:0.18421\n",
      "[93]\tvalidation_0-error:0.18421\n",
      "[94]\tvalidation_0-error:0.18421\n",
      "[95]\tvalidation_0-error:0.18421\n",
      "[96]\tvalidation_0-error:0.18421\n",
      "[97]\tvalidation_0-error:0.18421\n",
      "[98]\tvalidation_0-error:0.18421\n",
      "[99]\tvalidation_0-error:0.18421\n",
      "Accuracy: 81.58%\n"
     ]
    }
   ],
   "source": [
    "model = XGBClassifier(\n",
    "    booster='gbtree',\n",
    "    objective='binary:logistic',\n",
    "    random_state=42\n",
    ")\n",
    "eval_set = [(X_test, y_test)]\n",
    "eval_metric='error'\n",
    "model.fit(X_train, y_train,\n",
    "          eval_metric=eval_metric,\n",
    "          eval_set=eval_set\n",
    "         )\n",
    "\n",
    "# make predictions for test data\n",
    "y_pred = model.predict(X_test)\n",
    "\n",
    "# evaluate predictions\n",
    "accuracy = accuracy_score(y_test, y_pred)\n",
    "print(\"Accuracy: %.2f%%\" % (accuracy * 100.0))"
   ]
  },
  {
   "cell_type": "code",
   "execution_count": 35,
   "id": "8f45e80f-5ec4-4de7-b6e4-3810fb1c5978",
   "metadata": {},
   "outputs": [
    {
     "name": "stdout",
     "output_type": "stream",
     "text": [
      "[0]\tvalidation_0-error:0.23684\n",
      "[1]\tvalidation_0-error:0.22368\n",
      "[2]\tvalidation_0-error:0.22368\n",
      "[3]\tvalidation_0-error:0.21053\n"
     ]
    },
    {
     "name": "stderr",
     "output_type": "stream",
     "text": [
      "/home/antonius/.local/lib/python3.10/site-packages/xgboost/sklearn.py:835: UserWarning: `eval_metric` in `fit` method is deprecated for better compatibility with scikit-learn, use `eval_metric` in constructor or`set_params` instead.\n",
      "  warnings.warn(\n",
      "/home/antonius/.local/lib/python3.10/site-packages/xgboost/sklearn.py:835: UserWarning: `early_stopping_rounds` in `fit` method is deprecated for better compatibility with scikit-learn, use `early_stopping_rounds` in constructor or`set_params` instead.\n",
      "  warnings.warn(\n"
     ]
    },
    {
     "name": "stdout",
     "output_type": "stream",
     "text": [
      "[4]\tvalidation_0-error:0.22368\n",
      "[5]\tvalidation_0-error:0.18421\n",
      "[6]\tvalidation_0-error:0.21053\n",
      "[7]\tvalidation_0-error:0.22368\n",
      "[8]\tvalidation_0-error:0.19737\n",
      "[9]\tvalidation_0-error:0.19737\n",
      "[10]\tvalidation_0-error:0.18421\n",
      "[11]\tvalidation_0-error:0.18421\n",
      "[12]\tvalidation_0-error:0.19737\n",
      "[13]\tvalidation_0-error:0.17105\n",
      "[14]\tvalidation_0-error:0.18421\n",
      "[15]\tvalidation_0-error:0.18421\n",
      "[16]\tvalidation_0-error:0.18421\n",
      "[17]\tvalidation_0-error:0.18421\n",
      "[18]\tvalidation_0-error:0.18421\n",
      "[19]\tvalidation_0-error:0.19737\n",
      "[20]\tvalidation_0-error:0.18421\n",
      "[21]\tvalidation_0-error:0.18421\n",
      "[22]\tvalidation_0-error:0.18421\n",
      "[23]\tvalidation_0-error:0.18421\n",
      "Accuracy: 82.89%\n"
     ]
    }
   ],
   "source": [
    "model = XGBClassifier(\n",
    "    booster='gbtree',\n",
    "    objective='binary:logistic',\n",
    "    random_state=42\n",
    ")\n",
    "\n",
    "eval_set = [(X_test, y_test)]\n",
    "eval_metric=\"error\"\n",
    "\n",
    "model.fit(X_train,\n",
    "          y_train,\n",
    "          eval_metric=eval_metric,\n",
    "          eval_set=eval_set,\n",
    "          early_stopping_rounds=10,\n",
    "          verbose=True\n",
    "         )\n",
    "\n",
    "y_pred = model.predict(X_test)\n",
    "accuracy = accuracy_score(y_test, y_pred)\n",
    "print(\"Accuracy: %.2f%%\" % (accuracy * 100.0))"
   ]
  },
  {
   "cell_type": "code",
   "execution_count": 36,
   "id": "3fcc0754-fa08-4c40-9d6d-4cf47b09ed15",
   "metadata": {},
   "outputs": [
    {
     "name": "stdout",
     "output_type": "stream",
     "text": [
      "[0]\tvalidation_0-error:0.23684\n",
      "[1]\tvalidation_0-error:0.22368\n",
      "[2]\tvalidation_0-error:0.22368\n",
      "[3]\tvalidation_0-error:0.21053\n"
     ]
    },
    {
     "name": "stderr",
     "output_type": "stream",
     "text": [
      "/home/antonius/.local/lib/python3.10/site-packages/xgboost/sklearn.py:835: UserWarning: `eval_metric` in `fit` method is deprecated for better compatibility with scikit-learn, use `eval_metric` in constructor or`set_params` instead.\n",
      "  warnings.warn(\n",
      "/home/antonius/.local/lib/python3.10/site-packages/xgboost/sklearn.py:835: UserWarning: `early_stopping_rounds` in `fit` method is deprecated for better compatibility with scikit-learn, use `early_stopping_rounds` in constructor or`set_params` instead.\n",
      "  warnings.warn(\n"
     ]
    },
    {
     "name": "stdout",
     "output_type": "stream",
     "text": [
      "[4]\tvalidation_0-error:0.22368\n",
      "[5]\tvalidation_0-error:0.18421\n",
      "[6]\tvalidation_0-error:0.21053\n",
      "[7]\tvalidation_0-error:0.22368\n",
      "[8]\tvalidation_0-error:0.19737\n",
      "[9]\tvalidation_0-error:0.19737\n",
      "[10]\tvalidation_0-error:0.18421\n",
      "[11]\tvalidation_0-error:0.18421\n",
      "[12]\tvalidation_0-error:0.19737\n",
      "[13]\tvalidation_0-error:0.17105\n",
      "[14]\tvalidation_0-error:0.18421\n",
      "[15]\tvalidation_0-error:0.18421\n",
      "[16]\tvalidation_0-error:0.18421\n",
      "[17]\tvalidation_0-error:0.18421\n",
      "[18]\tvalidation_0-error:0.18421\n",
      "[19]\tvalidation_0-error:0.19737\n",
      "[20]\tvalidation_0-error:0.18421\n",
      "[21]\tvalidation_0-error:0.18421\n",
      "[22]\tvalidation_0-error:0.18421\n",
      "[23]\tvalidation_0-error:0.18421\n",
      "[24]\tvalidation_0-error:0.18421\n",
      "[25]\tvalidation_0-error:0.18421\n",
      "[26]\tvalidation_0-error:0.18421\n",
      "[27]\tvalidation_0-error:0.18421\n",
      "[28]\tvalidation_0-error:0.18421\n",
      "[29]\tvalidation_0-error:0.18421\n",
      "[30]\tvalidation_0-error:0.18421\n",
      "[31]\tvalidation_0-error:0.17105\n",
      "[32]\tvalidation_0-error:0.18421\n",
      "[33]\tvalidation_0-error:0.18421\n",
      "[34]\tvalidation_0-error:0.18421\n",
      "[35]\tvalidation_0-error:0.17105\n",
      "[36]\tvalidation_0-error:0.17105\n",
      "[37]\tvalidation_0-error:0.17105\n",
      "[38]\tvalidation_0-error:0.18421\n",
      "[39]\tvalidation_0-error:0.17105\n",
      "[40]\tvalidation_0-error:0.18421\n",
      "[41]\tvalidation_0-error:0.18421\n",
      "[42]\tvalidation_0-error:0.18421\n",
      "[43]\tvalidation_0-error:0.18421\n",
      "[44]\tvalidation_0-error:0.18421\n",
      "[45]\tvalidation_0-error:0.18421\n",
      "[46]\tvalidation_0-error:0.18421\n",
      "[47]\tvalidation_0-error:0.18421\n",
      "[48]\tvalidation_0-error:0.18421\n",
      "[49]\tvalidation_0-error:0.18421\n",
      "[50]\tvalidation_0-error:0.18421\n",
      "[51]\tvalidation_0-error:0.18421\n",
      "[52]\tvalidation_0-error:0.18421\n",
      "[53]\tvalidation_0-error:0.18421\n",
      "[54]\tvalidation_0-error:0.18421\n",
      "[55]\tvalidation_0-error:0.18421\n",
      "[56]\tvalidation_0-error:0.18421\n",
      "[57]\tvalidation_0-error:0.18421\n",
      "[58]\tvalidation_0-error:0.18421\n",
      "[59]\tvalidation_0-error:0.18421\n",
      "[60]\tvalidation_0-error:0.18421\n",
      "[61]\tvalidation_0-error:0.18421\n",
      "[62]\tvalidation_0-error:0.18421\n",
      "[63]\tvalidation_0-error:0.18421\n",
      "[64]\tvalidation_0-error:0.18421\n",
      "[65]\tvalidation_0-error:0.18421\n",
      "[66]\tvalidation_0-error:0.18421\n",
      "[67]\tvalidation_0-error:0.18421\n",
      "[68]\tvalidation_0-error:0.18421\n",
      "[69]\tvalidation_0-error:0.18421\n",
      "[70]\tvalidation_0-error:0.18421\n",
      "[71]\tvalidation_0-error:0.18421\n",
      "[72]\tvalidation_0-error:0.18421\n",
      "[73]\tvalidation_0-error:0.18421\n",
      "[74]\tvalidation_0-error:0.18421\n",
      "[75]\tvalidation_0-error:0.18421\n",
      "[76]\tvalidation_0-error:0.18421\n",
      "[77]\tvalidation_0-error:0.18421\n",
      "[78]\tvalidation_0-error:0.18421\n",
      "[79]\tvalidation_0-error:0.18421\n",
      "[80]\tvalidation_0-error:0.18421\n",
      "[81]\tvalidation_0-error:0.18421\n",
      "[82]\tvalidation_0-error:0.18421\n",
      "[83]\tvalidation_0-error:0.18421\n",
      "[84]\tvalidation_0-error:0.18421\n",
      "[85]\tvalidation_0-error:0.18421\n",
      "[86]\tvalidation_0-error:0.18421\n",
      "[87]\tvalidation_0-error:0.18421\n",
      "[88]\tvalidation_0-error:0.18421\n",
      "[89]\tvalidation_0-error:0.18421\n",
      "[90]\tvalidation_0-error:0.18421\n",
      "[91]\tvalidation_0-error:0.18421\n",
      "[92]\tvalidation_0-error:0.18421\n",
      "[93]\tvalidation_0-error:0.18421\n",
      "[94]\tvalidation_0-error:0.18421\n",
      "[95]\tvalidation_0-error:0.18421\n",
      "[96]\tvalidation_0-error:0.18421\n",
      "[97]\tvalidation_0-error:0.18421\n",
      "[98]\tvalidation_0-error:0.18421\n",
      "[99]\tvalidation_0-error:0.18421\n",
      "[100]\tvalidation_0-error:0.18421\n",
      "[101]\tvalidation_0-error:0.18421\n",
      "[102]\tvalidation_0-error:0.18421\n",
      "[103]\tvalidation_0-error:0.18421\n",
      "[104]\tvalidation_0-error:0.18421\n",
      "[105]\tvalidation_0-error:0.18421\n",
      "[106]\tvalidation_0-error:0.18421\n",
      "[107]\tvalidation_0-error:0.18421\n",
      "[108]\tvalidation_0-error:0.18421\n",
      "[109]\tvalidation_0-error:0.18421\n",
      "[110]\tvalidation_0-error:0.18421\n",
      "[111]\tvalidation_0-error:0.18421\n",
      "[112]\tvalidation_0-error:0.18421\n",
      "[113]\tvalidation_0-error:0.18421\n",
      "Accuracy: 82.89%\n"
     ]
    }
   ],
   "source": [
    "model = XGBClassifier(\n",
    "    random_state=42,\n",
    "    n_estimators=5000\n",
    ")\n",
    "\n",
    "eval_set = [(X_test, y_test)]\n",
    "eval_metric=\"error\"\n",
    "\n",
    "model.fit(\n",
    "    X_train,\n",
    "    y_train,\n",
    "    eval_metric=eval_metric,\n",
    "    eval_set=eval_set,\n",
    "    early_stopping_rounds=100\n",
    ")\n",
    "\n",
    "y_pred = model.predict(X_test)\n",
    "\n",
    "accuracy = accuracy_score(y_test, y_pred)\n",
    "print(\"Accuracy: %.2f%%\" % (accuracy * 100.0))"
   ]
  },
  {
   "cell_type": "code",
   "execution_count": 37,
   "id": "c1f83367-ed24-461d-a6f6-e771492381b4",
   "metadata": {},
   "outputs": [
    {
     "name": "stdout",
     "output_type": "stream",
     "text": [
      "Best params: {'n_estimators': 50}\n",
      "Best score: 0.78907\n"
     ]
    }
   ],
   "source": [
    "grid_search(params={'n_estimators':[2, 25, 50, 75, 100]})"
   ]
  },
  {
   "cell_type": "code",
   "execution_count": 38,
   "id": "fc81e2c3-a922-4814-8ef0-e9400dcd09eb",
   "metadata": {},
   "outputs": [
    {
     "name": "stdout",
     "output_type": "stream",
     "text": [
      "Best params: {'max_depth': 1, 'n_estimators': 50}\n",
      "Best score: 0.83869\n"
     ]
    }
   ],
   "source": [
    "grid_search(params={'max_depth':[1, 2, 3, 4, 6, 7, 8], \n",
    "                    'n_estimators':[50]})"
   ]
  },
  {
   "cell_type": "code",
   "execution_count": 39,
   "id": "63dd8e43-ad54-4691-8a96-a48666144e09",
   "metadata": {},
   "outputs": [
    {
     "name": "stdout",
     "output_type": "stream",
     "text": [
      "Best params: {'max_depth': 1, 'n_estimators': 50}\n",
      "Best score: 0.83869\n"
     ]
    }
   ],
   "source": [
    "grid_search(params={'max_depth':[1, 2, 3, 4, 6, 7, 8], \n",
    "                    'n_estimators':[2, 50, 100]})"
   ]
  },
  {
   "cell_type": "code",
   "execution_count": 41,
   "id": "561819b3-5f60-4c79-b4f4-91478fcb2e09",
   "metadata": {},
   "outputs": [
    {
     "name": "stdout",
     "output_type": "stream",
     "text": [
      "Best params: {'learning_rate': 0.3, 'max_depth': 1, 'n_estimators': 50}\n",
      "Best score: 0.83869\n"
     ]
    }
   ],
   "source": [
    "grid_search(params={'learning_rate':[0.01, 0.05, 0.1, 0.2, 0.3, 0.4, 0.5], \n",
    "                    'max_depth':[1], \n",
    "                    'n_estimators':[50]})"
   ]
  },
  {
   "cell_type": "code",
   "execution_count": 42,
   "id": "5fa238d1-72b3-406b-830d-c7767b6b14a2",
   "metadata": {},
   "outputs": [
    {
     "name": "stdout",
     "output_type": "stream",
     "text": [
      "Best params: {'max_depth': 1, 'min_child_weight': 1, 'n_estimators': 50}\n",
      "Best score: 0.83869\n"
     ]
    }
   ],
   "source": [
    "grid_search(params={'min_child_weight':[1, 2, 3, 4, 5], \n",
    "                    'max_depth':[1], \n",
    "                    'n_estimators':[50]})"
   ]
  },
  {
   "cell_type": "code",
   "execution_count": 43,
   "id": "9b26ee5d-1cfc-4a1b-92c3-81c86ca02339",
   "metadata": {},
   "outputs": [
    {
     "name": "stdout",
     "output_type": "stream",
     "text": [
      "Best params: {'max_depth': 1, 'n_estimators': 50, 'subsample': 1}\n",
      "Best score: 0.83869\n"
     ]
    }
   ],
   "source": [
    "grid_search(params={'subsample':[0.5, 0.6, 0.7, 0.8, 0.9, 1],\n",
    "                    'max_depth':[1], \n",
    "                    'n_estimators':[50]})"
   ]
  },
  {
   "cell_type": "code",
   "execution_count": 44,
   "id": "316f9ced-7812-47b3-8f80-1206d0c38ce5",
   "metadata": {},
   "outputs": [
    {
     "name": "stdout",
     "output_type": "stream",
     "text": [
      "Best params: {'learning_rate': 0.1, 'max_depth': 2, 'min_child_weight': 5, 'n_estimators': 2, 'subsample': 0.5}\n",
      "Best score: 0.80574\n"
     ]
    }
   ],
   "source": [
    "grid_search(params={'subsample':[0.5, 0.6, 0.7, 0.8, 0.9, 1], \n",
    "                    'min_child_weight':[1, 2, 3, 4, 5], \n",
    "                    'learning_rate':[0.1, 0.2, 0.3, 0.4, 0.5], \n",
    "                    'max_depth':[1, 2, 3, 4, 5], \n",
    "                    'n_estimators':[2]})"
   ]
  },
  {
   "cell_type": "code",
   "execution_count": 45,
   "id": "dc8a5668-6c63-4574-a11f-f609035dabe2",
   "metadata": {},
   "outputs": [
    {
     "name": "stdout",
     "output_type": "stream",
     "text": [
      "Best params: {'colsample_bylevel': 0.8, 'colsample_bynode': 0.8, 'colsample_bytree': 0.6, 'max_depth': 1, 'n_estimators': 50}\n",
      "Best score: 0.84519\n"
     ]
    }
   ],
   "source": [
    "grid_search(params={'colsample_bynode':[0.5, 0.6, 0.7, 0.8, 0.9, 1], \n",
    "                    'colsample_bylevel':[0.5, 0.6, 0.7, 0.8, 0.9, 1], \n",
    "                    'colsample_bytree':[0.5, 0.6, 0.7, 0.8, 0.9, 1], \n",
    "                    'max_depth':[1], \n",
    "                    'n_estimators':[50]})"
   ]
  },
  {
   "cell_type": "code",
   "execution_count": 46,
   "id": "c85d8445-c449-4ca8-bcad-ef63c0458694",
   "metadata": {},
   "outputs": [
    {
     "name": "stdout",
     "output_type": "stream",
     "text": [
      "Best params: {'colsample_bylevel': 0.9, 'colsample_bynode': 0.5, 'colsample_bytree': 0.8, 'gamma': 0, 'max_depth': 1, 'n_estimators': 50}\n",
      "Best score: 0.83852\n"
     ]
    }
   ],
   "source": [
    "grid_search(params={'gamma':[0, 0.01, 0.05, 0.1, 0.5, 1, 2, 3], \n",
    "                    'colsample_bylevel':[0.9], \n",
    "                    'colsample_bytree':[0.8], \n",
    "                    'colsample_bynode':[0.5], \n",
    "                    'max_depth':[1], \n",
    "                    'n_estimators':[50]})"
   ]
  }
 ],
 "metadata": {
  "kernelspec": {
   "display_name": "Python 3 (ipykernel)",
   "language": "python",
   "name": "python3"
  },
  "language_info": {
   "codemirror_mode": {
    "name": "ipython",
    "version": 3
   },
   "file_extension": ".py",
   "mimetype": "text/x-python",
   "name": "python",
   "nbconvert_exporter": "python",
   "pygments_lexer": "ipython3",
   "version": "3.10.9"
  }
 },
 "nbformat": 4,
 "nbformat_minor": 5
}
