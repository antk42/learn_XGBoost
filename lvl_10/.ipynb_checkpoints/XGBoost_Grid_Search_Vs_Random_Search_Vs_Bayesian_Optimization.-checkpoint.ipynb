{
 "cells": [
  {
   "cell_type": "markdown",
   "id": "2abbd0fe-bd80-48cc-9b67-86234b2c254e",
   "metadata": {
    "id": "51W6v_FC6qlq"
   },
   "source": [
    "# Introducing"
   ]
  },
  {
   "cell_type": "markdown",
   "id": "b8bc18f7-4427-4240-bc3a-c60a69b4d3a2",
   "metadata": {
    "id": "0HkdIDWj6Zn_"
   },
   "source": [
    "# Intro"
   ]
  },
  {
   "cell_type": "markdown",
   "id": "3922d046-2d66-447c-a9d3-e708013849c8",
   "metadata": {
    "id": "8xEWUhuhZBMn"
   },
   "source": [
    "Grid search, random search, and Bayesian optimization are techniques for machine learning model hyperparameter tuning. This tutorial covers how to tune XGBoost hyperparameters using Python. You will learn\n",
    "* What are the differences between grid search, random search, and Bayesian optimization?\n",
    "* How to use grid search cross-validation to tune the hyperparameters for the XGBoost model?\n",
    "* How to use random search cross-validation to tune the hyperparameters for the XGBoost model?\n",
    "* How to use Bayesian optimization Hyperopt to tune the hyperparameters for the XGBoost model?\n",
    "* How to compare the results from grid search, random search, and Bayesian optimization Hyperopt?\n",
    "\n",
    "Let's get started!"
   ]
  },
  {
   "cell_type": "markdown",
   "id": "58d3fd37-5f19-47b8-85df-3c48bdbcfe97",
   "metadata": {
    "id": "mEbKaM3XbpYh"
   },
   "source": [
    "# Step 0: Grid Search Vs. Random Search Vs. Bayesian Optimization"
   ]
  },
  {
   "cell_type": "markdown",
   "id": "ea4ec959-47aa-4d13-83bd-163a545301f2",
   "metadata": {
    "id": "_DPXdD5ZcDIO"
   },
   "source": [
    "Grid search, random search, and Bayesian optimization have the same goal of choosing the best hyperparameters for a machine learning model. But they have differences in algorithm and implementation. Understanding these differences is essential for deciding which algorithm to use.\n",
    "\n",
    "* Grid search is an exhaustive way to search hyperparameters. It evaluates every combination of hyperparameters for the model. Therefore, it can take a long time to run when there are a lot of hyperparameter combinations to compare.\n",
    "* Random search pick a fixed number of hyperparameter combinations randomly, so not every single combination is evaluated. Therefore, a more comprehensive range of values and a longer list of hyperparameters can be assessed within a given time. The downside is that sometimes the random selection may not include top performance hyperparameter combinations.\n",
    "* Bayesian optimization utilizes the results from the previous step to decide which hyperparameter combination to evaluate next. The major difference between Bayesian optimization and grid/random search is that grid search and random search consider each hyperparameter combination independently, while Bayesian optimization is dependent on the previous evaluation results."
   ]
  },
  {
   "cell_type": "markdown",
   "id": "30d1f462-47bd-4557-b63c-0dcf334c1d30",
   "metadata": {
    "id": "iH5qFf5dxH0r"
   },
   "source": [
    "# Step 1: Install And Import Libraries"
   ]
  },
  {
   "cell_type": "markdown",
   "id": "8deeb8f5-b4b0-49fe-b04e-3fbcd0cbe5ee",
   "metadata": {
    "id": "F-kYCFWVzSgR"
   },
   "source": [
    "For this tutorial, we will need to import `datasets` to get the breast cancer dataset. `pandas` and `numpy` are for data processing. `StandardScaler'is for standardizing the dataset.\n",
    "\n",
    "`train_test_split`, `XGBClassifier` and `precision_recall_fscore_support` are for model training and performance evaluation.\n",
    "\n",
    "`GridSearchCV`, `RandomizedSearchCV`, and `hyperopt` are the hyperparameter tuning algorithms. `StratifiedKFold` and `cross_val_score` are for the cross-validation."
   ]
  },
  {
   "cell_type": "code",
   "execution_count": 30,
   "id": "ef48486b-c538-4863-a395-629a045db0a3",
   "metadata": {
    "id": "b9eq1PMeYluJ"
   },
   "outputs": [],
   "source": [
    "# Dataset\n",
    "from sklearn import datasets\n",
    "\n",
    "# Data processing\n",
    "import pandas as pd\n",
    "import numpy as np\n",
    "import matplotlib.pyplot as plt\n",
    "plt.style.use('dark_background')\n",
    "\n",
    "# Standardize the data\n",
    "from sklearn.preprocessing import StandardScaler\n",
    "\n",
    "# Model and performance evaluation\n",
    "from sklearn.model_selection import train_test_split\n",
    "\n",
    "from sklearn.metrics import precision_recall_fscore_support as score\n",
    "from sklearn.metrics import confusion_matrix, ConfusionMatrixDisplay\n",
    "from sklearn.metrics import precision_score, recall_score, f1_score, accuracy_score\n",
    "\n",
    "# Hyperparameter tuning\n",
    "from sklearn.model_selection import StratifiedKFold, cross_val_score, GridSearchCV, RandomizedSearchCV\n",
    "from hyperopt import tpe, STATUS_OK, Trials, hp, fmin, STATUS_OK, space_eval\n",
    "\n",
    "from xgboost import XGBClassifier\n",
    "from xgboost import XGBRegressor"
   ]
  },
  {
   "cell_type": "markdown",
   "id": "4320806a-4d06-493e-99d9-36f0f2a15a36",
   "metadata": {
    "id": "xcOT5Ex81YH4"
   },
   "source": [
    "# Step 2: Read Data"
   ]
  },
  {
   "cell_type": "code",
   "execution_count": 3,
   "id": "1676c05e-294e-4ed5-9864-95c9bb0cdaa5",
   "metadata": {
    "colab": {
     "base_uri": "https://localhost:8080/"
    },
    "id": "tlB0ddhT1iOA",
    "outputId": "1752dce8-9092-4fa9-ad24-6d6b19b31309"
   },
   "outputs": [],
   "source": [
    "# Load the breast cancer dataset\n",
    "data = datasets.load_breast_cancer()"
   ]
  },
  {
   "cell_type": "code",
   "execution_count": 4,
   "id": "5aa73701-5dc7-406e-8fbd-d2c94e46e433",
   "metadata": {},
   "outputs": [],
   "source": [
    "# Put the data in pandas dataframe format\n",
    "df = pd.DataFrame(data=data.data, columns=data.feature_names)\n",
    "df['target']=data.target"
   ]
  },
  {
   "cell_type": "code",
   "execution_count": 5,
   "id": "c6577bb9-c28b-4048-aa80-333ed355aeee",
   "metadata": {},
   "outputs": [
    {
     "data": {
      "text/html": [
       "<div>\n",
       "<style scoped>\n",
       "    .dataframe tbody tr th:only-of-type {\n",
       "        vertical-align: middle;\n",
       "    }\n",
       "\n",
       "    .dataframe tbody tr th {\n",
       "        vertical-align: top;\n",
       "    }\n",
       "\n",
       "    .dataframe thead th {\n",
       "        text-align: right;\n",
       "    }\n",
       "</style>\n",
       "<table border=\"1\" class=\"dataframe\">\n",
       "  <thead>\n",
       "    <tr style=\"text-align: right;\">\n",
       "      <th></th>\n",
       "      <th>mean radius</th>\n",
       "      <th>mean texture</th>\n",
       "      <th>mean perimeter</th>\n",
       "      <th>mean area</th>\n",
       "      <th>mean smoothness</th>\n",
       "      <th>mean compactness</th>\n",
       "      <th>mean concavity</th>\n",
       "      <th>mean concave points</th>\n",
       "      <th>mean symmetry</th>\n",
       "      <th>mean fractal dimension</th>\n",
       "      <th>...</th>\n",
       "      <th>worst texture</th>\n",
       "      <th>worst perimeter</th>\n",
       "      <th>worst area</th>\n",
       "      <th>worst smoothness</th>\n",
       "      <th>worst compactness</th>\n",
       "      <th>worst concavity</th>\n",
       "      <th>worst concave points</th>\n",
       "      <th>worst symmetry</th>\n",
       "      <th>worst fractal dimension</th>\n",
       "      <th>target</th>\n",
       "    </tr>\n",
       "  </thead>\n",
       "  <tbody>\n",
       "    <tr>\n",
       "      <th>0</th>\n",
       "      <td>17.99</td>\n",
       "      <td>10.38</td>\n",
       "      <td>122.80</td>\n",
       "      <td>1001.0</td>\n",
       "      <td>0.11840</td>\n",
       "      <td>0.27760</td>\n",
       "      <td>0.3001</td>\n",
       "      <td>0.14710</td>\n",
       "      <td>0.2419</td>\n",
       "      <td>0.07871</td>\n",
       "      <td>...</td>\n",
       "      <td>17.33</td>\n",
       "      <td>184.60</td>\n",
       "      <td>2019.0</td>\n",
       "      <td>0.1622</td>\n",
       "      <td>0.6656</td>\n",
       "      <td>0.7119</td>\n",
       "      <td>0.2654</td>\n",
       "      <td>0.4601</td>\n",
       "      <td>0.11890</td>\n",
       "      <td>0</td>\n",
       "    </tr>\n",
       "    <tr>\n",
       "      <th>1</th>\n",
       "      <td>20.57</td>\n",
       "      <td>17.77</td>\n",
       "      <td>132.90</td>\n",
       "      <td>1326.0</td>\n",
       "      <td>0.08474</td>\n",
       "      <td>0.07864</td>\n",
       "      <td>0.0869</td>\n",
       "      <td>0.07017</td>\n",
       "      <td>0.1812</td>\n",
       "      <td>0.05667</td>\n",
       "      <td>...</td>\n",
       "      <td>23.41</td>\n",
       "      <td>158.80</td>\n",
       "      <td>1956.0</td>\n",
       "      <td>0.1238</td>\n",
       "      <td>0.1866</td>\n",
       "      <td>0.2416</td>\n",
       "      <td>0.1860</td>\n",
       "      <td>0.2750</td>\n",
       "      <td>0.08902</td>\n",
       "      <td>0</td>\n",
       "    </tr>\n",
       "    <tr>\n",
       "      <th>2</th>\n",
       "      <td>19.69</td>\n",
       "      <td>21.25</td>\n",
       "      <td>130.00</td>\n",
       "      <td>1203.0</td>\n",
       "      <td>0.10960</td>\n",
       "      <td>0.15990</td>\n",
       "      <td>0.1974</td>\n",
       "      <td>0.12790</td>\n",
       "      <td>0.2069</td>\n",
       "      <td>0.05999</td>\n",
       "      <td>...</td>\n",
       "      <td>25.53</td>\n",
       "      <td>152.50</td>\n",
       "      <td>1709.0</td>\n",
       "      <td>0.1444</td>\n",
       "      <td>0.4245</td>\n",
       "      <td>0.4504</td>\n",
       "      <td>0.2430</td>\n",
       "      <td>0.3613</td>\n",
       "      <td>0.08758</td>\n",
       "      <td>0</td>\n",
       "    </tr>\n",
       "    <tr>\n",
       "      <th>3</th>\n",
       "      <td>11.42</td>\n",
       "      <td>20.38</td>\n",
       "      <td>77.58</td>\n",
       "      <td>386.1</td>\n",
       "      <td>0.14250</td>\n",
       "      <td>0.28390</td>\n",
       "      <td>0.2414</td>\n",
       "      <td>0.10520</td>\n",
       "      <td>0.2597</td>\n",
       "      <td>0.09744</td>\n",
       "      <td>...</td>\n",
       "      <td>26.50</td>\n",
       "      <td>98.87</td>\n",
       "      <td>567.7</td>\n",
       "      <td>0.2098</td>\n",
       "      <td>0.8663</td>\n",
       "      <td>0.6869</td>\n",
       "      <td>0.2575</td>\n",
       "      <td>0.6638</td>\n",
       "      <td>0.17300</td>\n",
       "      <td>0</td>\n",
       "    </tr>\n",
       "    <tr>\n",
       "      <th>4</th>\n",
       "      <td>20.29</td>\n",
       "      <td>14.34</td>\n",
       "      <td>135.10</td>\n",
       "      <td>1297.0</td>\n",
       "      <td>0.10030</td>\n",
       "      <td>0.13280</td>\n",
       "      <td>0.1980</td>\n",
       "      <td>0.10430</td>\n",
       "      <td>0.1809</td>\n",
       "      <td>0.05883</td>\n",
       "      <td>...</td>\n",
       "      <td>16.67</td>\n",
       "      <td>152.20</td>\n",
       "      <td>1575.0</td>\n",
       "      <td>0.1374</td>\n",
       "      <td>0.2050</td>\n",
       "      <td>0.4000</td>\n",
       "      <td>0.1625</td>\n",
       "      <td>0.2364</td>\n",
       "      <td>0.07678</td>\n",
       "      <td>0</td>\n",
       "    </tr>\n",
       "  </tbody>\n",
       "</table>\n",
       "<p>5 rows × 31 columns</p>\n",
       "</div>"
      ],
      "text/plain": [
       "   mean radius  mean texture  mean perimeter  mean area  mean smoothness  \\\n",
       "0        17.99         10.38          122.80     1001.0          0.11840   \n",
       "1        20.57         17.77          132.90     1326.0          0.08474   \n",
       "2        19.69         21.25          130.00     1203.0          0.10960   \n",
       "3        11.42         20.38           77.58      386.1          0.14250   \n",
       "4        20.29         14.34          135.10     1297.0          0.10030   \n",
       "\n",
       "   mean compactness  mean concavity  mean concave points  mean symmetry  \\\n",
       "0           0.27760          0.3001              0.14710         0.2419   \n",
       "1           0.07864          0.0869              0.07017         0.1812   \n",
       "2           0.15990          0.1974              0.12790         0.2069   \n",
       "3           0.28390          0.2414              0.10520         0.2597   \n",
       "4           0.13280          0.1980              0.10430         0.1809   \n",
       "\n",
       "   mean fractal dimension  ...  worst texture  worst perimeter  worst area  \\\n",
       "0                 0.07871  ...          17.33           184.60      2019.0   \n",
       "1                 0.05667  ...          23.41           158.80      1956.0   \n",
       "2                 0.05999  ...          25.53           152.50      1709.0   \n",
       "3                 0.09744  ...          26.50            98.87       567.7   \n",
       "4                 0.05883  ...          16.67           152.20      1575.0   \n",
       "\n",
       "   worst smoothness  worst compactness  worst concavity  worst concave points  \\\n",
       "0            0.1622             0.6656           0.7119                0.2654   \n",
       "1            0.1238             0.1866           0.2416                0.1860   \n",
       "2            0.1444             0.4245           0.4504                0.2430   \n",
       "3            0.2098             0.8663           0.6869                0.2575   \n",
       "4            0.1374             0.2050           0.4000                0.1625   \n",
       "\n",
       "   worst symmetry  worst fractal dimension  target  \n",
       "0          0.4601                  0.11890       0  \n",
       "1          0.2750                  0.08902       0  \n",
       "2          0.3613                  0.08758       0  \n",
       "3          0.6638                  0.17300       0  \n",
       "4          0.2364                  0.07678       0  \n",
       "\n",
       "[5 rows x 31 columns]"
      ]
     },
     "execution_count": 5,
     "metadata": {},
     "output_type": "execute_result"
    }
   ],
   "source": [
    "df.head()"
   ]
  },
  {
   "cell_type": "code",
   "execution_count": 6,
   "id": "4aa85aab-1ff2-47b8-8bb7-c1500aa47a93",
   "metadata": {},
   "outputs": [
    {
     "name": "stdout",
     "output_type": "stream",
     "text": [
      "<class 'pandas.core.frame.DataFrame'>\n",
      "RangeIndex: 569 entries, 0 to 568\n",
      "Data columns (total 31 columns):\n",
      " #   Column                   Non-Null Count  Dtype  \n",
      "---  ------                   --------------  -----  \n",
      " 0   mean radius              569 non-null    float64\n",
      " 1   mean texture             569 non-null    float64\n",
      " 2   mean perimeter           569 non-null    float64\n",
      " 3   mean area                569 non-null    float64\n",
      " 4   mean smoothness          569 non-null    float64\n",
      " 5   mean compactness         569 non-null    float64\n",
      " 6   mean concavity           569 non-null    float64\n",
      " 7   mean concave points      569 non-null    float64\n",
      " 8   mean symmetry            569 non-null    float64\n",
      " 9   mean fractal dimension   569 non-null    float64\n",
      " 10  radius error             569 non-null    float64\n",
      " 11  texture error            569 non-null    float64\n",
      " 12  perimeter error          569 non-null    float64\n",
      " 13  area error               569 non-null    float64\n",
      " 14  smoothness error         569 non-null    float64\n",
      " 15  compactness error        569 non-null    float64\n",
      " 16  concavity error          569 non-null    float64\n",
      " 17  concave points error     569 non-null    float64\n",
      " 18  symmetry error           569 non-null    float64\n",
      " 19  fractal dimension error  569 non-null    float64\n",
      " 20  worst radius             569 non-null    float64\n",
      " 21  worst texture            569 non-null    float64\n",
      " 22  worst perimeter          569 non-null    float64\n",
      " 23  worst area               569 non-null    float64\n",
      " 24  worst smoothness         569 non-null    float64\n",
      " 25  worst compactness        569 non-null    float64\n",
      " 26  worst concavity          569 non-null    float64\n",
      " 27  worst concave points     569 non-null    float64\n",
      " 28  worst symmetry           569 non-null    float64\n",
      " 29  worst fractal dimension  569 non-null    float64\n",
      " 30  target                   569 non-null    int64  \n",
      "dtypes: float64(30), int64(1)\n",
      "memory usage: 137.9 KB\n"
     ]
    }
   ],
   "source": [
    "df.info()"
   ]
  },
  {
   "cell_type": "markdown",
   "id": "43c3e15f-6340-4c37-b0f8-4b25a586e356",
   "metadata": {
    "id": "CzAEdl1J1oZd"
   },
   "source": [
    "The target variable distribution shows 63% of ones and 37% of zeros in the dataset. One means the patient has breast cancer, and 0 represents the patient does not have breast cancer."
   ]
  },
  {
   "cell_type": "code",
   "execution_count": 7,
   "id": "1befd6f1-3e34-4af7-bd10-f8a0c8c6b640",
   "metadata": {
    "colab": {
     "base_uri": "https://localhost:8080/"
    },
    "id": "QZzgak8J1rqG",
    "outputId": "8d5230ad-6e21-4c61-e25d-824bbabd450c"
   },
   "outputs": [
    {
     "data": {
      "text/plain": [
       "1    0.627417\n",
       "0    0.372583\n",
       "Name: target, dtype: float64"
      ]
     },
     "execution_count": 7,
     "metadata": {},
     "output_type": "execute_result"
    }
   ],
   "source": [
    "df['target'].value_counts(normalize=True)"
   ]
  },
  {
   "cell_type": "markdown",
   "id": "833ef456-da13-4e21-a040-2c363a804eed",
   "metadata": {
    "id": "zte6i1eS1yUL"
   },
   "source": [
    "# Step 3: Train Test Split"
   ]
  },
  {
   "cell_type": "markdown",
   "id": "604de692-8269-41cc-be0f-f0e1c2662f5f",
   "metadata": {
    "id": "KJjenHNe12M4"
   },
   "source": [
    "In step 3, we split the dataset into 80% training and 20% testing dataset. random_state makes the random split results reproducible."
   ]
  },
  {
   "cell_type": "code",
   "execution_count": 8,
   "id": "18829270-cc94-4735-bc0f-96e1406f0a30",
   "metadata": {
    "colab": {
     "base_uri": "https://localhost:8080/"
    },
    "id": "rwPbEf6R16x0",
    "outputId": "929bd394-5c52-452f-fce4-036e136560d4"
   },
   "outputs": [
    {
     "name": "stdout",
     "output_type": "stream",
     "text": [
      "The training dataset has 455 records.\n",
      "The testing dataset has 114 records.\n"
     ]
    }
   ],
   "source": [
    "X_train, X_test, y_train, y_test = train_test_split(df[df.columns.difference(['target'])], \n",
    "                                                    df['target'], \n",
    "                                                    test_size=0.2, \n",
    "                                                    random_state=42)\n",
    "\n",
    "# Check the number of records in training and testing dataset.\n",
    "print(f'The training dataset has {len(X_train)} records.')\n",
    "print(f'The testing dataset has {len(X_test)} records.')"
   ]
  },
  {
   "cell_type": "markdown",
   "id": "1da5a67b-9dfe-4c0d-bed2-e01fe284565d",
   "metadata": {
    "id": "8ySY4Wok2H96"
   },
   "source": [
    "# Step 4: Standardization"
   ]
  },
  {
   "cell_type": "markdown",
   "id": "faac8eaa-61b2-4c88-979a-199ed6a36f5c",
   "metadata": {
    "id": "HFUVqqlF2SfR"
   },
   "source": [
    "Standardization is to rescale the features to the same scale. It is calculated by extracting the mean and divided by the standard deviation. After standardization, each feature has zero mean and unit standard deviation.\n",
    "\n",
    "Standardization should be fit on the training dataset only to prevent test dataset information from leaking into the training process. Then, the test dataset is standardized using the fitting results from the training dataset.\n",
    "\n",
    "There are different types of scalers. StandardScaler and MinMaxScaler are most commonly used. For a dataset with outliers, we can use RobustScaler.\n",
    "\n",
    "We will use `StandardScaler`."
   ]
  },
  {
   "cell_type": "code",
   "execution_count": 10,
   "id": "3c25a720-1530-421f-acf0-3e14d155b6cf",
   "metadata": {},
   "outputs": [
    {
     "data": {
      "text/html": [
       "<div>\n",
       "<style scoped>\n",
       "    .dataframe tbody tr th:only-of-type {\n",
       "        vertical-align: middle;\n",
       "    }\n",
       "\n",
       "    .dataframe tbody tr th {\n",
       "        vertical-align: top;\n",
       "    }\n",
       "\n",
       "    .dataframe thead th {\n",
       "        text-align: right;\n",
       "    }\n",
       "</style>\n",
       "<table border=\"1\" class=\"dataframe\">\n",
       "  <thead>\n",
       "    <tr style=\"text-align: right;\">\n",
       "      <th></th>\n",
       "      <th>area error</th>\n",
       "      <th>compactness error</th>\n",
       "      <th>concave points error</th>\n",
       "      <th>concavity error</th>\n",
       "      <th>fractal dimension error</th>\n",
       "      <th>mean area</th>\n",
       "      <th>mean compactness</th>\n",
       "      <th>mean concave points</th>\n",
       "      <th>mean concavity</th>\n",
       "      <th>mean fractal dimension</th>\n",
       "      <th>...</th>\n",
       "      <th>worst area</th>\n",
       "      <th>worst compactness</th>\n",
       "      <th>worst concave points</th>\n",
       "      <th>worst concavity</th>\n",
       "      <th>worst fractal dimension</th>\n",
       "      <th>worst perimeter</th>\n",
       "      <th>worst radius</th>\n",
       "      <th>worst smoothness</th>\n",
       "      <th>worst symmetry</th>\n",
       "      <th>worst texture</th>\n",
       "    </tr>\n",
       "  </thead>\n",
       "  <tbody>\n",
       "    <tr>\n",
       "      <th>count</th>\n",
       "      <td>455.000000</td>\n",
       "      <td>455.000000</td>\n",
       "      <td>455.000000</td>\n",
       "      <td>455.000000</td>\n",
       "      <td>455.000000</td>\n",
       "      <td>455.000000</td>\n",
       "      <td>455.000000</td>\n",
       "      <td>455.000000</td>\n",
       "      <td>455.000000</td>\n",
       "      <td>455.000000</td>\n",
       "      <td>...</td>\n",
       "      <td>455.000000</td>\n",
       "      <td>455.000000</td>\n",
       "      <td>455.000000</td>\n",
       "      <td>455.000000</td>\n",
       "      <td>455.000000</td>\n",
       "      <td>455.000000</td>\n",
       "      <td>455.000000</td>\n",
       "      <td>455.000000</td>\n",
       "      <td>455.000000</td>\n",
       "      <td>455.000000</td>\n",
       "    </tr>\n",
       "    <tr>\n",
       "      <th>mean</th>\n",
       "      <td>40.071299</td>\n",
       "      <td>0.025635</td>\n",
       "      <td>0.011894</td>\n",
       "      <td>0.032824</td>\n",
       "      <td>0.003820</td>\n",
       "      <td>654.377582</td>\n",
       "      <td>0.103619</td>\n",
       "      <td>0.048280</td>\n",
       "      <td>0.088898</td>\n",
       "      <td>0.062757</td>\n",
       "      <td>...</td>\n",
       "      <td>876.987033</td>\n",
       "      <td>0.252742</td>\n",
       "      <td>0.114182</td>\n",
       "      <td>0.274595</td>\n",
       "      <td>0.083868</td>\n",
       "      <td>107.103121</td>\n",
       "      <td>16.235103</td>\n",
       "      <td>0.131532</td>\n",
       "      <td>0.290502</td>\n",
       "      <td>25.535692</td>\n",
       "    </tr>\n",
       "    <tr>\n",
       "      <th>std</th>\n",
       "      <td>47.236319</td>\n",
       "      <td>0.018607</td>\n",
       "      <td>0.006294</td>\n",
       "      <td>0.032146</td>\n",
       "      <td>0.002787</td>\n",
       "      <td>354.943187</td>\n",
       "      <td>0.052470</td>\n",
       "      <td>0.038060</td>\n",
       "      <td>0.079468</td>\n",
       "      <td>0.007210</td>\n",
       "      <td>...</td>\n",
       "      <td>567.672841</td>\n",
       "      <td>0.155014</td>\n",
       "      <td>0.065326</td>\n",
       "      <td>0.209398</td>\n",
       "      <td>0.017848</td>\n",
       "      <td>33.374664</td>\n",
       "      <td>4.811267</td>\n",
       "      <td>0.023083</td>\n",
       "      <td>0.063151</td>\n",
       "      <td>6.065108</td>\n",
       "    </tr>\n",
       "    <tr>\n",
       "      <th>min</th>\n",
       "      <td>6.802000</td>\n",
       "      <td>0.002252</td>\n",
       "      <td>0.000000</td>\n",
       "      <td>0.000000</td>\n",
       "      <td>0.000895</td>\n",
       "      <td>170.400000</td>\n",
       "      <td>0.019380</td>\n",
       "      <td>0.000000</td>\n",
       "      <td>0.000000</td>\n",
       "      <td>0.049960</td>\n",
       "      <td>...</td>\n",
       "      <td>223.600000</td>\n",
       "      <td>0.027290</td>\n",
       "      <td>0.000000</td>\n",
       "      <td>0.000000</td>\n",
       "      <td>0.055040</td>\n",
       "      <td>54.490000</td>\n",
       "      <td>8.678000</td>\n",
       "      <td>0.071170</td>\n",
       "      <td>0.156500</td>\n",
       "      <td>12.020000</td>\n",
       "    </tr>\n",
       "    <tr>\n",
       "      <th>25%</th>\n",
       "      <td>18.170000</td>\n",
       "      <td>0.012730</td>\n",
       "      <td>0.007691</td>\n",
       "      <td>0.015120</td>\n",
       "      <td>0.002222</td>\n",
       "      <td>420.300000</td>\n",
       "      <td>0.062890</td>\n",
       "      <td>0.020340</td>\n",
       "      <td>0.029320</td>\n",
       "      <td>0.057645</td>\n",
       "      <td>...</td>\n",
       "      <td>516.450000</td>\n",
       "      <td>0.144950</td>\n",
       "      <td>0.063930</td>\n",
       "      <td>0.116550</td>\n",
       "      <td>0.071050</td>\n",
       "      <td>84.255000</td>\n",
       "      <td>13.055000</td>\n",
       "      <td>0.114400</td>\n",
       "      <td>0.249500</td>\n",
       "      <td>21.045000</td>\n",
       "    </tr>\n",
       "    <tr>\n",
       "      <th>50%</th>\n",
       "      <td>24.720000</td>\n",
       "      <td>0.020420</td>\n",
       "      <td>0.011100</td>\n",
       "      <td>0.026150</td>\n",
       "      <td>0.003211</td>\n",
       "      <td>551.700000</td>\n",
       "      <td>0.090970</td>\n",
       "      <td>0.033410</td>\n",
       "      <td>0.061540</td>\n",
       "      <td>0.061480</td>\n",
       "      <td>...</td>\n",
       "      <td>686.600000</td>\n",
       "      <td>0.210100</td>\n",
       "      <td>0.098610</td>\n",
       "      <td>0.226400</td>\n",
       "      <td>0.080060</td>\n",
       "      <td>97.670000</td>\n",
       "      <td>14.970000</td>\n",
       "      <td>0.130900</td>\n",
       "      <td>0.282700</td>\n",
       "      <td>25.220000</td>\n",
       "    </tr>\n",
       "    <tr>\n",
       "      <th>75%</th>\n",
       "      <td>43.725000</td>\n",
       "      <td>0.032295</td>\n",
       "      <td>0.014645</td>\n",
       "      <td>0.042565</td>\n",
       "      <td>0.004504</td>\n",
       "      <td>767.600000</td>\n",
       "      <td>0.131300</td>\n",
       "      <td>0.073895</td>\n",
       "      <td>0.132350</td>\n",
       "      <td>0.066100</td>\n",
       "      <td>...</td>\n",
       "      <td>1031.500000</td>\n",
       "      <td>0.341600</td>\n",
       "      <td>0.161100</td>\n",
       "      <td>0.387200</td>\n",
       "      <td>0.092070</td>\n",
       "      <td>124.650000</td>\n",
       "      <td>18.410000</td>\n",
       "      <td>0.146050</td>\n",
       "      <td>0.317750</td>\n",
       "      <td>29.690000</td>\n",
       "    </tr>\n",
       "    <tr>\n",
       "      <th>max</th>\n",
       "      <td>542.200000</td>\n",
       "      <td>0.135400</td>\n",
       "      <td>0.052790</td>\n",
       "      <td>0.396000</td>\n",
       "      <td>0.029840</td>\n",
       "      <td>2501.000000</td>\n",
       "      <td>0.311400</td>\n",
       "      <td>0.201200</td>\n",
       "      <td>0.426800</td>\n",
       "      <td>0.097440</td>\n",
       "      <td>...</td>\n",
       "      <td>4254.000000</td>\n",
       "      <td>0.937900</td>\n",
       "      <td>0.291000</td>\n",
       "      <td>1.252000</td>\n",
       "      <td>0.173000</td>\n",
       "      <td>251.200000</td>\n",
       "      <td>36.040000</td>\n",
       "      <td>0.218400</td>\n",
       "      <td>0.663800</td>\n",
       "      <td>49.540000</td>\n",
       "    </tr>\n",
       "  </tbody>\n",
       "</table>\n",
       "<p>8 rows × 30 columns</p>\n",
       "</div>"
      ],
      "text/plain": [
       "       area error  compactness error  concave points error  concavity error  \\\n",
       "count  455.000000         455.000000            455.000000       455.000000   \n",
       "mean    40.071299           0.025635              0.011894         0.032824   \n",
       "std     47.236319           0.018607              0.006294         0.032146   \n",
       "min      6.802000           0.002252              0.000000         0.000000   \n",
       "25%     18.170000           0.012730              0.007691         0.015120   \n",
       "50%     24.720000           0.020420              0.011100         0.026150   \n",
       "75%     43.725000           0.032295              0.014645         0.042565   \n",
       "max    542.200000           0.135400              0.052790         0.396000   \n",
       "\n",
       "       fractal dimension error    mean area  mean compactness  \\\n",
       "count               455.000000   455.000000        455.000000   \n",
       "mean                  0.003820   654.377582          0.103619   \n",
       "std                   0.002787   354.943187          0.052470   \n",
       "min                   0.000895   170.400000          0.019380   \n",
       "25%                   0.002222   420.300000          0.062890   \n",
       "50%                   0.003211   551.700000          0.090970   \n",
       "75%                   0.004504   767.600000          0.131300   \n",
       "max                   0.029840  2501.000000          0.311400   \n",
       "\n",
       "       mean concave points  mean concavity  mean fractal dimension  ...  \\\n",
       "count           455.000000      455.000000              455.000000  ...   \n",
       "mean              0.048280        0.088898                0.062757  ...   \n",
       "std               0.038060        0.079468                0.007210  ...   \n",
       "min               0.000000        0.000000                0.049960  ...   \n",
       "25%               0.020340        0.029320                0.057645  ...   \n",
       "50%               0.033410        0.061540                0.061480  ...   \n",
       "75%               0.073895        0.132350                0.066100  ...   \n",
       "max               0.201200        0.426800                0.097440  ...   \n",
       "\n",
       "        worst area  worst compactness  worst concave points  worst concavity  \\\n",
       "count   455.000000         455.000000            455.000000       455.000000   \n",
       "mean    876.987033           0.252742              0.114182         0.274595   \n",
       "std     567.672841           0.155014              0.065326         0.209398   \n",
       "min     223.600000           0.027290              0.000000         0.000000   \n",
       "25%     516.450000           0.144950              0.063930         0.116550   \n",
       "50%     686.600000           0.210100              0.098610         0.226400   \n",
       "75%    1031.500000           0.341600              0.161100         0.387200   \n",
       "max    4254.000000           0.937900              0.291000         1.252000   \n",
       "\n",
       "       worst fractal dimension  worst perimeter  worst radius  \\\n",
       "count               455.000000       455.000000    455.000000   \n",
       "mean                  0.083868       107.103121     16.235103   \n",
       "std                   0.017848        33.374664      4.811267   \n",
       "min                   0.055040        54.490000      8.678000   \n",
       "25%                   0.071050        84.255000     13.055000   \n",
       "50%                   0.080060        97.670000     14.970000   \n",
       "75%                   0.092070       124.650000     18.410000   \n",
       "max                   0.173000       251.200000     36.040000   \n",
       "\n",
       "       worst smoothness  worst symmetry  worst texture  \n",
       "count        455.000000      455.000000     455.000000  \n",
       "mean           0.131532        0.290502      25.535692  \n",
       "std            0.023083        0.063151       6.065108  \n",
       "min            0.071170        0.156500      12.020000  \n",
       "25%            0.114400        0.249500      21.045000  \n",
       "50%            0.130900        0.282700      25.220000  \n",
       "75%            0.146050        0.317750      29.690000  \n",
       "max            0.218400        0.663800      49.540000  \n",
       "\n",
       "[8 rows x 30 columns]"
      ]
     },
     "execution_count": 10,
     "metadata": {},
     "output_type": "execute_result"
    }
   ],
   "source": [
    "X_train.describe()"
   ]
  },
  {
   "cell_type": "code",
   "execution_count": 11,
   "id": "b646f7ce-7ea2-42c8-8366-244cff708584",
   "metadata": {
    "colab": {
     "base_uri": "https://localhost:8080/",
     "height": 990
    },
    "id": "fvmrR2Jp2UQe",
    "outputId": "962147ca-1b6c-40a4-9fb2-64e56087c7de"
   },
   "outputs": [
    {
     "data": {
      "text/html": [
       "<div>\n",
       "<style scoped>\n",
       "    .dataframe tbody tr th:only-of-type {\n",
       "        vertical-align: middle;\n",
       "    }\n",
       "\n",
       "    .dataframe tbody tr th {\n",
       "        vertical-align: top;\n",
       "    }\n",
       "\n",
       "    .dataframe thead th {\n",
       "        text-align: right;\n",
       "    }\n",
       "</style>\n",
       "<table border=\"1\" class=\"dataframe\">\n",
       "  <thead>\n",
       "    <tr style=\"text-align: right;\">\n",
       "      <th></th>\n",
       "      <th>area error</th>\n",
       "      <th>compactness error</th>\n",
       "      <th>concave points error</th>\n",
       "      <th>concavity error</th>\n",
       "      <th>fractal dimension error</th>\n",
       "      <th>mean area</th>\n",
       "      <th>mean compactness</th>\n",
       "      <th>mean concave points</th>\n",
       "      <th>mean concavity</th>\n",
       "      <th>mean fractal dimension</th>\n",
       "      <th>...</th>\n",
       "      <th>worst area</th>\n",
       "      <th>worst compactness</th>\n",
       "      <th>worst concave points</th>\n",
       "      <th>worst concavity</th>\n",
       "      <th>worst fractal dimension</th>\n",
       "      <th>worst perimeter</th>\n",
       "      <th>worst radius</th>\n",
       "      <th>worst smoothness</th>\n",
       "      <th>worst symmetry</th>\n",
       "      <th>worst texture</th>\n",
       "    </tr>\n",
       "  </thead>\n",
       "  <tbody>\n",
       "    <tr>\n",
       "      <th>count</th>\n",
       "      <td>4.550000e+02</td>\n",
       "      <td>4.550000e+02</td>\n",
       "      <td>4.550000e+02</td>\n",
       "      <td>4.550000e+02</td>\n",
       "      <td>4.550000e+02</td>\n",
       "      <td>4.550000e+02</td>\n",
       "      <td>4.550000e+02</td>\n",
       "      <td>4.550000e+02</td>\n",
       "      <td>4.550000e+02</td>\n",
       "      <td>4.550000e+02</td>\n",
       "      <td>...</td>\n",
       "      <td>4.550000e+02</td>\n",
       "      <td>4.550000e+02</td>\n",
       "      <td>4.550000e+02</td>\n",
       "      <td>4.550000e+02</td>\n",
       "      <td>4.550000e+02</td>\n",
       "      <td>4.550000e+02</td>\n",
       "      <td>4.550000e+02</td>\n",
       "      <td>4.550000e+02</td>\n",
       "      <td>4.550000e+02</td>\n",
       "      <td>4.550000e+02</td>\n",
       "    </tr>\n",
       "    <tr>\n",
       "      <th>mean</th>\n",
       "      <td>6.246530e-17</td>\n",
       "      <td>-2.395154e-15</td>\n",
       "      <td>3.455112e-16</td>\n",
       "      <td>2.479091e-16</td>\n",
       "      <td>5.085065e-16</td>\n",
       "      <td>-2.537653e-16</td>\n",
       "      <td>1.011157e-15</td>\n",
       "      <td>5.817081e-16</td>\n",
       "      <td>9.857804e-16</td>\n",
       "      <td>-3.367270e-15</td>\n",
       "      <td>...</td>\n",
       "      <td>-2.004746e-15</td>\n",
       "      <td>-5.875642e-16</td>\n",
       "      <td>1.093143e-16</td>\n",
       "      <td>-5.992764e-16</td>\n",
       "      <td>-2.320000e-15</td>\n",
       "      <td>-8.549937e-16</td>\n",
       "      <td>1.397661e-15</td>\n",
       "      <td>1.198553e-15</td>\n",
       "      <td>5.075305e-16</td>\n",
       "      <td>-8.198570e-17</td>\n",
       "    </tr>\n",
       "    <tr>\n",
       "      <th>std</th>\n",
       "      <td>1.001101e+00</td>\n",
       "      <td>1.001101e+00</td>\n",
       "      <td>1.001101e+00</td>\n",
       "      <td>1.001101e+00</td>\n",
       "      <td>1.001101e+00</td>\n",
       "      <td>1.001101e+00</td>\n",
       "      <td>1.001101e+00</td>\n",
       "      <td>1.001101e+00</td>\n",
       "      <td>1.001101e+00</td>\n",
       "      <td>1.001101e+00</td>\n",
       "      <td>...</td>\n",
       "      <td>1.001101e+00</td>\n",
       "      <td>1.001101e+00</td>\n",
       "      <td>1.001101e+00</td>\n",
       "      <td>1.001101e+00</td>\n",
       "      <td>1.001101e+00</td>\n",
       "      <td>1.001101e+00</td>\n",
       "      <td>1.001101e+00</td>\n",
       "      <td>1.001101e+00</td>\n",
       "      <td>1.001101e+00</td>\n",
       "      <td>1.001101e+00</td>\n",
       "    </tr>\n",
       "    <tr>\n",
       "      <th>min</th>\n",
       "      <td>-7.050913e-01</td>\n",
       "      <td>-1.258102e+00</td>\n",
       "      <td>-1.891775e+00</td>\n",
       "      <td>-1.022218e+00</td>\n",
       "      <td>-1.050856e+00</td>\n",
       "      <td>-1.365036e+00</td>\n",
       "      <td>-1.607228e+00</td>\n",
       "      <td>-1.269910e+00</td>\n",
       "      <td>-1.119899e+00</td>\n",
       "      <td>-1.776889e+00</td>\n",
       "      <td>...</td>\n",
       "      <td>-1.152259e+00</td>\n",
       "      <td>-1.455995e+00</td>\n",
       "      <td>-1.749805e+00</td>\n",
       "      <td>-1.312795e+00</td>\n",
       "      <td>-1.616973e+00</td>\n",
       "      <td>-1.578174e+00</td>\n",
       "      <td>-1.572438e+00</td>\n",
       "      <td>-2.617938e+00</td>\n",
       "      <td>-2.124261e+00</td>\n",
       "      <td>-2.230887e+00</td>\n",
       "    </tr>\n",
       "    <tr>\n",
       "      <th>25%</th>\n",
       "      <td>-4.641642e-01</td>\n",
       "      <td>-6.943529e-01</td>\n",
       "      <td>-6.684930e-01</td>\n",
       "      <td>-5.513403e-01</td>\n",
       "      <td>-5.739641e-01</td>\n",
       "      <td>-6.602049e-01</td>\n",
       "      <td>-7.770872e-01</td>\n",
       "      <td>-7.349048e-01</td>\n",
       "      <td>-7.505387e-01</td>\n",
       "      <td>-7.097920e-01</td>\n",
       "      <td>...</td>\n",
       "      <td>-6.358132e-01</td>\n",
       "      <td>-6.961323e-01</td>\n",
       "      <td>-7.700987e-01</td>\n",
       "      <td>-7.555873e-01</td>\n",
       "      <td>-7.189616e-01</td>\n",
       "      <td>-6.853483e-01</td>\n",
       "      <td>-6.616975e-01</td>\n",
       "      <td>-7.430298e-01</td>\n",
       "      <td>-6.499846e-01</td>\n",
       "      <td>-7.412292e-01</td>\n",
       "    </tr>\n",
       "    <tr>\n",
       "      <th>50%</th>\n",
       "      <td>-3.253470e-01</td>\n",
       "      <td>-2.806072e-01</td>\n",
       "      <td>-1.262792e-01</td>\n",
       "      <td>-2.078362e-01</td>\n",
       "      <td>-2.189082e-01</td>\n",
       "      <td>-2.895973e-01</td>\n",
       "      <td>-2.413402e-01</td>\n",
       "      <td>-3.911235e-01</td>\n",
       "      <td>-3.446456e-01</td>\n",
       "      <td>-1.772851e-01</td>\n",
       "      <td>...</td>\n",
       "      <td>-3.357508e-01</td>\n",
       "      <td>-2.753858e-01</td>\n",
       "      <td>-2.386392e-01</td>\n",
       "      <td>-2.304110e-01</td>\n",
       "      <td>-2.135847e-01</td>\n",
       "      <td>-2.829543e-01</td>\n",
       "      <td>-2.632354e-01</td>\n",
       "      <td>-2.741590e-02</td>\n",
       "      <td>-1.236838e-01</td>\n",
       "      <td>-5.210786e-02</td>\n",
       "    </tr>\n",
       "    <tr>\n",
       "      <th>75%</th>\n",
       "      <td>7.743454e-02</td>\n",
       "      <td>3.583044e-01</td>\n",
       "      <td>4.375660e-01</td>\n",
       "      <td>3.033713e-01</td>\n",
       "      <td>2.453403e-01</td>\n",
       "      <td>3.193386e-01</td>\n",
       "      <td>5.281282e-01</td>\n",
       "      <td>6.737569e-01</td>\n",
       "      <td>5.473870e-01</td>\n",
       "      <td>4.642225e-01</td>\n",
       "      <td>...</td>\n",
       "      <td>2.724862e-01</td>\n",
       "      <td>5.738568e-01</td>\n",
       "      <td>7.189995e-01</td>\n",
       "      <td>5.383496e-01</td>\n",
       "      <td>4.600643e-01</td>\n",
       "      <td>5.263332e-01</td>\n",
       "      <td>4.525400e-01</td>\n",
       "      <td>6.296478e-01</td>\n",
       "      <td>4.319440e-01</td>\n",
       "      <td>6.857059e-01</td>\n",
       "    </tr>\n",
       "    <tr>\n",
       "      <th>max</th>\n",
       "      <td>1.064184e+01</td>\n",
       "      <td>5.905671e+00</td>\n",
       "      <td>6.504667e+00</td>\n",
       "      <td>1.131029e+01</td>\n",
       "      <td>9.345870e+00</td>\n",
       "      <td>5.208312e+00</td>\n",
       "      <td>3.964311e+00</td>\n",
       "      <td>4.022271e+00</td>\n",
       "      <td>4.256736e+00</td>\n",
       "      <td>4.815921e+00</td>\n",
       "      <td>...</td>\n",
       "      <td>5.955420e+00</td>\n",
       "      <td>4.424833e+00</td>\n",
       "      <td>2.709674e+00</td>\n",
       "      <td>4.672828e+00</td>\n",
       "      <td>4.999482e+00</td>\n",
       "      <td>4.322305e+00</td>\n",
       "      <td>4.120889e+00</td>\n",
       "      <td>3.767506e+00</td>\n",
       "      <td>5.917679e+00</td>\n",
       "      <td>3.962127e+00</td>\n",
       "    </tr>\n",
       "  </tbody>\n",
       "</table>\n",
       "<p>8 rows × 30 columns</p>\n",
       "</div>"
      ],
      "text/plain": [
       "         area error  compactness error  concave points error  concavity error  \\\n",
       "count  4.550000e+02       4.550000e+02          4.550000e+02     4.550000e+02   \n",
       "mean   6.246530e-17      -2.395154e-15          3.455112e-16     2.479091e-16   \n",
       "std    1.001101e+00       1.001101e+00          1.001101e+00     1.001101e+00   \n",
       "min   -7.050913e-01      -1.258102e+00         -1.891775e+00    -1.022218e+00   \n",
       "25%   -4.641642e-01      -6.943529e-01         -6.684930e-01    -5.513403e-01   \n",
       "50%   -3.253470e-01      -2.806072e-01         -1.262792e-01    -2.078362e-01   \n",
       "75%    7.743454e-02       3.583044e-01          4.375660e-01     3.033713e-01   \n",
       "max    1.064184e+01       5.905671e+00          6.504667e+00     1.131029e+01   \n",
       "\n",
       "       fractal dimension error     mean area  mean compactness  \\\n",
       "count             4.550000e+02  4.550000e+02      4.550000e+02   \n",
       "mean              5.085065e-16 -2.537653e-16      1.011157e-15   \n",
       "std               1.001101e+00  1.001101e+00      1.001101e+00   \n",
       "min              -1.050856e+00 -1.365036e+00     -1.607228e+00   \n",
       "25%              -5.739641e-01 -6.602049e-01     -7.770872e-01   \n",
       "50%              -2.189082e-01 -2.895973e-01     -2.413402e-01   \n",
       "75%               2.453403e-01  3.193386e-01      5.281282e-01   \n",
       "max               9.345870e+00  5.208312e+00      3.964311e+00   \n",
       "\n",
       "       mean concave points  mean concavity  mean fractal dimension  ...  \\\n",
       "count         4.550000e+02    4.550000e+02            4.550000e+02  ...   \n",
       "mean          5.817081e-16    9.857804e-16           -3.367270e-15  ...   \n",
       "std           1.001101e+00    1.001101e+00            1.001101e+00  ...   \n",
       "min          -1.269910e+00   -1.119899e+00           -1.776889e+00  ...   \n",
       "25%          -7.349048e-01   -7.505387e-01           -7.097920e-01  ...   \n",
       "50%          -3.911235e-01   -3.446456e-01           -1.772851e-01  ...   \n",
       "75%           6.737569e-01    5.473870e-01            4.642225e-01  ...   \n",
       "max           4.022271e+00    4.256736e+00            4.815921e+00  ...   \n",
       "\n",
       "         worst area  worst compactness  worst concave points  worst concavity  \\\n",
       "count  4.550000e+02       4.550000e+02          4.550000e+02     4.550000e+02   \n",
       "mean  -2.004746e-15      -5.875642e-16          1.093143e-16    -5.992764e-16   \n",
       "std    1.001101e+00       1.001101e+00          1.001101e+00     1.001101e+00   \n",
       "min   -1.152259e+00      -1.455995e+00         -1.749805e+00    -1.312795e+00   \n",
       "25%   -6.358132e-01      -6.961323e-01         -7.700987e-01    -7.555873e-01   \n",
       "50%   -3.357508e-01      -2.753858e-01         -2.386392e-01    -2.304110e-01   \n",
       "75%    2.724862e-01       5.738568e-01          7.189995e-01     5.383496e-01   \n",
       "max    5.955420e+00       4.424833e+00          2.709674e+00     4.672828e+00   \n",
       "\n",
       "       worst fractal dimension  worst perimeter  worst radius  \\\n",
       "count             4.550000e+02     4.550000e+02  4.550000e+02   \n",
       "mean             -2.320000e-15    -8.549937e-16  1.397661e-15   \n",
       "std               1.001101e+00     1.001101e+00  1.001101e+00   \n",
       "min              -1.616973e+00    -1.578174e+00 -1.572438e+00   \n",
       "25%              -7.189616e-01    -6.853483e-01 -6.616975e-01   \n",
       "50%              -2.135847e-01    -2.829543e-01 -2.632354e-01   \n",
       "75%               4.600643e-01     5.263332e-01  4.525400e-01   \n",
       "max               4.999482e+00     4.322305e+00  4.120889e+00   \n",
       "\n",
       "       worst smoothness  worst symmetry  worst texture  \n",
       "count      4.550000e+02    4.550000e+02   4.550000e+02  \n",
       "mean       1.198553e-15    5.075305e-16  -8.198570e-17  \n",
       "std        1.001101e+00    1.001101e+00   1.001101e+00  \n",
       "min       -2.617938e+00   -2.124261e+00  -2.230887e+00  \n",
       "25%       -7.430298e-01   -6.499846e-01  -7.412292e-01  \n",
       "50%       -2.741590e-02   -1.236838e-01  -5.210786e-02  \n",
       "75%        6.296478e-01    4.319440e-01   6.857059e-01  \n",
       "max        3.767506e+00    5.917679e+00   3.962127e+00  \n",
       "\n",
       "[8 rows x 30 columns]"
      ]
     },
     "execution_count": 11,
     "metadata": {},
     "output_type": "execute_result"
    }
   ],
   "source": [
    "# Initiate scaler\n",
    "sc = StandardScaler()\n",
    "\n",
    "# Standardize the training dataset\n",
    "X_train_transformed = pd.DataFrame(sc.fit_transform(X_train),index=X_train.index, columns=X_train.columns)\n",
    "\n",
    "# Standardized the testing dataset\n",
    "X_test_transformed = pd.DataFrame(sc.transform(X_test),index=X_test.index, columns=X_test.columns)\n",
    "\n",
    "# Summary statistics after standardization\n",
    "X_train_transformed.describe()"
   ]
  },
  {
   "cell_type": "markdown",
   "id": "79848f8b-bd50-4a46-b5ba-9a6a063eb6e7",
   "metadata": {
    "id": "9GeeE0D42cOu"
   },
   "source": [
    "We can see that after using StandardScaler, all the features have zero mean and unit standard deviation.\n",
    "\n",
    "Let's get the summary statistics for the training data before standardization as well, and we can see that the mean and standard deviation can be very different in scale. For example, the area error has a mean value of 40 and a standard deviation of 47. On the other hand, the compactness error has a mean of about 0.023 and a standard deviation of 0.019."
   ]
  },
  {
   "cell_type": "code",
   "execution_count": 12,
   "id": "e1f6dcac-0f65-4cdc-81bd-41bec5293ec2",
   "metadata": {
    "colab": {
     "base_uri": "https://localhost:8080/",
     "height": 990
    },
    "id": "AxgMHlKG2esM",
    "outputId": "c07a4dc0-cdd7-4ede-8c41-0c31fe36ade6"
   },
   "outputs": [
    {
     "data": {
      "text/html": [
       "<div>\n",
       "<style scoped>\n",
       "    .dataframe tbody tr th:only-of-type {\n",
       "        vertical-align: middle;\n",
       "    }\n",
       "\n",
       "    .dataframe tbody tr th {\n",
       "        vertical-align: top;\n",
       "    }\n",
       "\n",
       "    .dataframe thead th {\n",
       "        text-align: right;\n",
       "    }\n",
       "</style>\n",
       "<table border=\"1\" class=\"dataframe\">\n",
       "  <thead>\n",
       "    <tr style=\"text-align: right;\">\n",
       "      <th></th>\n",
       "      <th>area error</th>\n",
       "      <th>compactness error</th>\n",
       "      <th>concave points error</th>\n",
       "      <th>concavity error</th>\n",
       "      <th>fractal dimension error</th>\n",
       "      <th>mean area</th>\n",
       "      <th>mean compactness</th>\n",
       "      <th>mean concave points</th>\n",
       "      <th>mean concavity</th>\n",
       "      <th>mean fractal dimension</th>\n",
       "      <th>...</th>\n",
       "      <th>worst area</th>\n",
       "      <th>worst compactness</th>\n",
       "      <th>worst concave points</th>\n",
       "      <th>worst concavity</th>\n",
       "      <th>worst fractal dimension</th>\n",
       "      <th>worst perimeter</th>\n",
       "      <th>worst radius</th>\n",
       "      <th>worst smoothness</th>\n",
       "      <th>worst symmetry</th>\n",
       "      <th>worst texture</th>\n",
       "    </tr>\n",
       "  </thead>\n",
       "  <tbody>\n",
       "    <tr>\n",
       "      <th>count</th>\n",
       "      <td>455.000000</td>\n",
       "      <td>455.000000</td>\n",
       "      <td>455.000000</td>\n",
       "      <td>455.000000</td>\n",
       "      <td>455.000000</td>\n",
       "      <td>455.000000</td>\n",
       "      <td>455.000000</td>\n",
       "      <td>455.000000</td>\n",
       "      <td>455.000000</td>\n",
       "      <td>455.000000</td>\n",
       "      <td>...</td>\n",
       "      <td>455.000000</td>\n",
       "      <td>455.000000</td>\n",
       "      <td>455.000000</td>\n",
       "      <td>455.000000</td>\n",
       "      <td>455.000000</td>\n",
       "      <td>455.000000</td>\n",
       "      <td>455.000000</td>\n",
       "      <td>455.000000</td>\n",
       "      <td>455.000000</td>\n",
       "      <td>455.000000</td>\n",
       "    </tr>\n",
       "    <tr>\n",
       "      <th>mean</th>\n",
       "      <td>40.071299</td>\n",
       "      <td>0.025635</td>\n",
       "      <td>0.011894</td>\n",
       "      <td>0.032824</td>\n",
       "      <td>0.003820</td>\n",
       "      <td>654.377582</td>\n",
       "      <td>0.103619</td>\n",
       "      <td>0.048280</td>\n",
       "      <td>0.088898</td>\n",
       "      <td>0.062757</td>\n",
       "      <td>...</td>\n",
       "      <td>876.987033</td>\n",
       "      <td>0.252742</td>\n",
       "      <td>0.114182</td>\n",
       "      <td>0.274595</td>\n",
       "      <td>0.083868</td>\n",
       "      <td>107.103121</td>\n",
       "      <td>16.235103</td>\n",
       "      <td>0.131532</td>\n",
       "      <td>0.290502</td>\n",
       "      <td>25.535692</td>\n",
       "    </tr>\n",
       "    <tr>\n",
       "      <th>std</th>\n",
       "      <td>47.236319</td>\n",
       "      <td>0.018607</td>\n",
       "      <td>0.006294</td>\n",
       "      <td>0.032146</td>\n",
       "      <td>0.002787</td>\n",
       "      <td>354.943187</td>\n",
       "      <td>0.052470</td>\n",
       "      <td>0.038060</td>\n",
       "      <td>0.079468</td>\n",
       "      <td>0.007210</td>\n",
       "      <td>...</td>\n",
       "      <td>567.672841</td>\n",
       "      <td>0.155014</td>\n",
       "      <td>0.065326</td>\n",
       "      <td>0.209398</td>\n",
       "      <td>0.017848</td>\n",
       "      <td>33.374664</td>\n",
       "      <td>4.811267</td>\n",
       "      <td>0.023083</td>\n",
       "      <td>0.063151</td>\n",
       "      <td>6.065108</td>\n",
       "    </tr>\n",
       "    <tr>\n",
       "      <th>min</th>\n",
       "      <td>6.802000</td>\n",
       "      <td>0.002252</td>\n",
       "      <td>0.000000</td>\n",
       "      <td>0.000000</td>\n",
       "      <td>0.000895</td>\n",
       "      <td>170.400000</td>\n",
       "      <td>0.019380</td>\n",
       "      <td>0.000000</td>\n",
       "      <td>0.000000</td>\n",
       "      <td>0.049960</td>\n",
       "      <td>...</td>\n",
       "      <td>223.600000</td>\n",
       "      <td>0.027290</td>\n",
       "      <td>0.000000</td>\n",
       "      <td>0.000000</td>\n",
       "      <td>0.055040</td>\n",
       "      <td>54.490000</td>\n",
       "      <td>8.678000</td>\n",
       "      <td>0.071170</td>\n",
       "      <td>0.156500</td>\n",
       "      <td>12.020000</td>\n",
       "    </tr>\n",
       "    <tr>\n",
       "      <th>25%</th>\n",
       "      <td>18.170000</td>\n",
       "      <td>0.012730</td>\n",
       "      <td>0.007691</td>\n",
       "      <td>0.015120</td>\n",
       "      <td>0.002222</td>\n",
       "      <td>420.300000</td>\n",
       "      <td>0.062890</td>\n",
       "      <td>0.020340</td>\n",
       "      <td>0.029320</td>\n",
       "      <td>0.057645</td>\n",
       "      <td>...</td>\n",
       "      <td>516.450000</td>\n",
       "      <td>0.144950</td>\n",
       "      <td>0.063930</td>\n",
       "      <td>0.116550</td>\n",
       "      <td>0.071050</td>\n",
       "      <td>84.255000</td>\n",
       "      <td>13.055000</td>\n",
       "      <td>0.114400</td>\n",
       "      <td>0.249500</td>\n",
       "      <td>21.045000</td>\n",
       "    </tr>\n",
       "    <tr>\n",
       "      <th>50%</th>\n",
       "      <td>24.720000</td>\n",
       "      <td>0.020420</td>\n",
       "      <td>0.011100</td>\n",
       "      <td>0.026150</td>\n",
       "      <td>0.003211</td>\n",
       "      <td>551.700000</td>\n",
       "      <td>0.090970</td>\n",
       "      <td>0.033410</td>\n",
       "      <td>0.061540</td>\n",
       "      <td>0.061480</td>\n",
       "      <td>...</td>\n",
       "      <td>686.600000</td>\n",
       "      <td>0.210100</td>\n",
       "      <td>0.098610</td>\n",
       "      <td>0.226400</td>\n",
       "      <td>0.080060</td>\n",
       "      <td>97.670000</td>\n",
       "      <td>14.970000</td>\n",
       "      <td>0.130900</td>\n",
       "      <td>0.282700</td>\n",
       "      <td>25.220000</td>\n",
       "    </tr>\n",
       "    <tr>\n",
       "      <th>75%</th>\n",
       "      <td>43.725000</td>\n",
       "      <td>0.032295</td>\n",
       "      <td>0.014645</td>\n",
       "      <td>0.042565</td>\n",
       "      <td>0.004504</td>\n",
       "      <td>767.600000</td>\n",
       "      <td>0.131300</td>\n",
       "      <td>0.073895</td>\n",
       "      <td>0.132350</td>\n",
       "      <td>0.066100</td>\n",
       "      <td>...</td>\n",
       "      <td>1031.500000</td>\n",
       "      <td>0.341600</td>\n",
       "      <td>0.161100</td>\n",
       "      <td>0.387200</td>\n",
       "      <td>0.092070</td>\n",
       "      <td>124.650000</td>\n",
       "      <td>18.410000</td>\n",
       "      <td>0.146050</td>\n",
       "      <td>0.317750</td>\n",
       "      <td>29.690000</td>\n",
       "    </tr>\n",
       "    <tr>\n",
       "      <th>max</th>\n",
       "      <td>542.200000</td>\n",
       "      <td>0.135400</td>\n",
       "      <td>0.052790</td>\n",
       "      <td>0.396000</td>\n",
       "      <td>0.029840</td>\n",
       "      <td>2501.000000</td>\n",
       "      <td>0.311400</td>\n",
       "      <td>0.201200</td>\n",
       "      <td>0.426800</td>\n",
       "      <td>0.097440</td>\n",
       "      <td>...</td>\n",
       "      <td>4254.000000</td>\n",
       "      <td>0.937900</td>\n",
       "      <td>0.291000</td>\n",
       "      <td>1.252000</td>\n",
       "      <td>0.173000</td>\n",
       "      <td>251.200000</td>\n",
       "      <td>36.040000</td>\n",
       "      <td>0.218400</td>\n",
       "      <td>0.663800</td>\n",
       "      <td>49.540000</td>\n",
       "    </tr>\n",
       "  </tbody>\n",
       "</table>\n",
       "<p>8 rows × 30 columns</p>\n",
       "</div>"
      ],
      "text/plain": [
       "       area error  compactness error  concave points error  concavity error  \\\n",
       "count  455.000000         455.000000            455.000000       455.000000   \n",
       "mean    40.071299           0.025635              0.011894         0.032824   \n",
       "std     47.236319           0.018607              0.006294         0.032146   \n",
       "min      6.802000           0.002252              0.000000         0.000000   \n",
       "25%     18.170000           0.012730              0.007691         0.015120   \n",
       "50%     24.720000           0.020420              0.011100         0.026150   \n",
       "75%     43.725000           0.032295              0.014645         0.042565   \n",
       "max    542.200000           0.135400              0.052790         0.396000   \n",
       "\n",
       "       fractal dimension error    mean area  mean compactness  \\\n",
       "count               455.000000   455.000000        455.000000   \n",
       "mean                  0.003820   654.377582          0.103619   \n",
       "std                   0.002787   354.943187          0.052470   \n",
       "min                   0.000895   170.400000          0.019380   \n",
       "25%                   0.002222   420.300000          0.062890   \n",
       "50%                   0.003211   551.700000          0.090970   \n",
       "75%                   0.004504   767.600000          0.131300   \n",
       "max                   0.029840  2501.000000          0.311400   \n",
       "\n",
       "       mean concave points  mean concavity  mean fractal dimension  ...  \\\n",
       "count           455.000000      455.000000              455.000000  ...   \n",
       "mean              0.048280        0.088898                0.062757  ...   \n",
       "std               0.038060        0.079468                0.007210  ...   \n",
       "min               0.000000        0.000000                0.049960  ...   \n",
       "25%               0.020340        0.029320                0.057645  ...   \n",
       "50%               0.033410        0.061540                0.061480  ...   \n",
       "75%               0.073895        0.132350                0.066100  ...   \n",
       "max               0.201200        0.426800                0.097440  ...   \n",
       "\n",
       "        worst area  worst compactness  worst concave points  worst concavity  \\\n",
       "count   455.000000         455.000000            455.000000       455.000000   \n",
       "mean    876.987033           0.252742              0.114182         0.274595   \n",
       "std     567.672841           0.155014              0.065326         0.209398   \n",
       "min     223.600000           0.027290              0.000000         0.000000   \n",
       "25%     516.450000           0.144950              0.063930         0.116550   \n",
       "50%     686.600000           0.210100              0.098610         0.226400   \n",
       "75%    1031.500000           0.341600              0.161100         0.387200   \n",
       "max    4254.000000           0.937900              0.291000         1.252000   \n",
       "\n",
       "       worst fractal dimension  worst perimeter  worst radius  \\\n",
       "count               455.000000       455.000000    455.000000   \n",
       "mean                  0.083868       107.103121     16.235103   \n",
       "std                   0.017848        33.374664      4.811267   \n",
       "min                   0.055040        54.490000      8.678000   \n",
       "25%                   0.071050        84.255000     13.055000   \n",
       "50%                   0.080060        97.670000     14.970000   \n",
       "75%                   0.092070       124.650000     18.410000   \n",
       "max                   0.173000       251.200000     36.040000   \n",
       "\n",
       "       worst smoothness  worst symmetry  worst texture  \n",
       "count        455.000000      455.000000     455.000000  \n",
       "mean           0.131532        0.290502      25.535692  \n",
       "std            0.023083        0.063151       6.065108  \n",
       "min            0.071170        0.156500      12.020000  \n",
       "25%            0.114400        0.249500      21.045000  \n",
       "50%            0.130900        0.282700      25.220000  \n",
       "75%            0.146050        0.317750      29.690000  \n",
       "max            0.218400        0.663800      49.540000  \n",
       "\n",
       "[8 rows x 30 columns]"
      ]
     },
     "execution_count": 12,
     "metadata": {},
     "output_type": "execute_result"
    }
   ],
   "source": [
    "# Summary statistics before standardization\n",
    "X_train.describe()"
   ]
  },
  {
   "cell_type": "markdown",
   "id": "09f14ad6-ac38-4473-8ff5-b80b18462d55",
   "metadata": {
    "id": "kdcA-f-329ol"
   },
   "source": [
    "# Step 5: XGBoost Classifier With No Hyperparameter Tuning"
   ]
  },
  {
   "cell_type": "markdown",
   "id": "fea5fd17-922d-4f80-a34f-1f1b6227e3be",
   "metadata": {
    "id": "tjMdODxM3Tyf"
   },
   "source": [
    "In step 5, we will create an XGBoost classification model with default hyperparameters. This serves as a baseline model to compare against.\n",
    "\n",
    "This is a list of the hyperparameters we can tune. Usually, a subset of essential hyperparameters will be tuned.\n",
    "\n",
    "* `base_score` is the starting prediction score for all the instances at the model initiation. This number does not have much impact on the final results when there is a sufficient number of iterations. Therefore, `base_score` is not a good choice for hyperparameter tuning.\n",
    "* `booster` specifies which booster to use for the model. Booster `gbtree` and `dart` use tree-based models, and booster `gblinear` uses linear functions.\n",
    "* `colsample_bylevel` is the subsample ratio of columns for each depth level from the set of columns for the current tree.\n",
    "* `colsample_bynode` is the subsample ratio of columns for each node(split) from the set of columns for the current level.\n",
    "* `colsample_bytree` is the subsample ratio of columns for each tree from the set of all columns in the training dataset.\n",
    "* `gamma` is a value greater than or equal to zero. It is the minimum loss reduction required for a split.\n",
    "* `learning_rate` is also called `eta`. It is a value between 0 and 1. It is the step size shrinkage for the feature weights to make the boosting process more conservative.\n",
    "* `max_delta_step` puts an absolute regularization weight capping before applying `eta` correction. The default value of 0 means that there is no restriction on the maximum value of the weight. A positive number might help for the dataset with highly imbalanced classes. A value between 1 to 10 is usually used but it can take any value greater than or equal to 0.\n",
    "* `max_depth` is the maximum depth of a tree and it can take the value of any integer greater than or equal to 0. 0 means no limit to the tree depth. A larger value for `max_depth` builds more complex models and tends to overfit.\n",
    "* `min_child_weight` is the minimum sum of instance weight needed in a child for partitioning. It takes the value greater than or equal to 0.\n",
    "* `missing` is the value in the input data that needs to be considered as a missing value. The default value is `None`, meaning that only `np.nan` is considered to be missing values.\n",
    "* `n_estimators` is the number of gradient boosted trees.\n",
    "* `n_jobs` takes in the number of parallel threads for the model. `n_jobs=-1` means using all the available cores for parallel processing.\n",
    "* `nthread` is the number of parallel threads for running XGBoost.\n",
    "*  `'objective': 'binary:logistic'` means that the logistic regression for binary classification is used as the learning objective and the model output probability.\n",
    "* `random_state` sets a seed for model reproducibility.\n",
    "* `reg_alpha` provides L1 regularization to the weight. Higher values result in more conservative models. The default value of 0 means no L1 regularization.\n",
    "* `reg_lambda` provides L2 regularization to the weight. Higher values result in more conservative models. XGBoost applies L2 regularization by default.\n",
    "* `scale_pos_weight` controls the balance of positive and negative weights. It's useful for unbalanced classes.\n",
    "* `seed` sets a random number seed.\n",
    "* `silent` decides whether to print out information during model training.\n",
    "* `subsample` is the percentage of randomly sampled training data before growing trees. It happens in every boosting iteration. It is greater than 0 and less than or equal to 1. The default value of 1 means all the data in the training dataset will be used to build trees. A value of less than 1 helps to prevent overfitting.\n",
    "* `verbosity` controls how many messages are printed. The valid values are 0 (silent), 1 (warning), 2 (info), and 3 (debug)."
   ]
  },
  {
   "cell_type": "code",
   "execution_count": 13,
   "id": "27636997-08bd-4001-8a69-fefa427eeeeb",
   "metadata": {
    "colab": {
     "base_uri": "https://localhost:8080/"
    },
    "id": "Ni9aL9JJ3q9R",
    "outputId": "8b4cfcea-bf31-446d-db78-01f431b4280c"
   },
   "outputs": [
    {
     "data": {
      "text/plain": [
       "{'objective': 'binary:logistic',\n",
       " 'use_label_encoder': None,\n",
       " 'base_score': None,\n",
       " 'booster': None,\n",
       " 'callbacks': None,\n",
       " 'colsample_bylevel': None,\n",
       " 'colsample_bynode': None,\n",
       " 'colsample_bytree': None,\n",
       " 'early_stopping_rounds': None,\n",
       " 'enable_categorical': False,\n",
       " 'eval_metric': None,\n",
       " 'feature_types': None,\n",
       " 'gamma': None,\n",
       " 'gpu_id': None,\n",
       " 'grow_policy': None,\n",
       " 'importance_type': None,\n",
       " 'interaction_constraints': None,\n",
       " 'learning_rate': None,\n",
       " 'max_bin': None,\n",
       " 'max_cat_threshold': None,\n",
       " 'max_cat_to_onehot': None,\n",
       " 'max_delta_step': None,\n",
       " 'max_depth': None,\n",
       " 'max_leaves': None,\n",
       " 'min_child_weight': None,\n",
       " 'missing': nan,\n",
       " 'monotone_constraints': None,\n",
       " 'n_estimators': 100,\n",
       " 'n_jobs': None,\n",
       " 'num_parallel_tree': None,\n",
       " 'predictor': None,\n",
       " 'random_state': None,\n",
       " 'reg_alpha': None,\n",
       " 'reg_lambda': None,\n",
       " 'sampling_method': None,\n",
       " 'scale_pos_weight': None,\n",
       " 'subsample': None,\n",
       " 'tree_method': None,\n",
       " 'validate_parameters': None,\n",
       " 'verbosity': None}"
      ]
     },
     "execution_count": 13,
     "metadata": {},
     "output_type": "execute_result"
    }
   ],
   "source": [
    "# Initiate XGBoost Classifier\n",
    "xgboost = XGBClassifier()\n",
    "\n",
    "# Print default setting\n",
    "xgboost.get_params()"
   ]
  },
  {
   "cell_type": "code",
   "execution_count": 14,
   "id": "692e12cb-15ad-4ae7-88b0-b9e006e09c58",
   "metadata": {},
   "outputs": [
    {
     "data": {
      "text/plain": [
       "{'objective': 'reg:squarederror',\n",
       " 'base_score': None,\n",
       " 'booster': None,\n",
       " 'callbacks': None,\n",
       " 'colsample_bylevel': None,\n",
       " 'colsample_bynode': None,\n",
       " 'colsample_bytree': None,\n",
       " 'early_stopping_rounds': None,\n",
       " 'enable_categorical': False,\n",
       " 'eval_metric': None,\n",
       " 'feature_types': None,\n",
       " 'gamma': None,\n",
       " 'gpu_id': None,\n",
       " 'grow_policy': None,\n",
       " 'importance_type': None,\n",
       " 'interaction_constraints': None,\n",
       " 'learning_rate': None,\n",
       " 'max_bin': None,\n",
       " 'max_cat_threshold': None,\n",
       " 'max_cat_to_onehot': None,\n",
       " 'max_delta_step': None,\n",
       " 'max_depth': None,\n",
       " 'max_leaves': None,\n",
       " 'min_child_weight': None,\n",
       " 'missing': nan,\n",
       " 'monotone_constraints': None,\n",
       " 'n_estimators': 100,\n",
       " 'n_jobs': None,\n",
       " 'num_parallel_tree': None,\n",
       " 'predictor': None,\n",
       " 'random_state': None,\n",
       " 'reg_alpha': None,\n",
       " 'reg_lambda': None,\n",
       " 'sampling_method': None,\n",
       " 'scale_pos_weight': None,\n",
       " 'subsample': None,\n",
       " 'tree_method': None,\n",
       " 'validate_parameters': None,\n",
       " 'verbosity': None}"
      ]
     },
     "execution_count": 14,
     "metadata": {},
     "output_type": "execute_result"
    }
   ],
   "source": [
    "# Initiate XGBoost XGBRegressor\n",
    "xgb_regresor = XGBRegressor()\n",
    "\n",
    "# Print default setting\n",
    "xgb_regresor.get_params()"
   ]
  },
  {
   "cell_type": "markdown",
   "id": "2d9fbb25-0cb8-4b4c-b6a4-e7cdc04572e6",
   "metadata": {
    "id": "M5EAukAd62D_"
   },
   "source": [
    "When training the model, `seed=0` makes sure that we get reproducible results. After running the baseline XGBoost model, we predicted the testing dataset using `.predict` and calculated the predicted probabilities using `.predict_proba`."
   ]
  },
  {
   "cell_type": "code",
   "execution_count": 25,
   "id": "0ac47bec-b2a5-4d1a-bf68-63f68abd9252",
   "metadata": {
    "id": "gcVU8Qwv5dV9"
   },
   "outputs": [],
   "source": [
    "# Train the model\n",
    "xgboost = XGBClassifier(seed=0).fit(X_train_transformed,y_train)\n",
    "\n",
    "# Make prediction\n",
    "xgboost_predict = xgboost.predict(X_test_transformed)\n",
    "\n",
    "# Get predicted probability\n",
    "xgboost_predict_prob = xgboost.predict_proba(X_test_transformed)[:,1]"
   ]
  },
  {
   "cell_type": "markdown",
   "id": "3887b05c-a837-4134-8b07-fc3c2dc66477",
   "metadata": {
    "id": "YlORXsAN75A-"
   },
   "source": [
    "We want to capture as many actual cancer patients as possible for this particular dataset, so we will use recall as the performance metric to optimize."
   ]
  },
  {
   "cell_type": "code",
   "execution_count": 26,
   "id": "da83b270-1375-4c26-a8b5-346101961832",
   "metadata": {
    "colab": {
     "base_uri": "https://localhost:8080/"
    },
    "id": "-BUHAnMv8jSE",
    "outputId": "334ad09f-3751-4317-ddcc-0f3fb69e1d62"
   },
   "outputs": [
    {
     "name": "stdout",
     "output_type": "stream",
     "text": [
      "The recall value for the baseline xgboost model is 1.0000\n"
     ]
    }
   ],
   "source": [
    "# Get performance metrics\n",
    "precision, recall, fscore, support = score(y_test, xgboost_predict)\n",
    "\n",
    "# Print result\n",
    "print(f'The recall value for the baseline xgboost model is {recall[1]:.4f}')"
   ]
  },
  {
   "cell_type": "code",
   "execution_count": 31,
   "id": "b29ae987-0dad-4944-9a3e-0071957f6e2c",
   "metadata": {},
   "outputs": [
    {
     "data": {
      "image/png": "[encoded data removed]",
      "text/plain": [
       "<Figure size 640x480 with 2 Axes>"
      ]
     },
     "metadata": {},
     "output_type": "display_data"
    }
   ],
   "source": [
    "ConfusionMatrixDisplay.from_estimator(xgboost, X_test_transformed, y_test, cmap='GnBu')\n",
    "plt.show() "
   ]
  },
  {
   "cell_type": "code",
   "execution_count": 34,
   "id": "37a61a0a-594b-421c-b1c0-eaf3777c5bea",
   "metadata": {},
   "outputs": [
    {
     "name": "stdout",
     "output_type": "stream",
     "text": [
      "Precision: 0.959\n",
      "Recall: 1.000\n",
      "F1: 0.979\n",
      "Accuracy: 0.974\n"
     ]
    }
   ],
   "source": [
    "print('Precision: %.3f' % precision_score(y_test, xgboost_predict))\n",
    "print('Recall: %.3f' % recall_score(y_test, xgboost_predict))\n",
    "print('F1: %.3f' % f1_score(y_test, xgboost_predict))\n",
    "print('Accuracy: %.3f' % accuracy_score(y_test, xgboost_predict))"
   ]
  },
  {
   "cell_type": "markdown",
   "id": "5217a3ec-b5c5-4797-822d-52f4e2de6d6c",
   "metadata": {
    "id": "vmx75QzGCpaT"
   },
   "source": [
    "# Step 6: Grid Search for XGBoost"
   ]
  },
  {
   "cell_type": "markdown",
   "id": "f37ae75b-792f-4c43-b89d-80bad8899cb8",
   "metadata": {
    "id": "6knXVfAdC07_"
   },
   "source": [
    "In step 6, we will use grid search to find the best hyperparameter combinations for the XGBoost model. Grid search is an exhaustive hyperparameter search method. It trains models for every combination of specified hyperparameter values. Therefore, it can take a long time to run if we test out more hyperparameters and values.\n",
    "\n",
    "For this reason, we would like to have the grid search space relatively small so the process can finish in a reasonable timeframe. The search space includes the hyperparameters, and their values grid search builds models for. We had three hyperparameters for grid search in this example.\n",
    "\n",
    "* `colsample_bytree` is the percentage of columns to be randomly sampled for each tree.\n",
    "* `reg_alpha` provides l1 regularization to the weight. Higher values result in more conservative models.\n",
    "* `reg_lambda` provides l2 regularization to the weight. Higher values result in more conservative models.\n",
    "\n",
    "Scoring is the metric to evaluate the cross-validation results for each model. Since recall is the evaluation metric for the model, we set `scoring = ['recall']`. The scoring option can take more than one metric in the list.\n",
    "\n",
    "`StratifiedKFold` is used for the cross-validation. It helps us keep the class ratio in the folds the same as the training dataset. `n_splits=3` means we are doing 3-fold cross-validation. `shuffle=True` means the data are shuffled before splitting. `random_state=0` makes the shuffle reproducible."
   ]
  },
  {
   "cell_type": "code",
   "execution_count": 35,
   "id": "554739d8-5209-4991-8d81-d323b1f69643",
   "metadata": {
    "id": "UkU1do8QGusB"
   },
   "outputs": [],
   "source": [
    "# Define the search space\n",
    "param_grid = { \n",
    "    # Percentage of columns to be randomly samples for each tree.\n",
    "    \"colsample_bytree\": [ 0.3, 0.5 , 0.8 ],\n",
    "    # reg_alpha provides l1 regularization to the weight, higher values result in more conservative models\n",
    "    \"reg_alpha\": [0, 0.5, 1, 5],\n",
    "    # reg_lambda provides l2 regularization to the weight, higher values result in more conservative models\n",
    "    \"reg_lambda\": [0, 0.5, 1, 5]\n",
    "    }\n",
    "\n",
    "# Set up score\n",
    "scoring = ['recall']\n",
    "\n",
    "# Set up the k-fold cross-validation\n",
    "kfold = StratifiedKFold(\n",
    "    n_splits=3, \n",
    "    shuffle=True,\n",
    "    random_state=42)"
   ]
  },
  {
   "cell_type": "markdown",
   "id": "abafec9b-dbe8-4d0f-9c02-9577fee63f85",
   "metadata": {
    "id": "_ZUjDOtsXSXM"
   },
   "source": [
    "We specified a few options for `GridSearchCV`.\n",
    "* `estimator=xgboost` means we are using XGBoost as the model.\n",
    "* `param_grid=param_grid` takes our pre-defined search space for the grid search.\n",
    "* `scoring=scoring` set the performance evaluation metric. Because we set the scoring to 'recall', the model will use recall as the evaluation metric.\n",
    "* `refit='recall'` enables refitting the model with the best parameters on the whole training dataset.\n",
    "* `n_jobs=-1` means parallel processing using all the processors.\n",
    "* `cv=kfold` takes the `StratifiedKFold` we defined.\n",
    "* `verbose` controls the number of messages returned by the grid search. The higher the number, the more information is returned. `verbose=0` means silent output.\n",
    "\n",
    "After fitting `GridSearchCV` on the training dataset, we will have 48 hyperparameter combinations. Since 3-fold cross-validation is used, there are 144 models trained in total. \n"
   ]
  },
  {
   "cell_type": "code",
   "execution_count": 36,
   "id": "823c4647-833f-4612-9af9-5aab8613504f",
   "metadata": {
    "colab": {
     "base_uri": "https://localhost:8080/"
    },
    "id": "jug6BP8RKW11",
    "outputId": "eea13ce7-59be-40f3-eeb2-829957ac0ce8"
   },
   "outputs": [
    {
     "data": {
      "text/html": [
       "<style>#sk-container-id-1 {color: black;background-color: white;}#sk-container-id-1 pre{padding: 0;}#sk-container-id-1 div.sk-toggleable {background-color: white;}#sk-container-id-1 label.sk-toggleable__label {cursor: pointer;display: block;width: 100%;margin-bottom: 0;padding: 0.3em;box-sizing: border-box;text-align: center;}#sk-container-id-1 label.sk-toggleable__label-arrow:before {content: \"▸\";float: left;margin-right: 0.25em;color: #696969;}#sk-container-id-1 label.sk-toggleable__label-arrow:hover:before {color: black;}#sk-container-id-1 div.sk-estimator:hover label.sk-toggleable__label-arrow:before {color: black;}#sk-container-id-1 div.sk-toggleable__content {max-height: 0;max-width: 0;overflow: hidden;text-align: left;background-color: #f0f8ff;}#sk-container-id-1 div.sk-toggleable__content pre {margin: 0.2em;color: black;border-radius: 0.25em;background-color: #f0f8ff;}#sk-container-id-1 input.sk-toggleable__control:checked~div.sk-toggleable__content {max-height: 200px;max-width: 100%;overflow: auto;}#sk-container-id-1 input.sk-toggleable__control:checked~label.sk-toggleable__label-arrow:before {content: \"▾\";}#sk-container-id-1 div.sk-estimator input.sk-toggleable__control:checked~label.sk-toggleable__label {background-color: #d4ebff;}#sk-container-id-1 div.sk-label input.sk-toggleable__control:checked~label.sk-toggleable__label {background-color: #d4ebff;}#sk-container-id-1 input.sk-hidden--visually {border: 0;clip: rect(1px 1px 1px 1px);clip: rect(1px, 1px, 1px, 1px);height: 1px;margin: -1px;overflow: hidden;padding: 0;position: absolute;width: 1px;}#sk-container-id-1 div.sk-estimator {font-family: monospace;background-color: #f0f8ff;border: 1px dotted black;border-radius: 0.25em;box-sizing: border-box;margin-bottom: 0.5em;}#sk-container-id-1 div.sk-estimator:hover {background-color: #d4ebff;}#sk-container-id-1 div.sk-parallel-item::after {content: \"\";width: 100%;border-bottom: 1px solid gray;flex-grow: 1;}#sk-container-id-1 div.sk-label:hover label.sk-toggleable__label {background-color: #d4ebff;}#sk-container-id-1 div.sk-serial::before {content: \"\";position: absolute;border-left: 1px solid gray;box-sizing: border-box;top: 0;bottom: 0;left: 50%;z-index: 0;}#sk-container-id-1 div.sk-serial {display: flex;flex-direction: column;align-items: center;background-color: white;padding-right: 0.2em;padding-left: 0.2em;position: relative;}#sk-container-id-1 div.sk-item {position: relative;z-index: 1;}#sk-container-id-1 div.sk-parallel {display: flex;align-items: stretch;justify-content: center;background-color: white;position: relative;}#sk-container-id-1 div.sk-item::before, #sk-container-id-1 div.sk-parallel-item::before {content: \"\";position: absolute;border-left: 1px solid gray;box-sizing: border-box;top: 0;bottom: 0;left: 50%;z-index: -1;}#sk-container-id-1 div.sk-parallel-item {display: flex;flex-direction: column;z-index: 1;position: relative;background-color: white;}#sk-container-id-1 div.sk-parallel-item:first-child::after {align-self: flex-end;width: 50%;}#sk-container-id-1 div.sk-parallel-item:last-child::after {align-self: flex-start;width: 50%;}#sk-container-id-1 div.sk-parallel-item:only-child::after {width: 0;}#sk-container-id-1 div.sk-dashed-wrapped {border: 1px dashed gray;margin: 0 0.4em 0.5em 0.4em;box-sizing: border-box;padding-bottom: 0.4em;background-color: white;}#sk-container-id-1 div.sk-label label {font-family: monospace;font-weight: bold;display: inline-block;line-height: 1.2em;}#sk-container-id-1 div.sk-label-container {text-align: center;}#sk-container-id-1 div.sk-container {/* jupyter's `normalize.less` sets `[hidden] { display: none; }` but bootstrap.min.css set `[hidden] { display: none !important; }` so we also need the `!important` here to be able to override the default hidden behavior on the sphinx rendered scikit-learn.org. See: https://github.com/scikit-learn/scikit-learn/issues/21755 */display: inline-block !important;position: relative;}#sk-container-id-1 div.sk-text-repr-fallback {display: none;}</style><div id=\"sk-container-id-1\" class=\"sk-top-container\"><div class=\"sk-text-repr-fallback\"><pre>GridSearchCV(cv=StratifiedKFold(n_splits=3, random_state=42, shuffle=True),\n",
       "             estimator=XGBClassifier(base_score=None, booster=None,\n",
       "                                     callbacks=None, colsample_bylevel=None,\n",
       "                                     colsample_bynode=None,\n",
       "                                     colsample_bytree=None,\n",
       "                                     early_stopping_rounds=None,\n",
       "                                     enable_categorical=False, eval_metric=None,\n",
       "                                     feature_types=None, gamma=None,\n",
       "                                     gpu_id=None, grow_policy=None,\n",
       "                                     importance_typ...\n",
       "                                     max_cat_to_onehot=None,\n",
       "                                     max_delta_step=None, max_depth=None,\n",
       "                                     max_leaves=None, min_child_weight=None,\n",
       "                                     missing=nan, monotone_constraints=None,\n",
       "                                     n_estimators=100, n_jobs=None,\n",
       "                                     num_parallel_tree=None, predictor=None,\n",
       "                                     random_state=None, ...),\n",
       "             n_jobs=-1,\n",
       "             param_grid={&#x27;colsample_bytree&#x27;: [0.3, 0.5, 0.8],\n",
       "                         &#x27;reg_alpha&#x27;: [0, 0.5, 1, 5],\n",
       "                         &#x27;reg_lambda&#x27;: [0, 0.5, 1, 5]},\n",
       "             refit=&#x27;recall&#x27;, scoring=[&#x27;recall&#x27;])</pre><b>In a Jupyter environment, please rerun this cell to show the HTML representation or trust the notebook. <br />On GitHub, the HTML representation is unable to render, please try loading this page with nbviewer.org.</b></div><div class=\"sk-container\" hidden><div class=\"sk-item sk-dashed-wrapped\"><div class=\"sk-label-container\"><div class=\"sk-label sk-toggleable\"><input class=\"sk-toggleable__control sk-hidden--visually\" id=\"sk-estimator-id-1\" type=\"checkbox\" ><label for=\"sk-estimator-id-1\" class=\"sk-toggleable__label sk-toggleable__label-arrow\">GridSearchCV</label><div class=\"sk-toggleable__content\"><pre>GridSearchCV(cv=StratifiedKFold(n_splits=3, random_state=42, shuffle=True),\n",
       "             estimator=XGBClassifier(base_score=None, booster=None,\n",
       "                                     callbacks=None, colsample_bylevel=None,\n",
       "                                     colsample_bynode=None,\n",
       "                                     colsample_bytree=None,\n",
       "                                     early_stopping_rounds=None,\n",
       "                                     enable_categorical=False, eval_metric=None,\n",
       "                                     feature_types=None, gamma=None,\n",
       "                                     gpu_id=None, grow_policy=None,\n",
       "                                     importance_typ...\n",
       "                                     max_cat_to_onehot=None,\n",
       "                                     max_delta_step=None, max_depth=None,\n",
       "                                     max_leaves=None, min_child_weight=None,\n",
       "                                     missing=nan, monotone_constraints=None,\n",
       "                                     n_estimators=100, n_jobs=None,\n",
       "                                     num_parallel_tree=None, predictor=None,\n",
       "                                     random_state=None, ...),\n",
       "             n_jobs=-1,\n",
       "             param_grid={&#x27;colsample_bytree&#x27;: [0.3, 0.5, 0.8],\n",
       "                         &#x27;reg_alpha&#x27;: [0, 0.5, 1, 5],\n",
       "                         &#x27;reg_lambda&#x27;: [0, 0.5, 1, 5]},\n",
       "             refit=&#x27;recall&#x27;, scoring=[&#x27;recall&#x27;])</pre></div></div></div><div class=\"sk-parallel\"><div class=\"sk-parallel-item\"><div class=\"sk-item\"><div class=\"sk-label-container\"><div class=\"sk-label sk-toggleable\"><input class=\"sk-toggleable__control sk-hidden--visually\" id=\"sk-estimator-id-2\" type=\"checkbox\" ><label for=\"sk-estimator-id-2\" class=\"sk-toggleable__label sk-toggleable__label-arrow\">estimator: XGBClassifier</label><div class=\"sk-toggleable__content\"><pre>XGBClassifier(base_score=None, booster=None, callbacks=None,\n",
       "              colsample_bylevel=None, colsample_bynode=None,\n",
       "              colsample_bytree=None, early_stopping_rounds=None,\n",
       "              enable_categorical=False, eval_metric=None, feature_types=None,\n",
       "              gamma=None, gpu_id=None, grow_policy=None, importance_type=None,\n",
       "              interaction_constraints=None, learning_rate=None, max_bin=None,\n",
       "              max_cat_threshold=None, max_cat_to_onehot=None,\n",
       "              max_delta_step=None, max_depth=None, max_leaves=None,\n",
       "              min_child_weight=None, missing=nan, monotone_constraints=None,\n",
       "              n_estimators=100, n_jobs=None, num_parallel_tree=None,\n",
       "              predictor=None, random_state=None, ...)</pre></div></div></div><div class=\"sk-serial\"><div class=\"sk-item\"><div class=\"sk-estimator sk-toggleable\"><input class=\"sk-toggleable__control sk-hidden--visually\" id=\"sk-estimator-id-3\" type=\"checkbox\" ><label for=\"sk-estimator-id-3\" class=\"sk-toggleable__label sk-toggleable__label-arrow\">XGBClassifier</label><div class=\"sk-toggleable__content\"><pre>XGBClassifier(base_score=None, booster=None, callbacks=None,\n",
       "              colsample_bylevel=None, colsample_bynode=None,\n",
       "              colsample_bytree=None, early_stopping_rounds=None,\n",
       "              enable_categorical=False, eval_metric=None, feature_types=None,\n",
       "              gamma=None, gpu_id=None, grow_policy=None, importance_type=None,\n",
       "              interaction_constraints=None, learning_rate=None, max_bin=None,\n",
       "              max_cat_threshold=None, max_cat_to_onehot=None,\n",
       "              max_delta_step=None, max_depth=None, max_leaves=None,\n",
       "              min_child_weight=None, missing=nan, monotone_constraints=None,\n",
       "              n_estimators=100, n_jobs=None, num_parallel_tree=None,\n",
       "              predictor=None, random_state=None, ...)</pre></div></div></div></div></div></div></div></div></div></div>"
      ],
      "text/plain": [
       "GridSearchCV(cv=StratifiedKFold(n_splits=3, random_state=42, shuffle=True),\n",
       "             estimator=XGBClassifier(base_score=None, booster=None,\n",
       "                                     callbacks=None, colsample_bylevel=None,\n",
       "                                     colsample_bynode=None,\n",
       "                                     colsample_bytree=None,\n",
       "                                     early_stopping_rounds=None,\n",
       "                                     enable_categorical=False, eval_metric=None,\n",
       "                                     feature_types=None, gamma=None,\n",
       "                                     gpu_id=None, grow_policy=None,\n",
       "                                     importance_typ...\n",
       "                                     max_cat_to_onehot=None,\n",
       "                                     max_delta_step=None, max_depth=None,\n",
       "                                     max_leaves=None, min_child_weight=None,\n",
       "                                     missing=nan, monotone_constraints=None,\n",
       "                                     n_estimators=100, n_jobs=None,\n",
       "                                     num_parallel_tree=None, predictor=None,\n",
       "                                     random_state=None, ...),\n",
       "             n_jobs=-1,\n",
       "             param_grid={'colsample_bytree': [0.3, 0.5, 0.8],\n",
       "                         'reg_alpha': [0, 0.5, 1, 5],\n",
       "                         'reg_lambda': [0, 0.5, 1, 5]},\n",
       "             refit='recall', scoring=['recall'])"
      ]
     },
     "execution_count": 36,
     "metadata": {},
     "output_type": "execute_result"
    }
   ],
   "source": [
    "# Define grid search\n",
    "grid_search = GridSearchCV(estimator=xgboost, \n",
    "                           param_grid=param_grid, \n",
    "                           scoring=scoring, \n",
    "                           refit='recall', \n",
    "                           n_jobs=-1, \n",
    "                           cv=kfold, \n",
    "                           verbose=0)\n",
    "\n",
    "# Fit grid search\n",
    "grid_result = grid_search.fit(X_train_transformed, y_train)\n",
    "\n",
    "# Print grid search summary\n",
    "grid_result"
   ]
  },
  {
   "cell_type": "code",
   "execution_count": 37,
   "id": "066c3cb8-0cdf-4eb1-bb14-5026a814a7a1",
   "metadata": {
    "colab": {
     "base_uri": "https://localhost:8080/"
    },
    "id": "UBEaK_kjyEWP",
    "outputId": "5e5b0602-31e3-4b15-c703-2e1102cf8cbe"
   },
   "outputs": [
    {
     "name": "stdout",
     "output_type": "stream",
     "text": [
      "The best score is 0.9790\n",
      "The best score standard deviation is 0.0228\n",
      "The best hyperparameters are {'colsample_bytree': 0.3, 'reg_alpha': 0, 'reg_lambda': 0.5}\n"
     ]
    }
   ],
   "source": [
    "# Print the best score and the corresponding hyperparameters\n",
    "print(f'The best score is {grid_result.best_score_:.4f}')\n",
    "print('The best score standard deviation is', round(grid_result.cv_results_['std_test_recall'][grid_result.best_index_], 4))\n",
    "print(f'The best hyperparameters are {grid_result.best_params_}')"
   ]
  },
  {
   "cell_type": "code",
   "execution_count": 38,
   "id": "74b400f2-2a31-40e4-9382-c40b909bd44f",
   "metadata": {
    "colab": {
     "base_uri": "https://localhost:8080/"
    },
    "id": "5RfqDycb1Fv-",
    "outputId": "f94a9ae0-1a47-486c-ecd1-8b4f4cddaf49"
   },
   "outputs": [
    {
     "name": "stdout",
     "output_type": "stream",
     "text": [
      "The recall value for the xgboost grid search is 0.9859\n"
     ]
    }
   ],
   "source": [
    "# Make prediction using the best model\n",
    "grid_predict = grid_search.predict(X_test_transformed)\n",
    "\n",
    "# Get predicted probabilities\n",
    "grid_predict_prob = grid_search.predict_proba(X_test_transformed)[:,1]\n",
    "\n",
    "# Get performance metrics\n",
    "precision, recall, fscore, support = score(y_test, grid_predict)\n",
    "\n",
    "# Print result\n",
    "print(f'The recall value for the xgboost grid search is {recall[1]:.4f}')\n"
   ]
  },
  {
   "cell_type": "code",
   "execution_count": 39,
   "id": "53a6b019-a6b1-4a04-b871-bdae5a3aac0e",
   "metadata": {},
   "outputs": [
    {
     "name": "stdout",
     "output_type": "stream",
     "text": [
      "Precision: 0.972\n",
      "Recall: 0.986\n",
      "F1: 0.979\n",
      "Accuracy: 0.974\n"
     ]
    }
   ],
   "source": [
    "print('Precision: %.3f' % precision_score(y_test, grid_predict))\n",
    "print('Recall: %.3f' % recall_score(y_test, grid_predict))\n",
    "print('F1: %.3f' % f1_score(y_test, grid_predict))\n",
    "print('Accuracy: %.3f' % accuracy_score(y_test, grid_predict))"
   ]
  },
  {
   "cell_type": "markdown",
   "id": "64a1a988-c5d8-49d0-87cd-58fe19c37913",
   "metadata": {
    "id": "6Jhaw8JtwFpH"
   },
   "source": [
    "# Step 7: Random Search for XGBoost"
   ]
  },
  {
   "cell_type": "markdown",
   "id": "e1e53ff6-f5c3-408b-8cb0-b1ba3e7c642c",
   "metadata": {
    "id": "MVpslGbI-KRS"
   },
   "source": [
    "In step 7, we are using a random search for XGBoost hyperparameter tuning. Since random search randomly picks a fixed number of hyperparameter combinations, we can afford to try more hyperparameters and more values. Therefore, we added three more parameters to the search space.\n",
    "\n",
    "* `learning_rate` shrinks the weights to make the boosting process more conservative.\n",
    "* `max_depth` is the maximum depth of the tree. Increasing it increases the model complexity.\n",
    "* `gamma` specifies the minimum loss reduction required to do a split.\n",
    "\n",
    "If at least one of the parameters is a distribution, sampling with replacement is used for a random search. If all parameters are provided as a list, sampling without replacement is used. Each list is treated as a uniform distribution.\n",
    "\n"
   ]
  },
  {
   "cell_type": "code",
   "execution_count": 40,
   "id": "2885cb93-62fc-4567-89f4-a94d9c2de3a3",
   "metadata": {
    "id": "5wgDHDDd7FtS"
   },
   "outputs": [],
   "source": [
    "# Define the search space\n",
    "param_grid = { \n",
    "    # Learning rate shrinks the weights to make the boosting process more conservative\n",
    "    \"learning_rate\": [0.0001,0.001, 0.01, 0.1, 1] ,\n",
    "    # Maximum depth of the tree, increasing it increases the model complexity.\n",
    "    \"max_depth\": range(3,21,3),\n",
    "    # Gamma specifies the minimum loss reduction required to make a split.\n",
    "    \"gamma\": [i/10.0 for i in range(0,5)],\n",
    "    # Percentage of columns to be randomly samples for each tree.\n",
    "    \"colsample_bytree\": [i/10.0 for i in range(3,10)],\n",
    "    # reg_alpha provides l1 regularization to the weight, higher values result in more conservative models\n",
    "    \"reg_alpha\": [1e-5, 1e-2, 0.1, 1, 10, 100],\n",
    "    # reg_lambda provides l2 regularization to the weight, higher values result in more conservative models\n",
    "    \"reg_lambda\": [1e-5, 1e-2, 0.1, 1, 10, 100]}\n",
    "\n",
    "# Set up score\n",
    "scoring = ['recall']\n",
    "\n",
    "# Set up the k-fold cross-validation\n",
    "kfold = StratifiedKFold(n_splits=3, shuffle=True, random_state=0)"
   ]
  },
  {
   "cell_type": "markdown",
   "id": "4319253a-3231-4fa7-b967-d78705006d2a",
   "metadata": {
    "id": "5UjcxCzqcaiY"
   },
   "source": [
    "The same scoring metric and cross-validation values used in grid search are used for the random search. But for a random search, we need to specify a value for `n_iter`, the number of parameter combinations sampled. So we are randomly testing 48 combinations for this example."
   ]
  },
  {
   "cell_type": "code",
   "execution_count": 41,
   "id": "495ac6ed-c2e5-492a-9af1-43d9c138db21",
   "metadata": {
    "colab": {
     "base_uri": "https://localhost:8080/"
    },
    "id": "F0uR9dh2CDe9",
    "outputId": "d690ff3d-8992-4079-8e49-b4c9d37a0bda"
   },
   "outputs": [
    {
     "data": {
      "text/html": [
       "<style>#sk-container-id-2 {color: black;background-color: white;}#sk-container-id-2 pre{padding: 0;}#sk-container-id-2 div.sk-toggleable {background-color: white;}#sk-container-id-2 label.sk-toggleable__label {cursor: pointer;display: block;width: 100%;margin-bottom: 0;padding: 0.3em;box-sizing: border-box;text-align: center;}#sk-container-id-2 label.sk-toggleable__label-arrow:before {content: \"▸\";float: left;margin-right: 0.25em;color: #696969;}#sk-container-id-2 label.sk-toggleable__label-arrow:hover:before {color: black;}#sk-container-id-2 div.sk-estimator:hover label.sk-toggleable__label-arrow:before {color: black;}#sk-container-id-2 div.sk-toggleable__content {max-height: 0;max-width: 0;overflow: hidden;text-align: left;background-color: #f0f8ff;}#sk-container-id-2 div.sk-toggleable__content pre {margin: 0.2em;color: black;border-radius: 0.25em;background-color: #f0f8ff;}#sk-container-id-2 input.sk-toggleable__control:checked~div.sk-toggleable__content {max-height: 200px;max-width: 100%;overflow: auto;}#sk-container-id-2 input.sk-toggleable__control:checked~label.sk-toggleable__label-arrow:before {content: \"▾\";}#sk-container-id-2 div.sk-estimator input.sk-toggleable__control:checked~label.sk-toggleable__label {background-color: #d4ebff;}#sk-container-id-2 div.sk-label input.sk-toggleable__control:checked~label.sk-toggleable__label {background-color: #d4ebff;}#sk-container-id-2 input.sk-hidden--visually {border: 0;clip: rect(1px 1px 1px 1px);clip: rect(1px, 1px, 1px, 1px);height: 1px;margin: -1px;overflow: hidden;padding: 0;position: absolute;width: 1px;}#sk-container-id-2 div.sk-estimator {font-family: monospace;background-color: #f0f8ff;border: 1px dotted black;border-radius: 0.25em;box-sizing: border-box;margin-bottom: 0.5em;}#sk-container-id-2 div.sk-estimator:hover {background-color: #d4ebff;}#sk-container-id-2 div.sk-parallel-item::after {content: \"\";width: 100%;border-bottom: 1px solid gray;flex-grow: 1;}#sk-container-id-2 div.sk-label:hover label.sk-toggleable__label {background-color: #d4ebff;}#sk-container-id-2 div.sk-serial::before {content: \"\";position: absolute;border-left: 1px solid gray;box-sizing: border-box;top: 0;bottom: 0;left: 50%;z-index: 0;}#sk-container-id-2 div.sk-serial {display: flex;flex-direction: column;align-items: center;background-color: white;padding-right: 0.2em;padding-left: 0.2em;position: relative;}#sk-container-id-2 div.sk-item {position: relative;z-index: 1;}#sk-container-id-2 div.sk-parallel {display: flex;align-items: stretch;justify-content: center;background-color: white;position: relative;}#sk-container-id-2 div.sk-item::before, #sk-container-id-2 div.sk-parallel-item::before {content: \"\";position: absolute;border-left: 1px solid gray;box-sizing: border-box;top: 0;bottom: 0;left: 50%;z-index: -1;}#sk-container-id-2 div.sk-parallel-item {display: flex;flex-direction: column;z-index: 1;position: relative;background-color: white;}#sk-container-id-2 div.sk-parallel-item:first-child::after {align-self: flex-end;width: 50%;}#sk-container-id-2 div.sk-parallel-item:last-child::after {align-self: flex-start;width: 50%;}#sk-container-id-2 div.sk-parallel-item:only-child::after {width: 0;}#sk-container-id-2 div.sk-dashed-wrapped {border: 1px dashed gray;margin: 0 0.4em 0.5em 0.4em;box-sizing: border-box;padding-bottom: 0.4em;background-color: white;}#sk-container-id-2 div.sk-label label {font-family: monospace;font-weight: bold;display: inline-block;line-height: 1.2em;}#sk-container-id-2 div.sk-label-container {text-align: center;}#sk-container-id-2 div.sk-container {/* jupyter's `normalize.less` sets `[hidden] { display: none; }` but bootstrap.min.css set `[hidden] { display: none !important; }` so we also need the `!important` here to be able to override the default hidden behavior on the sphinx rendered scikit-learn.org. See: https://github.com/scikit-learn/scikit-learn/issues/21755 */display: inline-block !important;position: relative;}#sk-container-id-2 div.sk-text-repr-fallback {display: none;}</style><div id=\"sk-container-id-2\" class=\"sk-top-container\"><div class=\"sk-text-repr-fallback\"><pre>RandomizedSearchCV(cv=StratifiedKFold(n_splits=3, random_state=0, shuffle=True),\n",
       "                   estimator=XGBClassifier(base_score=None, booster=None,\n",
       "                                           callbacks=None,\n",
       "                                           colsample_bylevel=None,\n",
       "                                           colsample_bynode=None,\n",
       "                                           colsample_bytree=None,\n",
       "                                           early_stopping_rounds=None,\n",
       "                                           enable_categorical=False,\n",
       "                                           eval_metric=None, feature_types=None,\n",
       "                                           gamma=None, gpu_id=None,\n",
       "                                           grow_policy=None,\n",
       "                                           importanc...\n",
       "                                           num_parallel_tree=None,\n",
       "                                           predictor=None, random_state=None, ...),\n",
       "                   n_iter=48, n_jobs=-1,\n",
       "                   param_distributions={&#x27;colsample_bytree&#x27;: [0.3, 0.4, 0.5, 0.6,\n",
       "                                                             0.7, 0.8, 0.9],\n",
       "                                        &#x27;gamma&#x27;: [0.0, 0.1, 0.2, 0.3, 0.4],\n",
       "                                        &#x27;learning_rate&#x27;: [0.0001, 0.001, 0.01,\n",
       "                                                          0.1, 1],\n",
       "                                        &#x27;max_depth&#x27;: range(3, 21, 3),\n",
       "                                        &#x27;reg_alpha&#x27;: [1e-05, 0.01, 0.1, 1, 10,\n",
       "                                                      100],\n",
       "                                        &#x27;reg_lambda&#x27;: [1e-05, 0.01, 0.1, 1, 10,\n",
       "                                                       100]},\n",
       "                   refit=&#x27;recall&#x27;, scoring=[&#x27;recall&#x27;])</pre><b>In a Jupyter environment, please rerun this cell to show the HTML representation or trust the notebook. <br />On GitHub, the HTML representation is unable to render, please try loading this page with nbviewer.org.</b></div><div class=\"sk-container\" hidden><div class=\"sk-item sk-dashed-wrapped\"><div class=\"sk-label-container\"><div class=\"sk-label sk-toggleable\"><input class=\"sk-toggleable__control sk-hidden--visually\" id=\"sk-estimator-id-4\" type=\"checkbox\" ><label for=\"sk-estimator-id-4\" class=\"sk-toggleable__label sk-toggleable__label-arrow\">RandomizedSearchCV</label><div class=\"sk-toggleable__content\"><pre>RandomizedSearchCV(cv=StratifiedKFold(n_splits=3, random_state=0, shuffle=True),\n",
       "                   estimator=XGBClassifier(base_score=None, booster=None,\n",
       "                                           callbacks=None,\n",
       "                                           colsample_bylevel=None,\n",
       "                                           colsample_bynode=None,\n",
       "                                           colsample_bytree=None,\n",
       "                                           early_stopping_rounds=None,\n",
       "                                           enable_categorical=False,\n",
       "                                           eval_metric=None, feature_types=None,\n",
       "                                           gamma=None, gpu_id=None,\n",
       "                                           grow_policy=None,\n",
       "                                           importanc...\n",
       "                                           num_parallel_tree=None,\n",
       "                                           predictor=None, random_state=None, ...),\n",
       "                   n_iter=48, n_jobs=-1,\n",
       "                   param_distributions={&#x27;colsample_bytree&#x27;: [0.3, 0.4, 0.5, 0.6,\n",
       "                                                             0.7, 0.8, 0.9],\n",
       "                                        &#x27;gamma&#x27;: [0.0, 0.1, 0.2, 0.3, 0.4],\n",
       "                                        &#x27;learning_rate&#x27;: [0.0001, 0.001, 0.01,\n",
       "                                                          0.1, 1],\n",
       "                                        &#x27;max_depth&#x27;: range(3, 21, 3),\n",
       "                                        &#x27;reg_alpha&#x27;: [1e-05, 0.01, 0.1, 1, 10,\n",
       "                                                      100],\n",
       "                                        &#x27;reg_lambda&#x27;: [1e-05, 0.01, 0.1, 1, 10,\n",
       "                                                       100]},\n",
       "                   refit=&#x27;recall&#x27;, scoring=[&#x27;recall&#x27;])</pre></div></div></div><div class=\"sk-parallel\"><div class=\"sk-parallel-item\"><div class=\"sk-item\"><div class=\"sk-label-container\"><div class=\"sk-label sk-toggleable\"><input class=\"sk-toggleable__control sk-hidden--visually\" id=\"sk-estimator-id-5\" type=\"checkbox\" ><label for=\"sk-estimator-id-5\" class=\"sk-toggleable__label sk-toggleable__label-arrow\">estimator: XGBClassifier</label><div class=\"sk-toggleable__content\"><pre>XGBClassifier(base_score=None, booster=None, callbacks=None,\n",
       "              colsample_bylevel=None, colsample_bynode=None,\n",
       "              colsample_bytree=None, early_stopping_rounds=None,\n",
       "              enable_categorical=False, eval_metric=None, feature_types=None,\n",
       "              gamma=None, gpu_id=None, grow_policy=None, importance_type=None,\n",
       "              interaction_constraints=None, learning_rate=None, max_bin=None,\n",
       "              max_cat_threshold=None, max_cat_to_onehot=None,\n",
       "              max_delta_step=None, max_depth=None, max_leaves=None,\n",
       "              min_child_weight=None, missing=nan, monotone_constraints=None,\n",
       "              n_estimators=100, n_jobs=None, num_parallel_tree=None,\n",
       "              predictor=None, random_state=None, ...)</pre></div></div></div><div class=\"sk-serial\"><div class=\"sk-item\"><div class=\"sk-estimator sk-toggleable\"><input class=\"sk-toggleable__control sk-hidden--visually\" id=\"sk-estimator-id-6\" type=\"checkbox\" ><label for=\"sk-estimator-id-6\" class=\"sk-toggleable__label sk-toggleable__label-arrow\">XGBClassifier</label><div class=\"sk-toggleable__content\"><pre>XGBClassifier(base_score=None, booster=None, callbacks=None,\n",
       "              colsample_bylevel=None, colsample_bynode=None,\n",
       "              colsample_bytree=None, early_stopping_rounds=None,\n",
       "              enable_categorical=False, eval_metric=None, feature_types=None,\n",
       "              gamma=None, gpu_id=None, grow_policy=None, importance_type=None,\n",
       "              interaction_constraints=None, learning_rate=None, max_bin=None,\n",
       "              max_cat_threshold=None, max_cat_to_onehot=None,\n",
       "              max_delta_step=None, max_depth=None, max_leaves=None,\n",
       "              min_child_weight=None, missing=nan, monotone_constraints=None,\n",
       "              n_estimators=100, n_jobs=None, num_parallel_tree=None,\n",
       "              predictor=None, random_state=None, ...)</pre></div></div></div></div></div></div></div></div></div></div>"
      ],
      "text/plain": [
       "RandomizedSearchCV(cv=StratifiedKFold(n_splits=3, random_state=0, shuffle=True),\n",
       "                   estimator=XGBClassifier(base_score=None, booster=None,\n",
       "                                           callbacks=None,\n",
       "                                           colsample_bylevel=None,\n",
       "                                           colsample_bynode=None,\n",
       "                                           colsample_bytree=None,\n",
       "                                           early_stopping_rounds=None,\n",
       "                                           enable_categorical=False,\n",
       "                                           eval_metric=None, feature_types=None,\n",
       "                                           gamma=None, gpu_id=None,\n",
       "                                           grow_policy=None,\n",
       "                                           importanc...\n",
       "                                           num_parallel_tree=None,\n",
       "                                           predictor=None, random_state=None, ...),\n",
       "                   n_iter=48, n_jobs=-1,\n",
       "                   param_distributions={'colsample_bytree': [0.3, 0.4, 0.5, 0.6,\n",
       "                                                             0.7, 0.8, 0.9],\n",
       "                                        'gamma': [0.0, 0.1, 0.2, 0.3, 0.4],\n",
       "                                        'learning_rate': [0.0001, 0.001, 0.01,\n",
       "                                                          0.1, 1],\n",
       "                                        'max_depth': range(3, 21, 3),\n",
       "                                        'reg_alpha': [1e-05, 0.01, 0.1, 1, 10,\n",
       "                                                      100],\n",
       "                                        'reg_lambda': [1e-05, 0.01, 0.1, 1, 10,\n",
       "                                                       100]},\n",
       "                   refit='recall', scoring=['recall'])"
      ]
     },
     "execution_count": 41,
     "metadata": {},
     "output_type": "execute_result"
    }
   ],
   "source": [
    "# Define random search\n",
    "random_search = RandomizedSearchCV(\n",
    "                           estimator=xgboost, \n",
    "                           param_distributions=param_grid, \n",
    "                           n_iter=48,\n",
    "                           scoring=scoring, \n",
    "                           refit='recall', \n",
    "                           n_jobs=-1, \n",
    "                           cv=kfold, \n",
    "                           verbose=0)\n",
    "\n",
    "# Fit grid search\n",
    "random_result = random_search.fit(X_train_transformed, y_train)\n",
    "\n",
    "# Print grid search summary\n",
    "random_result"
   ]
  },
  {
   "cell_type": "code",
   "execution_count": 42,
   "id": "82fd3adc-cc98-475d-a10d-c97c9cf6fe39",
   "metadata": {
    "colab": {
     "base_uri": "https://localhost:8080/"
    },
    "id": "O8dcuHpUDgqb",
    "outputId": "17f5b491-98ba-4355-aa43-a4d5e92e896e"
   },
   "outputs": [
    {
     "name": "stdout",
     "output_type": "stream",
     "text": [
      "The best score is 0.9895\n",
      "The best score standard deviation is 0.0086\n",
      "The best hyperparameters are {'reg_lambda': 1, 'reg_alpha': 0.01, 'max_depth': 6, 'learning_rate': 1, 'gamma': 0.0, 'colsample_bytree': 0.6}\n"
     ]
    }
   ],
   "source": [
    "# Print the best score and the corresponding hyperparameters\n",
    "print(f'The best score is {random_result.best_score_:.4f}')\n",
    "print('The best score standard deviation is', round(random_result.cv_results_['std_test_recall'][random_result.best_index_], 4))\n",
    "print(f'The best hyperparameters are {random_result.best_params_}')"
   ]
  },
  {
   "cell_type": "markdown",
   "id": "855eaaac-c244-4e20-92c7-7f4a32a120c7",
   "metadata": {
    "id": "zUpq3XmTlWqw"
   },
   "source": [
    "After finishing the random search cross-validation, we printed out the best score, standard deviation, and the best parameters. Although the best parameters are different from the grid search, the best score and standard deviation for the cross-validation are very close. "
   ]
  },
  {
   "cell_type": "code",
   "execution_count": 43,
   "id": "3e4a202f-1d41-4284-9a5c-096d8774d21a",
   "metadata": {
    "colab": {
     "base_uri": "https://localhost:8080/"
    },
    "id": "_83I8O3fDrFL",
    "outputId": "d386c618-770e-48b7-cae4-5015e637171c"
   },
   "outputs": [
    {
     "name": "stdout",
     "output_type": "stream",
     "text": [
      "The recall value for the xgboost random search is 0.9859\n"
     ]
    }
   ],
   "source": [
    "# Make prediction using the best model\n",
    "random_predict = random_search.predict(X_test_transformed)\n",
    "\n",
    "# Get predicted probabilities\n",
    "random_predict_prob = random_search.predict_proba(X_test_transformed)[:,1]\n",
    "\n",
    "# Get performance metrics\n",
    "precision, recall, fscore, support = score(y_test, random_predict)\n",
    "\n",
    "# Print result\n",
    "print(f'The recall value for the xgboost random search is {recall[1]:.4f}')"
   ]
  },
  {
   "cell_type": "code",
   "execution_count": 44,
   "id": "35e08985-55b5-4566-a169-05559b00bb6b",
   "metadata": {},
   "outputs": [
    {
     "name": "stdout",
     "output_type": "stream",
     "text": [
      "Precision: 0.959\n",
      "Recall: 0.986\n",
      "F1: 0.972\n",
      "Accuracy: 0.965\n"
     ]
    }
   ],
   "source": [
    "print('Precision: %.3f' % precision_score(y_test, random_predict))\n",
    "print('Recall: %.3f' % recall_score(y_test, random_predict))\n",
    "print('F1: %.3f' % f1_score(y_test, random_predict))\n",
    "print('Accuracy: %.3f' % accuracy_score(y_test, random_predict))"
   ]
  },
  {
   "cell_type": "markdown",
   "id": "bc0ea56e-67f6-44aa-9ec6-266359c6967c",
   "metadata": {
    "id": "bMAJW-LwjbkM"
   },
   "source": [
    "The random search recall value on the test dataset is creased from 97.18% to 98.59%."
   ]
  },
  {
   "cell_type": "markdown",
   "id": "a4c7e07e-55dc-4a9a-997c-ec9d5d20abb6",
   "metadata": {
    "id": "NDnzPbvUD7Hm"
   },
   "source": [
    "# Step 8: Bayesian Optimization For XGBoost"
   ]
  },
  {
   "cell_type": "markdown",
   "id": "417929d6-f971-4bc9-bdcf-0b3e5a4725f6",
   "metadata": {
    "id": "38S9OcoRpOea"
   },
   "source": [
    "In step 8, we will apply Hyperopt Bayesian optimization on XGBoost hyperparameter tuning. According to the documentation on [Hyperopt github](https://github.com/hyperopt/hyperopt/wiki/FMin) page, there are four key elements for Hyperopt:\n",
    "* the space over which to search\n",
    "* the objective function to minimize\n",
    "* the database in which to store all the point evaluations of the search\n",
    "* the search algorithm to use\n",
    "\n",
    "For the search space, the same space as the random search is used for the Hyperopt Bayesian optimization."
   ]
  },
  {
   "cell_type": "code",
   "execution_count": 45,
   "id": "59b9b086-3ac9-4eaa-a641-f0f517f88d4a",
   "metadata": {
    "id": "V20VvreOpQfm"
   },
   "outputs": [],
   "source": [
    "space = {\n",
    "    'learning_rate': hp.choice('learning_rate', [0.0001,0.001, 0.01, 0.1, 1]),\n",
    "    'max_depth' : hp.choice('max_depth', range(3,21,3)),\n",
    "    'gamma' : hp.choice('gamma', [i/10.0 for i in range(0,5)]),\n",
    "    'colsample_bytree' : hp.choice('colsample_bytree', [i/10.0 for i in range(3,10)]),     \n",
    "    'reg_alpha' : hp.choice('reg_alpha', [1e-5, 1e-2, 0.1, 1, 10, 100]), \n",
    "    'reg_lambda' : hp.choice('reg_lambda', [1e-5, 1e-2, 0.1, 1, 10, 100])\n",
    "}"
   ]
  },
  {
   "cell_type": "markdown",
   "id": "d4f6ed39-bbad-44bf-ac62-ef0b2a7745c5",
   "metadata": {
    "id": "WGXS84Uspaap"
   },
   "source": [
    "`StratifiedKFold` is used to split the training dataset into k folds and keep the ratio between the classes in each fold the same as the training dataset. It is used for the cross-validation.\n",
    "  * `n_splits=3` means that the training dataset is split into 3 folds. This is because our dataset is small. For a larger dataset, usually 5 or 10 folds are used.\n",
    "  * `shuffle=True` means that the dataset will be shuffled before splitting into folds. Note that the samples within each split will not be shuffled.\n",
    "  * `random_state=0` make the split reproducible."
   ]
  },
  {
   "cell_type": "code",
   "execution_count": 46,
   "id": "38a5ab4d-f193-41f9-aae4-3a642e9ca385",
   "metadata": {
    "id": "eiFkvdIopdib"
   },
   "outputs": [],
   "source": [
    "# Set up the k-fold cross-validation\n",
    "kfold = StratifiedKFold(\n",
    "    n_splits=3,\n",
    "    shuffle=True,\n",
    "    random_state=0)"
   ]
  },
  {
   "cell_type": "markdown",
   "id": "16aadef7-b49d-4802-9ac1-3c5a4d38d663",
   "metadata": {
    "id": "VtM5ziZiph5U"
   },
   "source": [
    "Then an objective function is defined. \n",
    " * `XGBClassifier` is used as the model algorithm. `seed=0` makes the model results reproducible. `**params` takes in the hyperparameter values.\n",
    " * `cross_val_score` produces k scores, one for each of the k folds. We get the mean of the k scores and output the average value. \n",
    "  * `estimator` takes the estimator to fit the data. \n",
    "  * `X` takes the training dataset feature matrix and `y` takes the target variable for the training dataset. \n",
    "  * `cv` determines the cross-validation splitting strategy. We set `cv=kfold`, which is the output from the `StratifiedKFold`. \n",
    "  * `scoring='recall'` means that `recall` is the key metric for the model. \n",
    "  * `n_jobs=-1` enables parallel model training. \n",
    " * Next, `loss` is defined. Because the model's goal is to maximize recall, it is the same as minimizing negative recall, so we set `loss = - score`.\n",
    " * The function returns a dictionary with `loss`, `params`, and `status`."
   ]
  },
  {
   "cell_type": "code",
   "execution_count": 47,
   "id": "ff9e8d9b-e919-44dd-b8aa-af7992396a21",
   "metadata": {
    "id": "3EeChF3jqN4D"
   },
   "outputs": [],
   "source": [
    "# Objective function\n",
    "def objective(params):\n",
    "    \n",
    "    xgboost = XGBClassifier(seed=42, **params)\n",
    "    score = cross_val_score(estimator=xgboost, \n",
    "                            X=X_train_transformed, \n",
    "                            y=y_train, \n",
    "                            cv=kfold, \n",
    "                            scoring='recall', \n",
    "                            n_jobs=-1).mean()\n",
    "\n",
    "    # Loss is negative score\n",
    "    loss = - score\n",
    "\n",
    "    # Dictionary with information for evaluation\n",
    "    return {'loss': loss, 'params': params, 'status': STATUS_OK}"
   ]
  },
  {
   "cell_type": "markdown",
   "id": "a21b12af-7cbf-49d0-91b5-48ce43ec0db3",
   "metadata": {
    "id": "evxcNNjD-Jl5"
   },
   "source": [
    "`fmin` is the function to search the best hyperparameters with the smallest loss value.\n",
    "* `fn` takes in the objective function.\n",
    "* `space` is for the search space of the hyperparameters.\n",
    "* `algo` is for the type of search algorithms. Hyperopt currently has three algorithms,  random search, Tree of Parzen Estimators (TPE), and adaptive TPE. We are using TPE as the search algorithm.\n",
    "* `max_evals` specifies the maximum number of evaluations.\n",
    "* `trials` stores the information for the evaluations."
   ]
  },
  {
   "cell_type": "code",
   "execution_count": 48,
   "id": "15e4f65c-1f5b-4ec6-afcf-87af5a4024e3",
   "metadata": {
    "colab": {
     "base_uri": "https://localhost:8080/"
    },
    "id": "nMWPQ-UDqXsz",
    "outputId": "f59409c0-a8ed-4cea-b0f3-d17e27a26770"
   },
   "outputs": [
    {
     "name": "stdout",
     "output_type": "stream",
     "text": [
      "100%|████████| 48/48 [00:05<00:00,  8.63trial/s, best loss: -0.9860014619883041]\n"
     ]
    }
   ],
   "source": [
    "# Optimize\n",
    "best = fmin(\n",
    "    fn = objective,\n",
    "    space = space,\n",
    "    algo = tpe.suggest,\n",
    "    max_evals = 48,\n",
    "    trials = Trials())"
   ]
  },
  {
   "cell_type": "code",
   "execution_count": 49,
   "id": "8c9c0185-8629-4da1-ad32-466ff55fca7e",
   "metadata": {
    "colab": {
     "base_uri": "https://localhost:8080/"
    },
    "id": "BOuuBEQeVdf0",
    "outputId": "91400b62-1861-460f-8534-31f7b7677f6b"
   },
   "outputs": [
    {
     "name": "stdout",
     "output_type": "stream",
     "text": [
      "{'colsample_bytree': 6, 'gamma': 0, 'learning_rate': 4, 'max_depth': 1, 'reg_alpha': 2, 'reg_lambda': 3}\n",
      "{'colsample_bytree': 0.9, 'gamma': 0.0, 'learning_rate': 1, 'max_depth': 6, 'reg_alpha': 0.1, 'reg_lambda': 1}\n"
     ]
    }
   ],
   "source": [
    "# Print the index of the best parameters\n",
    "print(best)\n",
    "\n",
    "# Print the values of the best parameters\n",
    "print(space_eval(space, best))"
   ]
  },
  {
   "cell_type": "markdown",
   "id": "6d6ed69b-902b-45ba-a8de-3b89502d810b",
   "metadata": {
    "id": "uyP4ma-89NJz"
   },
   "source": [
    "Next, we apply the best hyperparameters to the `XGBClassifier` and make predictions."
   ]
  },
  {
   "cell_type": "code",
   "execution_count": 50,
   "id": "bcb6b98b-c3be-475e-bafa-bc3b5c89a154",
   "metadata": {
    "id": "cU_JLOuUZfel"
   },
   "outputs": [],
   "source": [
    "# Train model using the best parameters\n",
    "xgboost_bo = XGBClassifier(seed=0, \n",
    "                           colsample_bytree=space_eval(space, best)['colsample_bytree'], \n",
    "                           gamma=space_eval(space, best)['gamma'], \n",
    "                           learning_rate=space_eval(space, best)['learning_rate'], \n",
    "                           max_depth=space_eval(space, best)['max_depth'], \n",
    "                           reg_alpha=space_eval(space, best)['reg_alpha'],\n",
    "                           reg_lambda=space_eval(space, best)['reg_lambda']\n",
    "                           ).fit(X_train_transformed,y_train)"
   ]
  },
  {
   "cell_type": "code",
   "execution_count": 52,
   "id": "80ce9794-f614-4e7d-b836-e3fb039ec748",
   "metadata": {
    "colab": {
     "base_uri": "https://localhost:8080/"
    },
    "id": "IMToxe5jY5kc",
    "outputId": "413b8db1-da65-4a2f-d874-7286be3880ae"
   },
   "outputs": [
    {
     "name": "stdout",
     "output_type": "stream",
     "text": [
      "The recall value for the xgboost Bayesian optimization is 0.9859\n"
     ]
    }
   ],
   "source": [
    "# Make prediction using the best model\n",
    "bayesian_opt_predict = xgboost_bo.predict(X_test_transformed)\n",
    "\n",
    "# Get predicted probabilities\n",
    "bayesian_opt_predict_prob = xgboost_bo.predict_proba(X_test_transformed)[:,1]\n",
    "\n",
    "# Get performance metrics\n",
    "precision, recall, fscore, support = score(y_test, bayesian_opt_predict)\n",
    "\n",
    "# Print result\n",
    "print(f'The recall value for the xgboost Bayesian optimization is {recall[1]:.4f}')"
   ]
  },
  {
   "cell_type": "code",
   "execution_count": 53,
   "id": "f3e7b24f-8f62-41db-84e0-d0f756f1837d",
   "metadata": {},
   "outputs": [
    {
     "name": "stdout",
     "output_type": "stream",
     "text": [
      "Precision: 0.959\n",
      "Recall: 0.986\n",
      "F1: 0.972\n",
      "Accuracy: 0.965\n"
     ]
    }
   ],
   "source": [
    "print('Precision: %.3f' % precision_score(y_test, bayesian_opt_predict))\n",
    "print('Recall: %.3f' % recall_score(y_test, bayesian_opt_predict))\n",
    "print('F1: %.3f' % f1_score(y_test, bayesian_opt_predict))\n",
    "print('Accuracy: %.3f' % accuracy_score(y_test, bayesian_opt_predict))"
   ]
  },
  {
   "cell_type": "markdown",
   "id": "bb10deca-3cf2-4da7-8416-578cc01a6129",
   "metadata": {
    "id": "WiGJzabJ-MKV"
   },
   "source": [
    "# Summary"
   ]
  },
  {
   "cell_type": "code",
   "execution_count": 79,
   "id": "a4364ac6-b67a-4d2e-bad9-a2dc17f7acff",
   "metadata": {},
   "outputs": [],
   "source": [
    "result = { 'metrics':['Precision','Recall','F1','Accuracy'],\n",
    "          'xgb_standart':\n",
    "              [0.959,\n",
    "               1.000,\n",
    "               0.979,\n",
    "               0.974],\n",
    "          'xgb_grid_search':\n",
    "              [0.972,\n",
    "               0.986,\n",
    "               0.979,\n",
    "               0.974],\n",
    "           'xgb_random_search':\n",
    "              [0.959,\n",
    "               0.986,\n",
    "               0.972,\n",
    "               0.965],          \n",
    "           'xgb_bay_opt':\n",
    "              [0.959,\n",
    "               0.986,\n",
    "               0.972,\n",
    "               0.965]\n",
    "}"
   ]
  },
  {
   "cell_type": "code",
   "execution_count": 80,
   "id": "24c9a0c1-1b3f-4bdc-b6d8-af1be9528383",
   "metadata": {},
   "outputs": [
    {
     "data": {
      "text/html": [
       "<div>\n",
       "<style scoped>\n",
       "    .dataframe tbody tr th:only-of-type {\n",
       "        vertical-align: middle;\n",
       "    }\n",
       "\n",
       "    .dataframe tbody tr th {\n",
       "        vertical-align: top;\n",
       "    }\n",
       "\n",
       "    .dataframe thead th {\n",
       "        text-align: right;\n",
       "    }\n",
       "</style>\n",
       "<table border=\"1\" class=\"dataframe\">\n",
       "  <thead>\n",
       "    <tr style=\"text-align: right;\">\n",
       "      <th></th>\n",
       "      <th>metrics</th>\n",
       "      <th>xgb_standart</th>\n",
       "      <th>xgb_grid_search</th>\n",
       "      <th>xgb_random_search</th>\n",
       "      <th>xgb_bay_opt</th>\n",
       "    </tr>\n",
       "  </thead>\n",
       "  <tbody>\n",
       "    <tr>\n",
       "      <th>0</th>\n",
       "      <td>Precision</td>\n",
       "      <td>0.959</td>\n",
       "      <td>0.972</td>\n",
       "      <td>0.959</td>\n",
       "      <td>0.959</td>\n",
       "    </tr>\n",
       "    <tr>\n",
       "      <th>1</th>\n",
       "      <td>Recall</td>\n",
       "      <td>1.000</td>\n",
       "      <td>0.986</td>\n",
       "      <td>0.986</td>\n",
       "      <td>0.986</td>\n",
       "    </tr>\n",
       "    <tr>\n",
       "      <th>2</th>\n",
       "      <td>F1</td>\n",
       "      <td>0.979</td>\n",
       "      <td>0.979</td>\n",
       "      <td>0.972</td>\n",
       "      <td>0.972</td>\n",
       "    </tr>\n",
       "    <tr>\n",
       "      <th>3</th>\n",
       "      <td>Accuracy</td>\n",
       "      <td>0.974</td>\n",
       "      <td>0.974</td>\n",
       "      <td>0.965</td>\n",
       "      <td>0.965</td>\n",
       "    </tr>\n",
       "  </tbody>\n",
       "</table>\n",
       "</div>"
      ],
      "text/plain": [
       "     metrics  xgb_standart  xgb_grid_search  xgb_random_search  xgb_bay_opt\n",
       "0  Precision         0.959            0.972              0.959        0.959\n",
       "1     Recall         1.000            0.986              0.986        0.986\n",
       "2         F1         0.979            0.979              0.972        0.972\n",
       "3   Accuracy         0.974            0.974              0.965        0.965"
      ]
     },
     "execution_count": 80,
     "metadata": {},
     "output_type": "execute_result"
    }
   ],
   "source": [
    "result_df = pd.DataFrame.from_dict(result)\n",
    "result_df"
   ]
  },
  {
   "cell_type": "markdown",
   "id": "2304c251-f056-4e06-a00a-52de33dd08e0",
   "metadata": {
    "id": "OfIFG8_f-fDI"
   },
   "source": [
    "In practice, random search and Bayesian optimization usually have better performance than the grid search because they can tune more parameters on wider ranges of values."
   ]
  },
  {
   "cell_type": "markdown",
   "id": "1884d502-160e-40e7-b2a4-858b8c25cd11",
   "metadata": {
    "id": "1-FxiavJMirS"
   },
   "source": [
    "# Recommended Tutorials"
   ]
  },
  {
   "cell_type": "markdown",
   "id": "5c3dcb10-7c77-49d5-a8e8-d41b0561cdc8",
   "metadata": {
    "id": "ENRJflZSMvPb"
   },
   "source": [
    "* [GrabNGoInfo Machine Learning Tutorials Inventory](https://medium.com/grabngoinfo/grabngoinfo-machine-learning-tutorials-inventory-9b9d78ebdd67)\n",
    "- [One-Class SVM For Anomaly Detection](https://medium.com/p/one-class-svm-for-anomaly-detection-6c97fdd6d8af)\n",
    "- [3 Ways for Multiple Time Series Forecasting Using Prophet in Python](https://medium.com/p/3-ways-for-multiple-time-series-forecasting-using-prophet-in-python-7a0709a117f9)\n",
    "- [Four Oversampling And Under-Sampling Methods For Imbalanced Classification Using Python](https://medium.com/p/four-oversampling-and-under-sampling-methods-for-imbalanced-classification-using-python-7304aedf9037)\n",
    "- [Multivariate Time Series Forecasting with Seasonality and Holiday Effect Using Prophet in Python](https://medium.com/p/multivariate-time-series-forecasting-with-seasonality-and-holiday-effect-using-prophet-in-python-d5d4150eeb57)\n",
    "- [How to detect outliers | Data Science Interview Questions and Answers](https://medium.com/p/how-to-detect-outliers-data-science-interview-questions-and-answers-1e400284f6b4)\n",
    "- [Time Series Anomaly Detection Using Prophet in Python](https://medium.com/p/time-series-anomaly-detection-using-prophet-in-python-877d2b7b14b4)\n",
    "- [How to Use R with Google Colab Notebook](https://medium.com/p/how-to-use-r-with-google-colab-notebook-610c3a2f0eab)\n",
    "- [Hyperparameter Tuning For XGBoost](https://medium.com/p/hyperparameter-tuning-for-xgboost-91449869c57e)\n",
    "- [Sentiment Analysis Without Modeling: TextBlob vs. VADER vs. Flair](https://medium.com/p/sentiment-analysis-without-modeling-textblob-vs-vader-vs-flair-657b7af855f4)\n",
    "- [Time Series Anomaly Detection Using Prophet in Python](https://medium.com/grabngoinfo/time-series-anomaly-detection-using-prophet-in-python-877d2b7b14b4)"
   ]
  },
  {
   "cell_type": "markdown",
   "id": "6f104513-23f5-437b-a945-ae67f74b10ac",
   "metadata": {
    "id": "t6Xp7sh1cFHp"
   },
   "source": [
    "# References"
   ]
  },
  {
   "cell_type": "markdown",
   "id": "f9286f45-749a-47ab-afaa-11c1910a07a2",
   "metadata": {
    "id": "1N-5FR1pcHgv"
   },
   "source": [
    "* [Python sklearn model selection documentation](https://scikit-learn.org/stable/modules/classes.html#module-sklearn.model_selection)\n",
    "* [Python sklearn GridSearchCV documentation](https://scikit-learn.org/stable/modules/generated/sklearn.model_selection.GridSearchCV.html)\n",
    "* [Python sklearn RandomizedSearchCV documentation](https://scikit-learn.org/stable/modules/generated/sklearn.model_selection.RandomizedSearchCV.html)\n",
    "* [Python sklearn StratifiedKFold documentation](https://scikit-learn.org/stable/modules/generated/sklearn.model_selection.StratifiedKFold.html)\n",
    "* [XGBoost Parameters](https://xgboost.readthedocs.io/en/latest/parameter.html)\n",
    "* [Hyperopt documentation](http://hyperopt.github.io/hyperopt/)\n",
    "* [Hyperopt Github](https://github.com/hyperopt/hyperopt/wiki/FMin)\n",
    "* [max_delta_step in xgboost](https://stats.stackexchange.com/questions/233248/max-delta-step-in-xgboost)\n",
    "* Source [GrabNGoInfo.com](https://grabngoinfo.com/tutorials/)"
   ]
  },
  {
   "cell_type": "code",
   "execution_count": null,
   "id": "f0670d79-33a3-4319-b933-fc80a96b0564",
   "metadata": {},
   "outputs": [],
   "source": []
  }
 ],
 "metadata": {
  "kernelspec": {
   "display_name": "Python 3 (ipykernel)",
   "language": "python",
   "name": "python3"
  },
  "language_info": {
   "codemirror_mode": {
    "name": "ipython",
    "version": 3
   },
   "file_extension": ".py",
   "mimetype": "text/x-python",
   "name": "python",
   "nbconvert_exporter": "python",
   "pygments_lexer": "ipython3",
   "version": "3.10.9"
  }
 },
 "nbformat": 4,
 "nbformat_minor": 5
}
