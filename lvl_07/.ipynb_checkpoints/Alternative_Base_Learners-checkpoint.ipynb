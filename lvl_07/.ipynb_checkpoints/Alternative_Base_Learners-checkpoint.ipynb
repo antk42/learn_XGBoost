{
 "cells": [
  {
   "cell_type": "markdown",
   "id": "56ad7a7e-9049-46cc-9aa2-787af460825c",
   "metadata": {},
   "source": [
    "# Libs:"
   ]
  },
  {
   "cell_type": "code",
   "execution_count": 1,
   "id": "6d9c389b-4160-41b6-80e1-612608ed23da",
   "metadata": {},
   "outputs": [],
   "source": [
    "import pandas as pd\n",
    "import numpy as np\n",
    "\n",
    "from sklearn.datasets import load_diabetes\n",
    "\n",
    "from sklearn.model_selection import cross_val_score\n",
    "from sklearn.model_selection import GridSearchCV\n",
    "from sklearn.model_selection import KFold\n",
    "\n",
    "from sklearn.ensemble import RandomForestRegressor, RandomForestClassifier\n",
    "\n",
    "from sklearn.linear_model import LinearRegression, LogisticRegression\n",
    "from sklearn.linear_model import Lasso, Ridge\n",
    "\n",
    "from sklearn.metrics import mean_squared_error as MSE\n",
    "\n",
    "from xgboost import XGBRegressor, XGBClassifier, XGBRFRegressor, XGBRFClassifier"
   ]
  },
  {
   "cell_type": "code",
   "execution_count": 2,
   "id": "921d2edb-8c2b-4250-9de2-88d45402c237",
   "metadata": {},
   "outputs": [],
   "source": [
    "X, y = load_diabetes(return_X_y=True)"
   ]
  },
  {
   "cell_type": "code",
   "execution_count": 10,
   "id": "e0d4987f-6235-48ba-a894-3731bf0b4ca1",
   "metadata": {},
   "outputs": [],
   "source": [
    "kfold = KFold(\n",
    "    n_splits=5,\n",
    "    shuffle=True,\n",
    "    random_state=2\n",
    ")"
   ]
  },
  {
   "cell_type": "markdown",
   "id": "1c3d8f37-1aba-4670-aeb2-644a301af546",
   "metadata": {},
   "source": [
    "# regression_model"
   ]
  },
  {
   "cell_type": "code",
   "execution_count": 4,
   "id": "9d3af211-3619-44ee-850b-0ac802d961b3",
   "metadata": {},
   "outputs": [],
   "source": [
    "def regression_model(model):\n",
    "    # Obtain scores of cross-validation using 10 splits and mean squared error\n",
    "    scores = cross_val_score(model, X, y, scoring='neg_mean_squared_error', cv=kfold)\n",
    "\n",
    "    # Take square root of the scores\n",
    "    rmse = (-scores)**0.5\n",
    "\n",
    "    # Return mean score\n",
    "    return rmse.mean()"
   ]
  },
  {
   "cell_type": "code",
   "execution_count": 5,
   "id": "a5da98f1-010d-4d60-978c-160cec15a1b2",
   "metadata": {},
   "outputs": [
    {
     "data": {
      "text/plain": [
       "55.497534109140396"
      ]
     },
     "execution_count": 5,
     "metadata": {},
     "output_type": "execute_result"
    }
   ],
   "source": [
    "regression_model(XGBRegressor(\n",
    "    booster='gblinear',\n",
    "    objective='reg:squarederror'\n",
    "))"
   ]
  },
  {
   "cell_type": "code",
   "execution_count": 6,
   "id": "bcc2b8f9-33a5-4929-8ddb-561c9cba7577",
   "metadata": {},
   "outputs": [
    {
     "data": {
      "text/plain": [
       "55.50936875436023"
      ]
     },
     "execution_count": 6,
     "metadata": {},
     "output_type": "execute_result"
    }
   ],
   "source": [
    "regression_model(LinearRegression())"
   ]
  },
  {
   "cell_type": "code",
   "execution_count": 7,
   "id": "40d2a450-abb7-44e5-bbbc-3dcca67b65fe",
   "metadata": {},
   "outputs": [
    {
     "data": {
      "text/plain": [
       "62.64904114426351"
      ]
     },
     "execution_count": 7,
     "metadata": {},
     "output_type": "execute_result"
    }
   ],
   "source": [
    "regression_model(Lasso())"
   ]
  },
  {
   "cell_type": "code",
   "execution_count": 8,
   "id": "c0086a8b-36e4-4ae2-90d9-b5513ee2735a",
   "metadata": {},
   "outputs": [
    {
     "data": {
      "text/plain": [
       "58.835292374356676"
      ]
     },
     "execution_count": 8,
     "metadata": {},
     "output_type": "execute_result"
    }
   ],
   "source": [
    "regression_model(Ridge())"
   ]
  },
  {
   "cell_type": "code",
   "execution_count": 9,
   "id": "fe881ad7-2a9c-4ed7-8c30-eee30273c263",
   "metadata": {},
   "outputs": [
    {
     "data": {
      "text/plain": [
       "65.9125519300286"
      ]
     },
     "execution_count": 9,
     "metadata": {},
     "output_type": "execute_result"
    }
   ],
   "source": [
    "regression_model(XGBRegressor(\n",
    "    booster='gbtree',\n",
    "    objective='reg:squarederror'\n",
    "))"
   ]
  },
  {
   "cell_type": "markdown",
   "id": "a4d820cf-5913-4df1-8145-0ef95487e627",
   "metadata": {},
   "source": [
    "# grid_search"
   ]
  },
  {
   "cell_type": "code",
   "execution_count": 11,
   "id": "7e6d9f5d-f90f-40d3-9810-f1fb31537371",
   "metadata": {},
   "outputs": [],
   "source": [
    "def grid_search(\n",
    "    params,\n",
    "    reg=XGBRegressor(booster='gblinear',\n",
    "                     objective='reg:squarederror')):\n",
    "\n",
    "    # Instantiate GridSearchCV as grid_reg\n",
    "    grid_reg = GridSearchCV(reg,\n",
    "                            params,\n",
    "                            scoring='neg_mean_squared_error',\n",
    "                            cv=kfold)\n",
    "    \n",
    "    # Fit grid_reg on X_train and y_train\n",
    "    grid_reg.fit(X, y)\n",
    "\n",
    "    # Extract best params\n",
    "    best_params = grid_reg.best_params_\n",
    "\n",
    "    # Print best params\n",
    "    print(\"Best params:\", best_params)\n",
    "    \n",
    "    # Compute best score\n",
    "    best_score = np.sqrt(-grid_reg.best_score_)\n",
    "\n",
    "    # Print best score\n",
    "    print(\"Best score:\", best_score)"
   ]
  },
  {
   "cell_type": "code",
   "execution_count": 12,
   "id": "0d8aca60-af03-41f5-8915-6479ffd93106",
   "metadata": {},
   "outputs": [
    {
     "name": "stdout",
     "output_type": "stream",
     "text": [
      "Best params: {'reg_alpha': 0.01}\n",
      "Best score: 55.485563465849076\n"
     ]
    }
   ],
   "source": [
    "grid_search(\n",
    "    params={\n",
    "        'reg_alpha':[0.001, 0.01, 0.1, 0.5, 1, 5]\n",
    "    })"
   ]
  },
  {
   "cell_type": "code",
   "execution_count": 13,
   "id": "903cb38a-9ce0-4e3d-ab14-4d1bde62ca47",
   "metadata": {},
   "outputs": [
    {
     "name": "stdout",
     "output_type": "stream",
     "text": [
      "Best params: {'reg_lambda': 0.001}\n",
      "Best score: 56.171699754180274\n"
     ]
    }
   ],
   "source": [
    "grid_search(\n",
    "    params={\n",
    "        'reg_lambda':[0.001, 0.01, 0.1, 0.5, 1, 5]\n",
    "    })"
   ]
  },
  {
   "cell_type": "code",
   "execution_count": 14,
   "id": "6ab9033f-e265-4860-9969-3092f7e9f103",
   "metadata": {},
   "outputs": [
    {
     "name": "stdout",
     "output_type": "stream",
     "text": [
      "Best params: {'feature_selector': 'shuffle'}\n",
      "Best score: 55.51900448347787\n"
     ]
    }
   ],
   "source": [
    "grid_search(\n",
    "    params={\n",
    "        'feature_selector':['shuffle']\n",
    "    })"
   ]
  },
  {
   "cell_type": "code",
   "execution_count": 15,
   "id": "0c892f3a-1cc5-4b97-bedd-01cc98ec994d",
   "metadata": {},
   "outputs": [
    {
     "name": "stdout",
     "output_type": "stream",
     "text": [
      "Best params: {'feature_selector': 'thrifty', 'updater': 'coord_descent'}\n",
      "Best score: 55.488143951136536\n"
     ]
    }
   ],
   "source": [
    "grid_search(\n",
    "    params={\n",
    "        'feature_selector':['random', 'greedy', 'thrifty'],\n",
    "        'updater':['coord_descent']\n",
    "    })"
   ]
  },
  {
   "cell_type": "code",
   "execution_count": 17,
   "id": "c1ebb4cf-6b79-473a-88fb-bfc53e7367d3",
   "metadata": {},
   "outputs": [
    {
     "name": "stdout",
     "output_type": "stream",
     "text": [
      "Best params: {'feature_selector': 'thrifty', 'top_k': 3, 'updater': 'coord_descent'}\n",
      "Best score: 55.47871836076556\n"
     ]
    }
   ],
   "source": [
    "grid_search(\n",
    "    params={\n",
    "        'feature_selector':['greedy', 'thrifty'],\n",
    "        'updater':['coord_descent'], \n",
    "        'top_k':[3, 5, 7, 9]\n",
    "    })"
   ]
  },
  {
   "cell_type": "code",
   "execution_count": 26,
   "id": "6bb077e7-57c5-43a8-8a5d-cbb865059db7",
   "metadata": {},
   "outputs": [],
   "source": [
    "X = np.arange(1,100)\n",
    "np.random.seed(2) \n",
    "y = []\n",
    "for i in X:\n",
    "    y.append(i*np.random.uniform(-0.2, 0.2))\n",
    "y = np.array(y)\n",
    "X = X.reshape(X.shape[0], 1)\n",
    "y = y.reshape(y.shape[0], 1)"
   ]
  },
  {
   "cell_type": "markdown",
   "id": "f9ce482e-645d-4c7a-ace8-cf4f190788d6",
   "metadata": {},
   "source": [
    "# regression_model"
   ]
  },
  {
   "cell_type": "code",
   "execution_count": 19,
   "id": "dcad617d-dff8-4290-8a30-2d9600f801e1",
   "metadata": {},
   "outputs": [
    {
     "data": {
      "text/plain": [
       "6.214946302686011"
      ]
     },
     "execution_count": 19,
     "metadata": {},
     "output_type": "execute_result"
    }
   ],
   "source": [
    "regression_model(\n",
    "    XGBRegressor(booster='gblinear',\n",
    "                 objective='reg:squarederror'\n",
    "                ))"
   ]
  },
  {
   "cell_type": "code",
   "execution_count": 20,
   "id": "2bcbb171-236c-4c09-bbe0-ef536c74334a",
   "metadata": {},
   "outputs": [
    {
     "data": {
      "text/plain": [
       "9.372359516507444"
      ]
     },
     "execution_count": 20,
     "metadata": {},
     "output_type": "execute_result"
    }
   ],
   "source": [
    "regression_model(\n",
    "    XGBRegressor(\n",
    "        booster='gbtree',\n",
    "        objective='reg:squarederror'\n",
    "    ))"
   ]
  },
  {
   "cell_type": "code",
   "execution_count": 21,
   "id": "16b944a3-db62-4586-b8e5-7adb958a7d88",
   "metadata": {},
   "outputs": [
    {
     "data": {
      "text/plain": [
       "6.214962315808842"
      ]
     },
     "execution_count": 21,
     "metadata": {},
     "output_type": "execute_result"
    }
   ],
   "source": [
    "regression_model(LinearRegression())"
   ]
  },
  {
   "cell_type": "code",
   "execution_count": 22,
   "id": "56dc9390-18ad-442d-b83a-697f53174863",
   "metadata": {},
   "outputs": [],
   "source": [
    "X, y = load_diabetes(return_X_y=True)"
   ]
  },
  {
   "cell_type": "code",
   "execution_count": 25,
   "id": "9ed9d254-881e-4fce-ae7a-2629c6a67155",
   "metadata": {},
   "outputs": [
    {
     "data": {
      "text/plain": [
       "65.91255196051148"
      ]
     },
     "execution_count": 25,
     "metadata": {},
     "output_type": "execute_result"
    }
   ],
   "source": [
    "regression_model(\n",
    "    XGBRegressor(\n",
    "        booster='dart',\n",
    "        objective='reg:squarederror'\n",
    "    ))"
   ]
  },
  {
   "cell_type": "markdown",
   "id": "38cf7e57-9037-4c0a-b83b-fe84af074692",
   "metadata": {},
   "source": [
    "# Classification model"
   ]
  },
  {
   "cell_type": "code",
   "execution_count": 27,
   "id": "31f5d6ac-8f86-46bd-b184-09806e13c7c3",
   "metadata": {},
   "outputs": [
    {
     "data": {
      "text/html": [
       "<div>\n",
       "<style scoped>\n",
       "    .dataframe tbody tr th:only-of-type {\n",
       "        vertical-align: middle;\n",
       "    }\n",
       "\n",
       "    .dataframe tbody tr th {\n",
       "        vertical-align: top;\n",
       "    }\n",
       "\n",
       "    .dataframe thead th {\n",
       "        text-align: right;\n",
       "    }\n",
       "</style>\n",
       "<table border=\"1\" class=\"dataframe\">\n",
       "  <thead>\n",
       "    <tr style=\"text-align: right;\">\n",
       "      <th></th>\n",
       "      <th>age</th>\n",
       "      <th>fnlwgt</th>\n",
       "      <th>education-num</th>\n",
       "      <th>capital-gain</th>\n",
       "      <th>capital-loss</th>\n",
       "      <th>hours-per-week</th>\n",
       "      <th>workclass_ ?</th>\n",
       "      <th>workclass_ Federal-gov</th>\n",
       "      <th>workclass_ Local-gov</th>\n",
       "      <th>workclass_ Never-worked</th>\n",
       "      <th>...</th>\n",
       "      <th>native-country_ Puerto-Rico</th>\n",
       "      <th>native-country_ Scotland</th>\n",
       "      <th>native-country_ South</th>\n",
       "      <th>native-country_ Taiwan</th>\n",
       "      <th>native-country_ Thailand</th>\n",
       "      <th>native-country_ Trinadad&amp;Tobago</th>\n",
       "      <th>native-country_ United-States</th>\n",
       "      <th>native-country_ Vietnam</th>\n",
       "      <th>native-country_ Yugoslavia</th>\n",
       "      <th>income_ &gt;50K</th>\n",
       "    </tr>\n",
       "  </thead>\n",
       "  <tbody>\n",
       "    <tr>\n",
       "      <th>0</th>\n",
       "      <td>39</td>\n",
       "      <td>77516</td>\n",
       "      <td>13</td>\n",
       "      <td>2174</td>\n",
       "      <td>0</td>\n",
       "      <td>40</td>\n",
       "      <td>0</td>\n",
       "      <td>0</td>\n",
       "      <td>0</td>\n",
       "      <td>0</td>\n",
       "      <td>...</td>\n",
       "      <td>0</td>\n",
       "      <td>0</td>\n",
       "      <td>0</td>\n",
       "      <td>0</td>\n",
       "      <td>0</td>\n",
       "      <td>0</td>\n",
       "      <td>1</td>\n",
       "      <td>0</td>\n",
       "      <td>0</td>\n",
       "      <td>0</td>\n",
       "    </tr>\n",
       "    <tr>\n",
       "      <th>1</th>\n",
       "      <td>50</td>\n",
       "      <td>83311</td>\n",
       "      <td>13</td>\n",
       "      <td>0</td>\n",
       "      <td>0</td>\n",
       "      <td>13</td>\n",
       "      <td>0</td>\n",
       "      <td>0</td>\n",
       "      <td>0</td>\n",
       "      <td>0</td>\n",
       "      <td>...</td>\n",
       "      <td>0</td>\n",
       "      <td>0</td>\n",
       "      <td>0</td>\n",
       "      <td>0</td>\n",
       "      <td>0</td>\n",
       "      <td>0</td>\n",
       "      <td>1</td>\n",
       "      <td>0</td>\n",
       "      <td>0</td>\n",
       "      <td>0</td>\n",
       "    </tr>\n",
       "    <tr>\n",
       "      <th>2</th>\n",
       "      <td>38</td>\n",
       "      <td>215646</td>\n",
       "      <td>9</td>\n",
       "      <td>0</td>\n",
       "      <td>0</td>\n",
       "      <td>40</td>\n",
       "      <td>0</td>\n",
       "      <td>0</td>\n",
       "      <td>0</td>\n",
       "      <td>0</td>\n",
       "      <td>...</td>\n",
       "      <td>0</td>\n",
       "      <td>0</td>\n",
       "      <td>0</td>\n",
       "      <td>0</td>\n",
       "      <td>0</td>\n",
       "      <td>0</td>\n",
       "      <td>1</td>\n",
       "      <td>0</td>\n",
       "      <td>0</td>\n",
       "      <td>0</td>\n",
       "    </tr>\n",
       "    <tr>\n",
       "      <th>3</th>\n",
       "      <td>53</td>\n",
       "      <td>234721</td>\n",
       "      <td>7</td>\n",
       "      <td>0</td>\n",
       "      <td>0</td>\n",
       "      <td>40</td>\n",
       "      <td>0</td>\n",
       "      <td>0</td>\n",
       "      <td>0</td>\n",
       "      <td>0</td>\n",
       "      <td>...</td>\n",
       "      <td>0</td>\n",
       "      <td>0</td>\n",
       "      <td>0</td>\n",
       "      <td>0</td>\n",
       "      <td>0</td>\n",
       "      <td>0</td>\n",
       "      <td>1</td>\n",
       "      <td>0</td>\n",
       "      <td>0</td>\n",
       "      <td>0</td>\n",
       "    </tr>\n",
       "    <tr>\n",
       "      <th>4</th>\n",
       "      <td>28</td>\n",
       "      <td>338409</td>\n",
       "      <td>13</td>\n",
       "      <td>0</td>\n",
       "      <td>0</td>\n",
       "      <td>40</td>\n",
       "      <td>0</td>\n",
       "      <td>0</td>\n",
       "      <td>0</td>\n",
       "      <td>0</td>\n",
       "      <td>...</td>\n",
       "      <td>0</td>\n",
       "      <td>0</td>\n",
       "      <td>0</td>\n",
       "      <td>0</td>\n",
       "      <td>0</td>\n",
       "      <td>0</td>\n",
       "      <td>0</td>\n",
       "      <td>0</td>\n",
       "      <td>0</td>\n",
       "      <td>0</td>\n",
       "    </tr>\n",
       "  </tbody>\n",
       "</table>\n",
       "<p>5 rows × 93 columns</p>\n",
       "</div>"
      ],
      "text/plain": [
       "   age  fnlwgt  education-num  capital-gain  capital-loss  hours-per-week  \\\n",
       "0   39   77516             13          2174             0              40   \n",
       "1   50   83311             13             0             0              13   \n",
       "2   38  215646              9             0             0              40   \n",
       "3   53  234721              7             0             0              40   \n",
       "4   28  338409             13             0             0              40   \n",
       "\n",
       "   workclass_ ?  workclass_ Federal-gov  workclass_ Local-gov  \\\n",
       "0             0                       0                     0   \n",
       "1             0                       0                     0   \n",
       "2             0                       0                     0   \n",
       "3             0                       0                     0   \n",
       "4             0                       0                     0   \n",
       "\n",
       "   workclass_ Never-worked  ...  native-country_ Puerto-Rico  \\\n",
       "0                        0  ...                            0   \n",
       "1                        0  ...                            0   \n",
       "2                        0  ...                            0   \n",
       "3                        0  ...                            0   \n",
       "4                        0  ...                            0   \n",
       "\n",
       "   native-country_ Scotland  native-country_ South  native-country_ Taiwan  \\\n",
       "0                         0                      0                       0   \n",
       "1                         0                      0                       0   \n",
       "2                         0                      0                       0   \n",
       "3                         0                      0                       0   \n",
       "4                         0                      0                       0   \n",
       "\n",
       "   native-country_ Thailand  native-country_ Trinadad&Tobago  \\\n",
       "0                         0                                0   \n",
       "1                         0                                0   \n",
       "2                         0                                0   \n",
       "3                         0                                0   \n",
       "4                         0                                0   \n",
       "\n",
       "   native-country_ United-States  native-country_ Vietnam  \\\n",
       "0                              1                        0   \n",
       "1                              1                        0   \n",
       "2                              1                        0   \n",
       "3                              1                        0   \n",
       "4                              0                        0   \n",
       "\n",
       "   native-country_ Yugoslavia  income_ >50K  \n",
       "0                           0             0  \n",
       "1                           0             0  \n",
       "2                           0             0  \n",
       "3                           0             0  \n",
       "4                           0             0  \n",
       "\n",
       "[5 rows x 93 columns]"
      ]
     },
     "execution_count": 27,
     "metadata": {},
     "output_type": "execute_result"
    }
   ],
   "source": [
    "df = pd.read_csv('/home/antonius/Projects/DS_Projects/learn_XGBoost/data/census_cleaned.csv')\n",
    "df.head()"
   ]
  },
  {
   "cell_type": "code",
   "execution_count": 29,
   "id": "0698f836-9541-4e35-a3a4-ba247f97c709",
   "metadata": {},
   "outputs": [],
   "source": [
    "X_census = df.iloc[:, :-1]\n",
    "y_census = df.iloc[:, -1]"
   ]
  },
  {
   "cell_type": "code",
   "execution_count": 31,
   "id": "7cc1f6b9-0ce4-4009-b236-02a1716b5368",
   "metadata": {},
   "outputs": [],
   "source": [
    "def classification_model(model):\n",
    "    # Obtain scores of cross-validation using 10 splits and mean squared error\n",
    "    scores = cross_val_score(\n",
    "        model,\n",
    "        X_census,\n",
    "        y_census,\n",
    "        scoring='accuracy',\n",
    "        cv=kfold)\n",
    "\n",
    "    # Return mean score\n",
    "    return scores.mean()"
   ]
  },
  {
   "cell_type": "code",
   "execution_count": 32,
   "id": "4a48952a-e47a-424d-8628-3c351fd74d7e",
   "metadata": {},
   "outputs": [
    {
     "data": {
      "text/plain": [
       "0.8701208195968675"
      ]
     },
     "execution_count": 32,
     "metadata": {},
     "output_type": "execute_result"
    }
   ],
   "source": [
    "classification_model(XGBClassifier(booster='gbtree'))"
   ]
  },
  {
   "cell_type": "code",
   "execution_count": 33,
   "id": "a5b55e40-b05c-4385-8d5f-56417c615123",
   "metadata": {},
   "outputs": [
    {
     "data": {
      "text/plain": [
       "0.8701208195968675"
      ]
     },
     "execution_count": 33,
     "metadata": {},
     "output_type": "execute_result"
    }
   ],
   "source": [
    "classification_model(XGBClassifier(booster='dart'))"
   ]
  },
  {
   "cell_type": "code",
   "execution_count": 34,
   "id": "0cc40440-bafe-4387-b4cb-519cf5fdabc0",
   "metadata": {},
   "outputs": [
    {
     "data": {
      "text/plain": [
       "0.8503425628425628"
      ]
     },
     "execution_count": 34,
     "metadata": {},
     "output_type": "execute_result"
    }
   ],
   "source": [
    "classification_model(XGBClassifier(booster='gblinear'))"
   ]
  },
  {
   "cell_type": "code",
   "execution_count": 35,
   "id": "bf71a66d-1bbc-4737-90c6-68369ef17399",
   "metadata": {},
   "outputs": [
    {
     "data": {
      "text/plain": [
       "0.7968120977851517"
      ]
     },
     "execution_count": 35,
     "metadata": {},
     "output_type": "execute_result"
    }
   ],
   "source": [
    "classification_model(LogisticRegression(max_iter=1000))"
   ]
  },
  {
   "cell_type": "code",
   "execution_count": 36,
   "id": "4afecc52-e98c-462d-9e6a-d373bf3e688c",
   "metadata": {},
   "outputs": [
    {
     "data": {
      "text/plain": [
       "0.8726699407837133"
      ]
     },
     "execution_count": 36,
     "metadata": {},
     "output_type": "execute_result"
    }
   ],
   "source": [
    "classification_model(XGBClassifier(booster='dart', one_drop=1))"
   ]
  },
  {
   "cell_type": "code",
   "execution_count": 37,
   "id": "9230abfd-0409-4530-8d94-6fb1d543d15b",
   "metadata": {},
   "outputs": [
    {
     "data": {
      "text/plain": [
       "9.372359645069041"
      ]
     },
     "execution_count": 37,
     "metadata": {},
     "output_type": "execute_result"
    }
   ],
   "source": [
    "regression_model(XGBRegressor(booster='dart', objective='reg:squarederror', sample_type='weighted'))"
   ]
  },
  {
   "cell_type": "code",
   "execution_count": 38,
   "id": "7a2dc896-e5c6-4857-a107-e8db060c5c0c",
   "metadata": {},
   "outputs": [
    {
     "data": {
      "text/plain": [
       "9.372359645069041"
      ]
     },
     "execution_count": 38,
     "metadata": {},
     "output_type": "execute_result"
    }
   ],
   "source": [
    "regression_model(XGBRegressor(booster='dart', objective='reg:squarederror', normalize_type='forest'))"
   ]
  },
  {
   "cell_type": "code",
   "execution_count": 39,
   "id": "53e9395a-413e-4598-a27b-d37e0a320220",
   "metadata": {},
   "outputs": [
    {
     "data": {
      "text/plain": [
       "9.189010699761651"
      ]
     },
     "execution_count": 39,
     "metadata": {},
     "output_type": "execute_result"
    }
   ],
   "source": [
    "regression_model(XGBRegressor(booster='dart', objective='reg:squarederror', one_drop=1))"
   ]
  },
  {
   "cell_type": "code",
   "execution_count": 40,
   "id": "4faed777-c72c-433c-a6b2-bf37a8731201",
   "metadata": {},
   "outputs": [
    {
     "name": "stdout",
     "output_type": "stream",
     "text": [
      "Best params: {'rate_drop': 0.4}\n",
      "Best score: 7.59319045349027\n"
     ]
    }
   ],
   "source": [
    "grid_search(params={'rate_drop':[0.01, 0.1, 0.2, 0.4]}, \n",
    "            reg=XGBRegressor(booster='dart', objective='reg:squarederror', one_drop=1))"
   ]
  },
  {
   "cell_type": "code",
   "execution_count": 41,
   "id": "0ca1e5dd-3b23-4235-811c-bfd7afc1c038",
   "metadata": {},
   "outputs": [
    {
     "name": "stdout",
     "output_type": "stream",
     "text": [
      "Best params: {'skip_drop': 0.01}\n",
      "Best score: 9.371246409405156\n"
     ]
    }
   ],
   "source": [
    "grid_search(params={'skip_drop': [0.01, 0.1, 0.2, 0.4]}, \n",
    "            reg=XGBRegressor(booster='dart', objective='reg:squarederror', one_drop=1))"
   ]
  },
  {
   "cell_type": "code",
   "execution_count": 42,
   "id": "08e22672-a6d7-4de9-85f1-d9b2e4fb4b6a",
   "metadata": {},
   "outputs": [
    {
     "data": {
      "text/plain": [
       "9.372927761679424"
      ]
     },
     "execution_count": 42,
     "metadata": {},
     "output_type": "execute_result"
    }
   ],
   "source": [
    "regression_model(XGBRegressor(booster='gbtree', objective='reg:squarederror', num_parallel_tree=25))"
   ]
  },
  {
   "cell_type": "code",
   "execution_count": 43,
   "id": "5b1771c6-2db7-4690-8266-7b56916e254e",
   "metadata": {},
   "outputs": [
    {
     "data": {
      "text/plain": [
       "9.372359092157916"
      ]
     },
     "execution_count": 43,
     "metadata": {},
     "output_type": "execute_result"
    }
   ],
   "source": [
    "regression_model(XGBRegressor(booster='gbtree', objective='reg:squarederror', num_parallel_tree=5))"
   ]
  },
  {
   "cell_type": "code",
   "execution_count": 44,
   "id": "ffa48913-cda1-45bc-81d8-2a2dc97dafde",
   "metadata": {},
   "outputs": [
    {
     "data": {
      "text/plain": [
       "7.618378917775955"
      ]
     },
     "execution_count": 44,
     "metadata": {},
     "output_type": "execute_result"
    }
   ],
   "source": [
    "regression_model(XGBRFRegressor(objective='reg:squarederror'))"
   ]
  },
  {
   "cell_type": "code",
   "execution_count": 45,
   "id": "7224325c-c74d-445f-a5ea-e343fd3baec9",
   "metadata": {},
   "outputs": [
    {
     "name": "stderr",
     "output_type": "stream",
     "text": [
      "/home/antonius/.local/lib/python3.10/site-packages/sklearn/model_selection/_validation.py:686: DataConversionWarning: A column-vector y was passed when a 1d array was expected. Please change the shape of y to (n_samples,), for example using ravel().\n",
      "  estimator.fit(X_train, y_train, **fit_params)\n",
      "/home/antonius/.local/lib/python3.10/site-packages/sklearn/model_selection/_validation.py:686: DataConversionWarning: A column-vector y was passed when a 1d array was expected. Please change the shape of y to (n_samples,), for example using ravel().\n",
      "  estimator.fit(X_train, y_train, **fit_params)\n",
      "/home/antonius/.local/lib/python3.10/site-packages/sklearn/model_selection/_validation.py:686: DataConversionWarning: A column-vector y was passed when a 1d array was expected. Please change the shape of y to (n_samples,), for example using ravel().\n",
      "  estimator.fit(X_train, y_train, **fit_params)\n",
      "/home/antonius/.local/lib/python3.10/site-packages/sklearn/model_selection/_validation.py:686: DataConversionWarning: A column-vector y was passed when a 1d array was expected. Please change the shape of y to (n_samples,), for example using ravel().\n",
      "  estimator.fit(X_train, y_train, **fit_params)\n",
      "/home/antonius/.local/lib/python3.10/site-packages/sklearn/model_selection/_validation.py:686: DataConversionWarning: A column-vector y was passed when a 1d array was expected. Please change the shape of y to (n_samples,), for example using ravel().\n",
      "  estimator.fit(X_train, y_train, **fit_params)\n"
     ]
    },
    {
     "data": {
      "text/plain": [
       "8.036676464631038"
      ]
     },
     "execution_count": 45,
     "metadata": {},
     "output_type": "execute_result"
    }
   ],
   "source": [
    "regression_model(RandomForestRegressor())"
   ]
  },
  {
   "cell_type": "code",
   "execution_count": 46,
   "id": "9edac13f-8527-4457-8491-5961cbcbc283",
   "metadata": {},
   "outputs": [
    {
     "data": {
      "text/plain": [
       "0.8552564498672283"
      ]
     },
     "execution_count": 46,
     "metadata": {},
     "output_type": "execute_result"
    }
   ],
   "source": [
    "classification_model(XGBRFClassifier())"
   ]
  },
  {
   "cell_type": "code",
   "execution_count": 47,
   "id": "33f24983-a2fb-4592-97a6-9aca45ddbba4",
   "metadata": {
    "scrolled": true
   },
   "outputs": [
    {
     "data": {
      "text/plain": [
       "0.8555328202034789"
      ]
     },
     "execution_count": 47,
     "metadata": {},
     "output_type": "execute_result"
    }
   ],
   "source": [
    "classification_model(RandomForestClassifier())"
   ]
  },
  {
   "cell_type": "code",
   "execution_count": null,
   "id": "d6734e30-5527-4fb8-bec2-8305ca068df5",
   "metadata": {},
   "outputs": [],
   "source": []
  }
 ],
 "metadata": {
  "kernelspec": {
   "display_name": "Python 3 (ipykernel)",
   "language": "python",
   "name": "python3"
  },
  "language_info": {
   "codemirror_mode": {
    "name": "ipython",
    "version": 3
   },
   "file_extension": ".py",
   "mimetype": "text/x-python",
   "name": "python",
   "nbconvert_exporter": "python",
   "pygments_lexer": "ipython3",
   "version": "3.10.9"
  }
 },
 "nbformat": 4,
 "nbformat_minor": 5
}
